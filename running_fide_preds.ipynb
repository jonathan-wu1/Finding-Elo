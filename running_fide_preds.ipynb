{
 "cells": [
  {
   "cell_type": "code",
   "execution_count": 44,
   "metadata": {},
   "outputs": [],
   "source": [
    "import pandas as pd\n",
    "from sklearn.model_selection import train_test_split, GridSearchCV\n",
    "from sklearn.ensemble import RandomForestRegressor\n",
    "from sklearn.metrics import mean_squared_error, mean_absolute_error\n",
    "from sklearn.linear_model import ElasticNetCV\n",
    "import numpy as np\n",
    "from sklearn.metrics import r2_score\n",
    "import warnings\n",
    "import math\n",
    "# Suppress FutureWarnings\n",
    "warnings.simplefilter(action='ignore', category=FutureWarning)"
   ]
  },
  {
   "cell_type": "code",
   "execution_count": 57,
   "metadata": {},
   "outputs": [],
   "source": [
    "df = pd.read_json('data/curated/FIDE_MAIA_shifted.ndjson', lines = True)\n",
    "# df = pd.read_json('data/curated/FIDE_ALL.ndjson', lines = True)\n",
    "# df = pd.read_json(\"data/curated/FICS_MAIA.ndjson\", lines = True)\n",
    "#df = df.fillna(0)"
   ]
  },
  {
   "cell_type": "code",
   "execution_count": 58,
   "metadata": {},
   "outputs": [
    {
     "name": "stdout",
     "output_type": "stream",
     "text": [
      "40030\n",
      "32506\n",
      "28935\n",
      "28934\n",
      "28933\n",
      "28914\n"
     ]
    }
   ],
   "source": [
    "print(len(df))\n",
    "df = df[df['white'] != \"?\"]\n",
    "df = df[df['black'] != \"?\"]\n",
    "print(len(df))\n",
    "df = df[df['stockfish_eval'].apply(lambda x: len(x) > 7)]\n",
    "print(len(df))\n",
    "df = df[df['white_cpl'].apply(lambda x: isinstance(x, (list, str)) and len(x) > 0)]\n",
    "df = df[df['black_cpl'].apply(lambda x: isinstance(x, (list, str)) and len(x) > 0)]\n",
    "df = df[df['stockfish_eval'].apply(lambda x: isinstance(x, (list, str)) and len(x) > 0)]\n",
    "print(len(df))\n",
    "df = df[df['maia_cpl_w'].apply(lambda x: isinstance(x, (list, str)) and len(x) > 0)]\n",
    "df = df[df['maia_cpl_b'].apply(lambda x: isinstance(x, (list, str)) and len(x) > 0)]\n",
    "print(len(df))\n",
    "df = df[df['result'] != \"*\"]\n",
    "print(len(df))\n",
    "\n",
    "df['white_elo'] = pd.to_numeric(df['white_elo'], errors='coerce')\n",
    "df['black_elo'] = pd.to_numeric(df['black_elo'], errors='coerce')\n",
    "\n",
    "\n",
    "df[\"ECO\"] = df[\"ECO\"].astype('category')\n",
    "df[\"Opening\"] = df[\"Opening\"].astype('category')\n",
    "df[\"result\"] = df[\"result\"].astype('category')\n",
    "\n",
    "df[\"mean_elos\"] = df[['white_elo', 'black_elo']].mean(axis=1)\n",
    "df[\"diff_elos\"] = df['white_elo'] - df['black_elo']\n",
    "\n",
    "df['white_mean'] = df['white_cpl'].apply(np.mean)\n",
    "df['white_std'] = df['white_cpl'].apply(np.std)\n",
    "df['white_min'] = df['white_cpl'].apply(np.min)\n",
    "df['white_max'] = df['white_cpl'].apply(np.max)\n",
    "\n",
    "df['black_mean'] = df['black_cpl'].apply(np.mean)\n",
    "df['black_std'] = df['black_cpl'].apply(np.std)\n",
    "df['black_min'] = df['black_cpl'].apply(np.min)\n",
    "df['black_max'] = df['black_cpl'].apply(np.max)\n",
    "\n",
    "df['stockfish_mean'] = df['stockfish_eval'].apply(np.mean)\n",
    "df['stockfish_std'] = df['stockfish_eval'].apply(np.std)\n",
    "df['stockfish_min'] = df['stockfish_eval'].apply(np.min)\n",
    "df['stockfish_max'] = df['stockfish_eval'].apply(np.max)\n",
    "\n",
    "df['maia_w_mean'] = df['maia_cpl_w'].apply(np.mean)\n",
    "df['maia_w_std'] = df['maia_cpl_w'].apply(np.std)\n",
    "df['maia_w_min'] = df['maia_cpl_w'].apply(np.min)\n",
    "df['maia_w_max'] = df['maia_cpl_w'].apply(np.max)\n",
    "\n",
    "df['maia_b_mean'] = df['maia_cpl_b'].apply(np.mean)\n",
    "df['maia_b_std'] = df['maia_cpl_b'].apply(np.std)\n",
    "df['maia_b_min'] = df['maia_cpl_b'].apply(np.min)\n",
    "df['maia_b_max'] = df['maia_cpl_b'].apply(np.max)\n",
    "\n",
    "dep_var = \"mean_elos\" # 19955"
   ]
  },
  {
   "cell_type": "code",
   "execution_count": 59,
   "metadata": {},
   "outputs": [],
   "source": [
    "# df.to_json('data/curated/FIDE_MAIA_curated.ndjson', orient='records', lines=True)\n",
    "# df.read_json('data/curated/FIDE_MAIA_curated.ndjson', lines = True)"
   ]
  },
  {
   "cell_type": "code",
   "execution_count": 60,
   "metadata": {},
   "outputs": [],
   "source": [
    "cont = ['queen_moved_at', 'total_checks', 'first_check_at', 'queen_changed_at', 'total_moves', 'end_r',\n",
    " 'end_p', 'end_b', 'end_n', 'end_q', 'end_N', 'end_P', 'end_Q', 'end_B', 'end_R', 'promotion', 'can_claim_draw',\n",
    " 'white_mean', 'white_std', 'white_min', 'white_max', 'black_mean', 'black_std', 'black_min', 'black_max', 'stockfish_mean',\n",
    " 'stockfish_std', 'stockfish_min', 'stockfish_max', 'maia_w_mean',\n",
    " 'maia_w_std', 'maia_w_min', 'maia_w_max', 'maia_b_mean',\n",
    " 'maia_b_std', 'maia_b_min', 'maia_b_max']"
   ]
  },
  {
   "cell_type": "code",
   "execution_count": 61,
   "metadata": {},
   "outputs": [],
   "source": [
    "import joblib\n",
    "results = pd.get_dummies(df[\"result\"])\n",
    "\n",
    "X = pd.concat([df[cont], results], axis = 1)\n",
    "X = X.fillna(0)\n",
    "\n",
    "y1 = df[\"mean_elos\"]\n",
    "y2 = df[\"diff_elos\"]"
   ]
  },
  {
   "cell_type": "code",
   "execution_count": 67,
   "metadata": {},
   "outputs": [],
   "source": [
    "from joblib import load\n",
    "rf_mean = load('rf_mean.pkl')\n",
    "rf_diff = load('rf_diff.pkl')"
   ]
  },
  {
   "cell_type": "code",
   "execution_count": 68,
   "metadata": {},
   "outputs": [],
   "source": [
    "\n",
    "to_keep_mean = ['black_mean',\n",
    " 'white_mean',\n",
    " 'stockfish_mean',\n",
    " 'stockfish_std',\n",
    " 'white_std',\n",
    " 'first_check_at',\n",
    " 'black_std',\n",
    " 'total_moves',\n",
    " 'maia_w_mean',\n",
    " 'white_min',\n",
    " 'black_min',\n",
    " 'stockfish_min',\n",
    " 'stockfish_max',\n",
    " 'maia_b_mean',\n",
    " 'white_max',\n",
    " 'maia_w_max',\n",
    " 'maia_b_max',\n",
    " 'maia_w_min',\n",
    " 'maia_b_std',\n",
    " 'maia_b_min',\n",
    " 'black_max',\n",
    " 'maia_w_std',\n",
    " 'queen_moved_at',\n",
    " 'queen_changed_at',\n",
    " 'total_checks',\n",
    " 'end_P',\n",
    " 'end_p']\n",
    "\n",
    "\n",
    "to_keep_diff = ['0-1',\n",
    " 'stockfish_mean',\n",
    " 'stockfish_min',\n",
    " 'stockfish_max',\n",
    " '1-0',\n",
    " 'black_max',\n",
    " 'white_mean',\n",
    " 'black_mean',\n",
    " 'white_std',\n",
    " 'maia_b_mean',\n",
    " 'maia_w_max',\n",
    " 'black_std',\n",
    " 'white_max',\n",
    " 'maia_b_max',\n",
    " 'stockfish_std',\n",
    " 'maia_w_mean',\n",
    " 'maia_b_min',\n",
    " 'maia_w_std',\n",
    " 'maia_b_std',\n",
    " 'white_min',\n",
    " 'black_min',\n",
    " 'maia_w_min',\n",
    " 'total_moves',\n",
    " 'first_check_at',\n",
    " 'queen_moved_at',\n",
    " 'queen_changed_at',\n",
    " 'total_checks',\n",
    " 'end_p',\n",
    " 'end_P']\n"
   ]
  },
  {
   "cell_type": "code",
   "execution_count": 70,
   "metadata": {},
   "outputs": [],
   "source": [
    "\n",
    "pred_mean = rf_mean.predict(X[to_keep_mean])\n",
    "\n",
    "pred_diff = rf_diff.predict(X[to_keep_diff])"
   ]
  },
  {
   "cell_type": "code",
   "execution_count": 71,
   "metadata": {},
   "outputs": [],
   "source": [
    "df[\"pred_diff\"] = rf_diff.predict(X[to_keep_diff])\n",
    "df[\"pred_mean\"] = rf_mean.predict(X[to_keep_mean])"
   ]
  },
  {
   "cell_type": "code",
   "execution_count": 72,
   "metadata": {},
   "outputs": [],
   "source": [
    "df[\"white_pred\"] = df[\"pred_mean\"] + df[\"pred_diff\"]/2\n",
    "df[\"black_pred\"] = df[\"pred_mean\"] - df[\"pred_diff\"]/2"
   ]
  },
  {
   "cell_type": "code",
   "execution_count": 74,
   "metadata": {},
   "outputs": [],
   "source": [
    "# df.to_json('data/curated/FIDE_MAIA_PREDS.ndjson', orient='records', lines=True)\n",
    "# df = pd.read_json('data/curated/FIDE_MAIA_PREDS.ndjson', lines=True)"
   ]
  },
  {
   "cell_type": "code",
   "execution_count": 75,
   "metadata": {},
   "outputs": [],
   "source": [
    "white_actual = []\n",
    "black_actual = []\n",
    "for ind, row in df.iterrows():\n",
    "    white_actual.append(row[\"white_elo\"])\n",
    "    black_actual.append(row[\"black_elo\"])\n",
    "\n",
    "all_actual = white_actual + black_actual"
   ]
  },
  {
   "cell_type": "code",
   "execution_count": 76,
   "metadata": {},
   "outputs": [],
   "source": [
    "white_pred = []\n",
    "black_pred = []\n",
    "for ind, row in df.iterrows():\n",
    "    white_pred.append(row[\"white_pred\"])\n",
    "    black_pred.append(row[\"black_pred\"])\n",
    "\n",
    "all_preds = white_pred + black_pred"
   ]
  },
  {
   "cell_type": "code",
   "execution_count": 77,
   "metadata": {},
   "outputs": [
    {
     "name": "stdout",
     "output_type": "stream",
     "text": [
      "346.89167030260666\n"
     ]
    }
   ],
   "source": [
    "import numpy as np\n",
    "from sklearn.metrics import mean_absolute_error\n",
    "\n",
    "# Convert to numpy arrays if they aren't already\n",
    "all_actual = np.array(all_actual)\n",
    "all_preds = np.array(all_preds)\n",
    "\n",
    "# Create a mask to filter out NaN values\n",
    "mask = ~np.isnan(all_actual) & ~np.isnan(all_preds)\n",
    "\n",
    "# Filter the data\n",
    "all_actual_clean = all_actual[mask]\n",
    "all_preds_clean = all_preds[mask]\n",
    "\n",
    "# Calculate MAE\n",
    "mae = mean_absolute_error(all_actual_clean, all_preds_clean)\n",
    "print(mae)"
   ]
  },
  {
   "cell_type": "code",
   "execution_count": 78,
   "metadata": {},
   "outputs": [
    {
     "data": {
      "text/plain": [
       "46277"
      ]
     },
     "execution_count": 78,
     "metadata": {},
     "output_type": "execute_result"
    }
   ],
   "source": [
    "len(all_actual_clean)"
   ]
  }
 ],
 "metadata": {
  "kernelspec": {
   "display_name": "py310",
   "language": "python",
   "name": "python3"
  },
  "language_info": {
   "codemirror_mode": {
    "name": "ipython",
    "version": 3
   },
   "file_extension": ".py",
   "mimetype": "text/x-python",
   "name": "python",
   "nbconvert_exporter": "python",
   "pygments_lexer": "ipython3",
   "version": "3.10.11"
  }
 },
 "nbformat": 4,
 "nbformat_minor": 2
}
