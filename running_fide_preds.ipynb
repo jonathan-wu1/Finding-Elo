{
 "cells": [
  {
   "cell_type": "code",
   "execution_count": 139,
   "metadata": {},
   "outputs": [],
   "source": [
    "import pandas as pd\n",
    "from sklearn.model_selection import train_test_split, GridSearchCV\n",
    "from sklearn.ensemble import RandomForestRegressor\n",
    "from sklearn.metrics import mean_squared_error, mean_absolute_error\n",
    "from sklearn.linear_model import ElasticNetCV\n",
    "import numpy as np\n",
    "from sklearn.metrics import r2_score\n",
    "import warnings\n",
    "import math\n",
    "# Suppress FutureWarnings\n",
    "warnings.simplefilter(action='ignore', category=FutureWarning)"
   ]
  },
  {
   "cell_type": "code",
   "execution_count": 145,
   "metadata": {},
   "outputs": [],
   "source": [
    "df = pd.read_json('data/curated/FIDE_MAIA_shifted.ndjson', lines = True)\n",
    "# df = pd.read_json('data/curated/FIDE_ALL.ndjson', lines = True)\n",
    "#df = pd.read_json(\"data/raw/stockfish_150.ndjson\", lines = True)\n",
    "#df = df.fillna(0)"
   ]
  },
  {
   "cell_type": "code",
   "execution_count": 146,
   "metadata": {},
   "outputs": [
    {
     "name": "stdout",
     "output_type": "stream",
     "text": [
      "40030\n",
      "32506\n",
      "28935\n",
      "28934\n",
      "28933\n"
     ]
    }
   ],
   "source": [
    "print(len(df))\n",
    "df = df[df['white'] != \"?\"]\n",
    "df = df[df['black'] != \"?\"]\n",
    "print(len(df))\n",
    "df = df[df['stockfish_eval'].apply(lambda x: len(x) > 7)]\n",
    "print(len(df))\n",
    "df = df[df['white_cpl'].apply(lambda x: isinstance(x, (list, str)) and len(x) > 0)]\n",
    "df = df[df['black_cpl'].apply(lambda x: isinstance(x, (list, str)) and len(x) > 0)]\n",
    "df = df[df['stockfish_eval'].apply(lambda x: isinstance(x, (list, str)) and len(x) > 0)]\n",
    "print(len(df))\n",
    "df = df[df['maia_cpl_w'].apply(lambda x: isinstance(x, (list, str)) and len(x) > 0)]\n",
    "df = df[df['maia_cpl_b'].apply(lambda x: isinstance(x, (list, str)) and len(x) > 0)]\n",
    "print(len(df))\n",
    "\n",
    "df['white_elo'] = pd.to_numeric(df['white_elo'], errors='coerce')\n",
    "df['black_elo'] = pd.to_numeric(df['black_elo'], errors='coerce')\n",
    "\n",
    "\n",
    "df[\"ECO\"] = df[\"ECO\"].astype('category')\n",
    "df[\"Opening\"] = df[\"Opening\"].astype('category')\n",
    "df[\"result\"] = df[\"result\"].astype('category')\n",
    "\n",
    "df[\"mean_elos\"] = df[['white_elo', 'black_elo']].mean(axis=1)\n",
    "df[\"diff_elos\"] = df['white_elo'] - df['black_elo']\n",
    "\n",
    "df['white_mean'] = df['white_cpl'].apply(np.mean)\n",
    "df['white_std'] = df['white_cpl'].apply(np.std)\n",
    "df['white_min'] = df['white_cpl'].apply(np.min)\n",
    "df['white_max'] = df['white_cpl'].apply(np.max)\n",
    "\n",
    "df['black_mean'] = df['black_cpl'].apply(np.mean)\n",
    "df['black_std'] = df['black_cpl'].apply(np.std)\n",
    "df['black_min'] = df['black_cpl'].apply(np.min)\n",
    "df['black_max'] = df['black_cpl'].apply(np.max)\n",
    "\n",
    "df['stockfish_mean'] = df['stockfish_eval'].apply(np.mean)\n",
    "df['stockfish_std'] = df['stockfish_eval'].apply(np.std)\n",
    "df['stockfish_min'] = df['stockfish_eval'].apply(np.min)\n",
    "df['stockfish_max'] = df['stockfish_eval'].apply(np.max)\n",
    "\n",
    "df['maia_w_mean'] = df['maia_cpl_w'].apply(np.mean)\n",
    "df['maia_w_std'] = df['maia_cpl_w'].apply(np.std)\n",
    "df['maia_w_min'] = df['maia_cpl_w'].apply(np.min)\n",
    "df['maia_w_max'] = df['maia_cpl_w'].apply(np.max)\n",
    "\n",
    "df['maia_b_mean'] = df['maia_cpl_b'].apply(np.mean)\n",
    "df['maia_b_std'] = df['maia_cpl_b'].apply(np.std)\n",
    "df['maia_b_min'] = df['maia_cpl_b'].apply(np.min)\n",
    "df['maia_b_max'] = df['maia_cpl_b'].apply(np.max)\n",
    "\n",
    "dep_var = \"mean_elos\" # 19955"
   ]
  },
  {
   "cell_type": "code",
   "execution_count": 6,
   "metadata": {},
   "outputs": [],
   "source": [
    "#df.to_json('data/curated/FIDE_MAIA_curated.ndjson', orient='records', lines=True)\n",
    "# df.read_json('data/curated/FIDE_MAIA_curated.ndjson', lines = True)"
   ]
  },
  {
   "cell_type": "code",
   "execution_count": 148,
   "metadata": {},
   "outputs": [],
   "source": [
    "cont = ['queen_moved_at', 'total_checks', 'first_check_at', 'queen_changed_at', 'total_moves', 'end_r',\n",
    " 'end_p', 'end_b', 'end_n', 'end_q', 'end_N', 'end_P', 'end_Q', 'end_B', 'end_R', 'promotion', 'can_claim_draw',\n",
    " 'white_mean', 'white_std', 'white_min', 'white_max', 'black_mean', 'black_std', 'black_min', 'black_max', 'stockfish_mean',\n",
    " 'stockfish_std', 'stockfish_min', 'stockfish_max', 'maia_w_mean',\n",
    " 'maia_w_std', 'maia_w_min', 'maia_w_max', 'maia_b_mean',\n",
    " 'maia_b_std', 'maia_b_min', 'maia_b_max']"
   ]
  },
  {
   "cell_type": "code",
   "execution_count": 149,
   "metadata": {},
   "outputs": [],
   "source": [
    "import joblib\n",
    "results = pd.get_dummies(df[\"result\"])\n",
    "\n",
    "X = pd.concat([df[cont], results], axis = 1)\n",
    "X = X.fillna(0)\n",
    "\n",
    "y1 = df[\"mean_elos\"]\n",
    "y2 = df[\"diff_elos\"]"
   ]
  },
  {
   "cell_type": "code",
   "execution_count": 150,
   "metadata": {},
   "outputs": [],
   "source": [
    "from joblib import load\n",
    "rf_mean = load('rf_mean.pkl')\n",
    "rf_diff = load('rf_diff.pkl')"
   ]
  },
  {
   "cell_type": "code",
   "execution_count": 151,
   "metadata": {},
   "outputs": [],
   "source": [
    "to_keep_diff = ['0-1', 'stockfish_max', 'stockfish_mean', 'stockfish_min', '1-0', \n",
    "                'black_std', 'black_max', 'black_mean', 'white_mean', 'maia_b_mean', \n",
    "                'stockfish_std', 'white_max', 'white_std', 'maia_b_min', 'maia_w_mean', \n",
    "                'black_min', 'white_min', 'maia_w_min', 'maia_b_max', 'maia_b_std', 'maia_w_max', \n",
    "                'maia_w_std', 'total_moves', 'queen_moved_at', 'first_check_at', 'queen_changed_at', \n",
    "                'total_checks', 'end_p', 'end_P']\n",
    "\n",
    "to_keep_mean = ['white_mean', 'black_mean', 'stockfish_mean', 'stockfish_std', 'maia_w_mean', \n",
    "                'white_min', 'maia_b_mean', 'black_min', 'total_moves', 'stockfish_min', \n",
    "                'stockfish_max', 'first_check_at', 'white_std', 'maia_b_max', 'maia_b_min', \n",
    "                'maia_w_min', 'maia_b_std', 'maia_w_max', 'white_max', 'queen_moved_at', \n",
    "                'maia_w_std', 'black_std', 'black_max', 'queen_changed_at', 'total_checks', \n",
    "                'end_P', 'end_p']"
   ]
  },
  {
   "cell_type": "code",
   "execution_count": 152,
   "metadata": {},
   "outputs": [],
   "source": [
    "pred_diff = rf_diff.predict(X[to_keep_diff])\n",
    "\n",
    "pred_mean = rf_mean.predict(X[to_keep_mean])"
   ]
  },
  {
   "cell_type": "code",
   "execution_count": 153,
   "metadata": {},
   "outputs": [],
   "source": [
    "df[\"pred_diff\"] = rf_diff.predict(X[to_keep_diff])\n",
    "df[\"pred_mean\"] = rf_mean.predict(X[to_keep_mean])"
   ]
  },
  {
   "cell_type": "code",
   "execution_count": 154,
   "metadata": {},
   "outputs": [],
   "source": [
    "df[\"white_pred\"] = df[\"pred_mean\"] + df[\"pred_diff\"]/2\n",
    "df[\"black_pred\"] = df[\"pred_mean\"] - df[\"pred_diff\"]/2"
   ]
  },
  {
   "cell_type": "code",
   "execution_count": 155,
   "metadata": {},
   "outputs": [
    {
     "data": {
      "text/plain": [
       "Index(['event', 'round', 'white', 'black', 'result', 'moves', 'white_elo',\n",
       "       'black_elo', 'ECO', 'Opening', 'white_cpl', 'black_cpl',\n",
       "       'stockfish_eval', 'queen_moved_at', 'queen_changed_at', 'total_checks',\n",
       "       'first_check_at', 'total_moves', 'end_r', 'end_k', 'end_p', 'end_Q',\n",
       "       'end_b', 'end_P', 'end_R', 'end_K', 'end_n', 'end_q', 'end_B', 'end_N',\n",
       "       'promotion', 'can_claim_draw', 'insufficient_material', 'maia_cpl_w',\n",
       "       'maia_cpl_b', 'mean_elos', 'diff_elos', 'white_mean', 'white_std',\n",
       "       'white_min', 'white_max', 'black_mean', 'black_std', 'black_min',\n",
       "       'black_max', 'stockfish_mean', 'stockfish_std', 'stockfish_min',\n",
       "       'stockfish_max', 'maia_w_mean', 'maia_w_std', 'maia_w_min',\n",
       "       'maia_w_max', 'maia_b_mean', 'maia_b_std', 'maia_b_min', 'maia_b_max',\n",
       "       'pred_diff', 'pred_mean', 'white_pred', 'black_pred'],\n",
       "      dtype='object')"
      ]
     },
     "execution_count": 155,
     "metadata": {},
     "output_type": "execute_result"
    }
   ],
   "source": [
    "df.columns"
   ]
  },
  {
   "cell_type": "code",
   "execution_count": 156,
   "metadata": {},
   "outputs": [],
   "source": [
    "# df.to_json('data/curated/FIDE_MAIA_PREDS.ndjson', orient='records', lines=True)\n",
    "# df = pd.read_json('data/curated/FIDE_MAIA_PREDS.ndjson', lines=True)"
   ]
  },
  {
   "cell_type": "code",
   "execution_count": 157,
   "metadata": {},
   "outputs": [],
   "source": [
    "white_actual = []\n",
    "black_actual = []\n",
    "for ind, row in df.iterrows():\n",
    "    white_actual.append(row[\"white_elo\"])\n",
    "    black_actual.append(row[\"black_elo\"])\n",
    "\n",
    "all_actual = white_actual + black_actual"
   ]
  },
  {
   "cell_type": "code",
   "execution_count": 158,
   "metadata": {},
   "outputs": [],
   "source": [
    "white_pred = []\n",
    "black_pred = []\n",
    "for ind, row in df.iterrows():\n",
    "    white_pred.append(row[\"white_pred\"])\n",
    "    black_pred.append(row[\"black_pred\"])\n",
    "\n",
    "all_preds = white_pred + black_pred"
   ]
  },
  {
   "cell_type": "code",
   "execution_count": 159,
   "metadata": {},
   "outputs": [
    {
     "name": "stdout",
     "output_type": "stream",
     "text": [
      "346.7468325699287\n"
     ]
    }
   ],
   "source": [
    "import numpy as np\n",
    "from sklearn.metrics import mean_absolute_error\n",
    "\n",
    "# Convert to numpy arrays if they aren't already\n",
    "all_actual = np.array(all_actual)\n",
    "all_preds = np.array(all_preds)\n",
    "\n",
    "# Create a mask to filter out NaN values\n",
    "mask = ~np.isnan(all_actual) & ~np.isnan(all_preds)\n",
    "\n",
    "# Filter the data\n",
    "all_actual_clean = all_actual[mask]\n",
    "all_preds_clean = all_preds[mask]\n",
    "\n",
    "# Calculate MAE\n",
    "mae = mean_absolute_error(all_actual_clean, all_preds_clean)\n",
    "print(mae)"
   ]
  },
  {
   "cell_type": "code",
   "execution_count": 160,
   "metadata": {},
   "outputs": [
    {
     "data": {
      "text/plain": [
       "46312"
      ]
     },
     "execution_count": 160,
     "metadata": {},
     "output_type": "execute_result"
    }
   ],
   "source": [
    "len(all_actual_clean)"
   ]
  },
  {
   "cell_type": "markdown",
   "metadata": {},
   "source": [
    "Now we try to predict the elo rating based wihtout predicting the difference."
   ]
  },
  {
   "cell_type": "code",
   "execution_count": 161,
   "metadata": {},
   "outputs": [
    {
     "data": {
      "text/plain": [
       "Index(['event', 'round', 'white', 'black', 'result', 'moves', 'white_elo',\n",
       "       'black_elo', 'ECO', 'Opening', 'white_cpl', 'black_cpl',\n",
       "       'stockfish_eval', 'queen_moved_at', 'queen_changed_at', 'total_checks',\n",
       "       'first_check_at', 'total_moves', 'end_r', 'end_k', 'end_p', 'end_Q',\n",
       "       'end_b', 'end_P', 'end_R', 'end_K', 'end_n', 'end_q', 'end_B', 'end_N',\n",
       "       'promotion', 'can_claim_draw', 'insufficient_material', 'maia_cpl_w',\n",
       "       'maia_cpl_b', 'mean_elos', 'diff_elos', 'white_mean', 'white_std',\n",
       "       'white_min', 'white_max', 'black_mean', 'black_std', 'black_min',\n",
       "       'black_max', 'stockfish_mean', 'stockfish_std', 'stockfish_min',\n",
       "       'stockfish_max', 'maia_w_mean', 'maia_w_std', 'maia_w_min',\n",
       "       'maia_w_max', 'maia_b_mean', 'maia_b_std', 'maia_b_min', 'maia_b_max',\n",
       "       'pred_diff', 'pred_mean', 'white_pred', 'black_pred'],\n",
       "      dtype='object')"
      ]
     },
     "execution_count": 161,
     "metadata": {},
     "output_type": "execute_result"
    }
   ],
   "source": [
    "df.columns"
   ]
  },
  {
   "cell_type": "code",
   "execution_count": 162,
   "metadata": {},
   "outputs": [],
   "source": [
    "games = []\n",
    "for index, row in df.iterrows():\n",
    "    white = {\n",
    "        \"name\": row[\"white\"],\n",
    "        \"event\": row[\"event\"],\n",
    "        \"opening\": row[\"Opening\"],\n",
    "        \"elo\": row[\"white_elo\"],\n",
    "        \"stockfish_mean\": row[\"white_mean\"],\n",
    "        \"stockfish_min\": row[\"white_min\"],\n",
    "        \"stockfish_max\": row[\"white_max\"],\n",
    "        \"stockfish_std\": row[\"white_std\"],\n",
    "        \"maia_mean\": row[\"maia_w_mean\"],\n",
    "        \"maia_min\": row[\"maia_w_min\"],\n",
    "        \"maia_max\": row[\"maia_w_max\"],\n",
    "        \"maia_std\": row[\"maia_w_std\"],\n",
    "        \"result\": row[\"result\"],\n",
    "        \"is_white\": 1,\n",
    "        'moves': row[\"moves\"]\n",
    "    }\n",
    "\n",
    "    black = {\n",
    "        \"name\": row[\"black\"],\n",
    "        \"event\": row[\"event\"],\n",
    "        \"opening\": row[\"Opening\"],\n",
    "        \"elo\": row[\"black_elo\"],\n",
    "        \"stockfish_mean\": row[\"black_mean\"],\n",
    "        \"stockfish_min\": row[\"black_min\"],\n",
    "        \"stockfish_max\": row[\"black_max\"],\n",
    "        \"stockfish_std\": row[\"black_std\"],\n",
    "        \"maia_mean\": row[\"maia_b_mean\"],\n",
    "        \"maia_min\": row[\"maia_b_min\"],\n",
    "        \"maia_max\": row[\"maia_b_max\"],\n",
    "        \"maia_std\": row[\"maia_b_std\"],\n",
    "        \"result\": row[\"result\"],\n",
    "        \"is_white\": 0,\n",
    "        'moves': row[\"moves\"]\n",
    "    }\n",
    "\n",
    "    games.append(white)\n",
    "    games.append(black)"
   ]
  },
  {
   "cell_type": "code",
   "execution_count": 163,
   "metadata": {},
   "outputs": [],
   "source": [
    "g = pd.DataFrame(games)"
   ]
  },
  {
   "cell_type": "code",
   "execution_count": 164,
   "metadata": {},
   "outputs": [],
   "source": [
    "g.to_json('data/curated/FIDE_INDIVIDUAL.ndjson', orient='records', lines=True)"
   ]
  },
  {
   "cell_type": "code",
   "execution_count": 165,
   "metadata": {},
   "outputs": [
    {
     "data": {
      "text/html": [
       "<div>\n",
       "<style scoped>\n",
       "    .dataframe tbody tr th:only-of-type {\n",
       "        vertical-align: middle;\n",
       "    }\n",
       "\n",
       "    .dataframe tbody tr th {\n",
       "        vertical-align: top;\n",
       "    }\n",
       "\n",
       "    .dataframe thead th {\n",
       "        text-align: right;\n",
       "    }\n",
       "</style>\n",
       "<table border=\"1\" class=\"dataframe\">\n",
       "  <thead>\n",
       "    <tr style=\"text-align: right;\">\n",
       "      <th></th>\n",
       "      <th>name</th>\n",
       "      <th>event</th>\n",
       "      <th>opening</th>\n",
       "      <th>elo</th>\n",
       "      <th>stockfish_mean</th>\n",
       "      <th>stockfish_min</th>\n",
       "      <th>stockfish_max</th>\n",
       "      <th>stockfish_std</th>\n",
       "      <th>maia_mean</th>\n",
       "      <th>maia_min</th>\n",
       "      <th>maia_max</th>\n",
       "      <th>maia_std</th>\n",
       "      <th>result</th>\n",
       "      <th>is_white</th>\n",
       "      <th>moves</th>\n",
       "    </tr>\n",
       "  </thead>\n",
       "  <tbody>\n",
       "    <tr>\n",
       "      <th>0</th>\n",
       "      <td>Tran, Thi Bich Thuy</td>\n",
       "      <td>FIDE Online Olympiad for people with disabilities</td>\n",
       "      <td>Trompovsky attack (Ruth, Opovcensky opening)</td>\n",
       "      <td>1422.0</td>\n",
       "      <td>22.057143</td>\n",
       "      <td>-28</td>\n",
       "      <td>121</td>\n",
       "      <td>34.229430</td>\n",
       "      <td>3.777778</td>\n",
       "      <td>-117</td>\n",
       "      <td>104</td>\n",
       "      <td>37.087068</td>\n",
       "      <td>1-0</td>\n",
       "      <td>1</td>\n",
       "      <td>[d2d4, g8f6, c1g5, d7d6, g5f6, g7f6, e2e3, e7e...</td>\n",
       "    </tr>\n",
       "    <tr>\n",
       "      <th>1</th>\n",
       "      <td>Zhukovskaya, Nina</td>\n",
       "      <td>FIDE Online Olympiad for people with disabilities</td>\n",
       "      <td>Trompovsky attack (Ruth, Opovcensky opening)</td>\n",
       "      <td>1475.0</td>\n",
       "      <td>35.939394</td>\n",
       "      <td>-22</td>\n",
       "      <td>408</td>\n",
       "      <td>75.443713</td>\n",
       "      <td>-12.542857</td>\n",
       "      <td>-634</td>\n",
       "      <td>624</td>\n",
       "      <td>185.118239</td>\n",
       "      <td>1-0</td>\n",
       "      <td>0</td>\n",
       "      <td>[d2d4, g8f6, c1g5, d7d6, g5f6, g7f6, e2e3, e7e...</td>\n",
       "    </tr>\n",
       "    <tr>\n",
       "      <th>2</th>\n",
       "      <td>Molenda, Marcin</td>\n",
       "      <td>FIDE Online Olympiad for people with disabilities</td>\n",
       "      <td>QGD Slav</td>\n",
       "      <td>2349.0</td>\n",
       "      <td>15.150000</td>\n",
       "      <td>-25</td>\n",
       "      <td>193</td>\n",
       "      <td>46.988589</td>\n",
       "      <td>-9.750000</td>\n",
       "      <td>-165</td>\n",
       "      <td>171</td>\n",
       "      <td>60.991700</td>\n",
       "      <td>1-0</td>\n",
       "      <td>1</td>\n",
       "      <td>[d2d4, d7d5, c2c4, c7c6, g1f3, g8f6, d1b3, d8b...</td>\n",
       "    </tr>\n",
       "    <tr>\n",
       "      <th>3</th>\n",
       "      <td>Alam, Md. Khorshed</td>\n",
       "      <td>FIDE Online Olympiad for people with disabilities</td>\n",
       "      <td>QGD Slav</td>\n",
       "      <td>2065.0</td>\n",
       "      <td>64.473684</td>\n",
       "      <td>-6</td>\n",
       "      <td>566</td>\n",
       "      <td>125.665122</td>\n",
       "      <td>27.210526</td>\n",
       "      <td>-89</td>\n",
       "      <td>451</td>\n",
       "      <td>104.022052</td>\n",
       "      <td>1-0</td>\n",
       "      <td>0</td>\n",
       "      <td>[d2d4, d7d5, c2c4, c7c6, g1f3, g8f6, d1b3, d8b...</td>\n",
       "    </tr>\n",
       "    <tr>\n",
       "      <th>4</th>\n",
       "      <td>Husain, Ejaz</td>\n",
       "      <td>FIDE Online Olympiad for people with disabilities</td>\n",
       "      <td>Sicilian</td>\n",
       "      <td>1952.0</td>\n",
       "      <td>16.135135</td>\n",
       "      <td>-18</td>\n",
       "      <td>195</td>\n",
       "      <td>34.810811</td>\n",
       "      <td>-9.513514</td>\n",
       "      <td>-227</td>\n",
       "      <td>58</td>\n",
       "      <td>44.854492</td>\n",
       "      <td>0-1</td>\n",
       "      <td>1</td>\n",
       "      <td>[e2e4, c7c5, g1f3, d7d6, c2c3, g8f6, f1e2, c8d...</td>\n",
       "    </tr>\n",
       "  </tbody>\n",
       "</table>\n",
       "</div>"
      ],
      "text/plain": [
       "                  name                                              event  \\\n",
       "0  Tran, Thi Bich Thuy  FIDE Online Olympiad for people with disabilities   \n",
       "1    Zhukovskaya, Nina  FIDE Online Olympiad for people with disabilities   \n",
       "2      Molenda, Marcin  FIDE Online Olympiad for people with disabilities   \n",
       "3   Alam, Md. Khorshed  FIDE Online Olympiad for people with disabilities   \n",
       "4         Husain, Ejaz  FIDE Online Olympiad for people with disabilities   \n",
       "\n",
       "                                        opening     elo  stockfish_mean  \\\n",
       "0  Trompovsky attack (Ruth, Opovcensky opening)  1422.0       22.057143   \n",
       "1  Trompovsky attack (Ruth, Opovcensky opening)  1475.0       35.939394   \n",
       "2                                      QGD Slav  2349.0       15.150000   \n",
       "3                                      QGD Slav  2065.0       64.473684   \n",
       "4                                      Sicilian  1952.0       16.135135   \n",
       "\n",
       "   stockfish_min  stockfish_max  stockfish_std  maia_mean  maia_min  maia_max  \\\n",
       "0            -28            121      34.229430   3.777778      -117       104   \n",
       "1            -22            408      75.443713 -12.542857      -634       624   \n",
       "2            -25            193      46.988589  -9.750000      -165       171   \n",
       "3             -6            566     125.665122  27.210526       -89       451   \n",
       "4            -18            195      34.810811  -9.513514      -227        58   \n",
       "\n",
       "     maia_std result  is_white  \\\n",
       "0   37.087068    1-0         1   \n",
       "1  185.118239    1-0         0   \n",
       "2   60.991700    1-0         1   \n",
       "3  104.022052    1-0         0   \n",
       "4   44.854492    0-1         1   \n",
       "\n",
       "                                               moves  \n",
       "0  [d2d4, g8f6, c1g5, d7d6, g5f6, g7f6, e2e3, e7e...  \n",
       "1  [d2d4, g8f6, c1g5, d7d6, g5f6, g7f6, e2e3, e7e...  \n",
       "2  [d2d4, d7d5, c2c4, c7c6, g1f3, g8f6, d1b3, d8b...  \n",
       "3  [d2d4, d7d5, c2c4, c7c6, g1f3, g8f6, d1b3, d8b...  \n",
       "4  [e2e4, c7c5, g1f3, d7d6, c2c3, g8f6, f1e2, c8d...  "
      ]
     },
     "execution_count": 165,
     "metadata": {},
     "output_type": "execute_result"
    }
   ],
   "source": [
    "g.head()"
   ]
  }
 ],
 "metadata": {
  "kernelspec": {
   "display_name": "py310",
   "language": "python",
   "name": "python3"
  },
  "language_info": {
   "codemirror_mode": {
    "name": "ipython",
    "version": 3
   },
   "file_extension": ".py",
   "mimetype": "text/x-python",
   "name": "python",
   "nbconvert_exporter": "python",
   "pygments_lexer": "ipython3",
   "version": "3.10.11"
  }
 },
 "nbformat": 4,
 "nbformat_minor": 2
}
