{
 "cells": [
  {
   "cell_type": "code",
   "execution_count": 85,
   "metadata": {},
   "outputs": [],
   "source": [
    "import pandas as pd\n",
    "import numpy as np"
   ]
  },
  {
   "cell_type": "code",
   "execution_count": 86,
   "metadata": {},
   "outputs": [],
   "source": [
    "fide = pd.read_json('data/curated/FIDE_MAIA_PREDS.ndjson', lines=True)"
   ]
  },
  {
   "cell_type": "code",
   "execution_count": 87,
   "metadata": {},
   "outputs": [
    {
     "data": {
      "text/plain": [
       "Index(['event', 'round', 'white', 'black', 'result', 'moves', 'white_elo',\n",
       "       'black_elo', 'ECO', 'Opening', 'white_cpl', 'black_cpl',\n",
       "       'stockfish_eval', 'queen_moved_at', 'queen_changed_at', 'total_checks',\n",
       "       'first_check_at', 'total_moves', 'end_r', 'end_k', 'end_p', 'end_Q',\n",
       "       'end_b', 'end_P', 'end_R', 'end_K', 'end_n', 'end_q', 'end_B', 'end_N',\n",
       "       'promotion', 'can_claim_draw', 'insufficient_material', 'maia_cpl_w',\n",
       "       'maia_cpl_b', 'mean_elos', 'diff_elos', 'white_mean', 'white_std',\n",
       "       'white_min', 'white_max', 'black_mean', 'black_std', 'black_min',\n",
       "       'black_max', 'stockfish_mean', 'stockfish_std', 'stockfish_min',\n",
       "       'stockfish_max', 'maia_w_mean', 'maia_w_std', 'maia_w_min',\n",
       "       'maia_w_max', 'maia_b_mean', 'maia_b_std', 'maia_b_min', 'maia_b_max',\n",
       "       'pred_diff', 'pred_mean', 'white_pred', 'black_pred'],\n",
       "      dtype='object')"
      ]
     },
     "execution_count": 87,
     "metadata": {},
     "output_type": "execute_result"
    }
   ],
   "source": [
    "fide.columns"
   ]
  },
  {
   "cell_type": "code",
   "execution_count": 88,
   "metadata": {},
   "outputs": [],
   "source": [
    "outcome_w = {\n",
    "    '1-0': 1, # win \n",
    "    '0-1': 0, # lose\n",
    "    '1/2-1/2': 0.5 # draw\n",
    "}\n",
    "outcome_b = {\n",
    "    '1-0': 0, # lose\n",
    "    '0-1': 1, # win\n",
    "    '1/2-1/2': 0.5 # draw\n",
    "}\n",
    "\n",
    "# Flattening the dataframe\n",
    "games = []\n",
    "\n",
    "for ind, row in fide.iterrows():\n",
    "    white = {\n",
    "        \"name\": row[\"white\"],\n",
    "        \"event\": row[\"event\"],\n",
    "        \"opening\": row[\"Opening\"],\n",
    "        \"elo\": row[\"white_elo\"],\n",
    "        \"stockfish_mean\": row[\"white_mean\"],\n",
    "        \"stockfish_min\": row[\"white_min\"],\n",
    "        \"stockfish_max\": row[\"white_max\"],\n",
    "        \"stockfish_std\": row[\"white_std\"],\n",
    "        \"maia_mean\": row[\"maia_w_mean\"],\n",
    "        \"maia_min\": row[\"maia_w_min\"],\n",
    "        \"maia_max\": row[\"maia_w_max\"],\n",
    "        \"maia_std\": row[\"maia_w_std\"],\n",
    "        \"result\": outcome_w[row[\"result\"]],\n",
    "        \"is_white\": 1,\n",
    "        'moves': row[\"moves\"],\n",
    "        'pred': row[\"white_pred\"],\n",
    "        \"opponent_elo\": row[\"black_elo\"]\n",
    "    }\n",
    "\n",
    "    black = {\n",
    "        \"name\": row[\"black\"],\n",
    "        \"event\": row[\"event\"],\n",
    "        \"opening\": row[\"Opening\"],\n",
    "        \"elo\": row[\"black_elo\"],\n",
    "        \"stockfish_mean\": row[\"black_mean\"],\n",
    "        \"stockfish_min\": row[\"black_min\"],\n",
    "        \"stockfish_max\": row[\"black_max\"],\n",
    "        \"stockfish_std\": row[\"black_std\"],\n",
    "        \"maia_mean\": row[\"maia_b_mean\"],\n",
    "        \"maia_min\": row[\"maia_b_min\"],\n",
    "        \"maia_max\": row[\"maia_b_max\"],\n",
    "        \"maia_std\": row[\"maia_b_std\"],\n",
    "        \"result\": outcome_b[row[\"result\"]],\n",
    "        \"is_white\": 0,\n",
    "        \"moves\": row[\"moves\"],\n",
    "        \"pred\": row[\"black_pred\"],\n",
    "        \"opponent_elo\": row[\"white_elo\"]\n",
    "    }\n",
    "\n",
    "    games.append(white)\n",
    "    games.append(black)"
   ]
  },
  {
   "cell_type": "code",
   "execution_count": 89,
   "metadata": {},
   "outputs": [],
   "source": [
    "df = pd.DataFrame(games)"
   ]
  },
  {
   "cell_type": "code",
   "execution_count": 90,
   "metadata": {},
   "outputs": [
    {
     "data": {
      "text/plain": [
       "Index(['name', 'event', 'opening', 'elo', 'stockfish_mean', 'stockfish_min',\n",
       "       'stockfish_max', 'stockfish_std', 'maia_mean', 'maia_min', 'maia_max',\n",
       "       'maia_std', 'result', 'is_white', 'moves', 'pred', 'pred_diff',\n",
       "       'opponent_elo'],\n",
       "      dtype='object')"
      ]
     },
     "execution_count": 90,
     "metadata": {},
     "output_type": "execute_result"
    }
   ],
   "source": [
    "df.columns"
   ]
  },
  {
   "cell_type": "code",
   "execution_count": 91,
   "metadata": {},
   "outputs": [
    {
     "data": {
      "text/html": [
       "<div>\n",
       "<style scoped>\n",
       "    .dataframe tbody tr th:only-of-type {\n",
       "        vertical-align: middle;\n",
       "    }\n",
       "\n",
       "    .dataframe tbody tr th {\n",
       "        vertical-align: top;\n",
       "    }\n",
       "\n",
       "    .dataframe thead th {\n",
       "        text-align: right;\n",
       "    }\n",
       "</style>\n",
       "<table border=\"1\" class=\"dataframe\">\n",
       "  <thead>\n",
       "    <tr style=\"text-align: right;\">\n",
       "      <th></th>\n",
       "      <th>name</th>\n",
       "      <th>event</th>\n",
       "      <th>opening</th>\n",
       "      <th>elo</th>\n",
       "      <th>stockfish_mean</th>\n",
       "      <th>stockfish_min</th>\n",
       "      <th>stockfish_max</th>\n",
       "      <th>stockfish_std</th>\n",
       "      <th>maia_mean</th>\n",
       "      <th>maia_min</th>\n",
       "      <th>maia_max</th>\n",
       "      <th>maia_std</th>\n",
       "      <th>result</th>\n",
       "      <th>is_white</th>\n",
       "      <th>moves</th>\n",
       "      <th>pred</th>\n",
       "      <th>pred_diff</th>\n",
       "      <th>opponent_elo</th>\n",
       "    </tr>\n",
       "  </thead>\n",
       "  <tbody>\n",
       "    <tr>\n",
       "      <th>55</th>\n",
       "      <td>Belyayeva, Nadezhda</td>\n",
       "      <td>FIDE Online Olympiad for people with disabilities</td>\n",
       "      <td>Ruy Lopez</td>\n",
       "      <td>NaN</td>\n",
       "      <td>26.783784</td>\n",
       "      <td>-29</td>\n",
       "      <td>198</td>\n",
       "      <td>47.186310</td>\n",
       "      <td>-24.297297</td>\n",
       "      <td>-350</td>\n",
       "      <td>143</td>\n",
       "      <td>89.223335</td>\n",
       "      <td>0.0</td>\n",
       "      <td>0</td>\n",
       "      <td>[e2e4, e7e5, g1f3, b8c6, f1b5, g8f6, d1e2, d7d...</td>\n",
       "      <td>1580.572697</td>\n",
       "      <td>NaN</td>\n",
       "      <td>2001.0</td>\n",
       "    </tr>\n",
       "    <tr>\n",
       "      <th>70</th>\n",
       "      <td>Arsova, Marija</td>\n",
       "      <td>FIDE Online Olympiad for people with disabilities</td>\n",
       "      <td>Sicilian defence</td>\n",
       "      <td>NaN</td>\n",
       "      <td>40.821429</td>\n",
       "      <td>-17</td>\n",
       "      <td>261</td>\n",
       "      <td>57.579171</td>\n",
       "      <td>31.968750</td>\n",
       "      <td>-203</td>\n",
       "      <td>576</td>\n",
       "      <td>130.843056</td>\n",
       "      <td>0.0</td>\n",
       "      <td>1</td>\n",
       "      <td>[e2e4, c7c5, h2h3, d7d6, g1f3, g7g6, b2b3, f8g...</td>\n",
       "      <td>1336.277012</td>\n",
       "      <td>NaN</td>\n",
       "      <td>1199.0</td>\n",
       "    </tr>\n",
       "  </tbody>\n",
       "</table>\n",
       "</div>"
      ],
      "text/plain": [
       "                   name                                              event  \\\n",
       "55  Belyayeva, Nadezhda  FIDE Online Olympiad for people with disabilities   \n",
       "70       Arsova, Marija  FIDE Online Olympiad for people with disabilities   \n",
       "\n",
       "             opening  elo  stockfish_mean  stockfish_min  stockfish_max  \\\n",
       "55         Ruy Lopez  NaN       26.783784            -29            198   \n",
       "70  Sicilian defence  NaN       40.821429            -17            261   \n",
       "\n",
       "    stockfish_std  maia_mean  maia_min  maia_max    maia_std  result  \\\n",
       "55      47.186310 -24.297297      -350       143   89.223335     0.0   \n",
       "70      57.579171  31.968750      -203       576  130.843056     0.0   \n",
       "\n",
       "    is_white                                              moves         pred  \\\n",
       "55         0  [e2e4, e7e5, g1f3, b8c6, f1b5, g8f6, d1e2, d7d...  1580.572697   \n",
       "70         1  [e2e4, c7c5, h2h3, d7d6, g1f3, g7g6, b2b3, f8g...  1336.277012   \n",
       "\n",
       "    pred_diff  opponent_elo  \n",
       "55        NaN        2001.0  \n",
       "70        NaN        1199.0  "
      ]
     },
     "execution_count": 91,
     "metadata": {},
     "output_type": "execute_result"
    }
   ],
   "source": [
    "# There are players who do not have any elo ratings. \n",
    "no_elo = df[df[\"elo\"].isna()]\n",
    "no_elo.head(2)"
   ]
  },
  {
   "cell_type": "code",
   "execution_count": 92,
   "metadata": {},
   "outputs": [],
   "source": [
    "# Define a Python function to calculate a player's Elo rating based on game results and opponent ratings for \n",
    "# players that do not have elo.\n",
    "def calculate_elo(initial_rating, games, K=32):\n",
    "    \"\"\"\n",
    "    Calculate a player's Elo rating based on the initial rating, game outcomes, and opponent ratings.\n",
    "    \n",
    "    :param initial_rating: The starting Elo rating of the player.\n",
    "    :param games: A list of tuples where each tuple contains the opponent's rating and the game outcome.\n",
    "                  Game outcome is 1 for a win, 0.5 for a draw, and 0 for a loss.\n",
    "    :param K: The K-factor, which determines how much the rating changes after each game (default is 32).\n",
    "    :return: The player's final Elo rating after all games.\n",
    "    \"\"\"\n",
    "    rating = initial_rating\n",
    "    \n",
    "    for opponent_rating, outcome in games:\n",
    "        if np.isnan(opponent_rating):\n",
    "            continue\n",
    "\n",
    "        # Calculate expected score\n",
    "        expected_score = 1 / (1 + 10 ** ((opponent_rating - rating) / 400))\n",
    "        # Update the player's rating based on the outcome\n",
    "        rating = rating + K * (outcome - expected_score)\n",
    "    \n",
    "    return rating\n",
    "\n",
    "def calculate_player_elo(df, initial_rating=1500):\n",
    "    # Convert the DataFrame into a list of tuples (opponent_elo, result)\n",
    "    games = list(zip(df['opponent_elo'], df['result']))\n",
    "    # Use the calculate_elo function\n",
    "    return calculate_elo(initial_rating, games)\n"
   ]
  },
  {
   "cell_type": "code",
   "execution_count": 102,
   "metadata": {},
   "outputs": [
    {
     "name": "stderr",
     "output_type": "stream",
     "text": [
      "C:\\Users\\jonat\\AppData\\Local\\Temp\\ipykernel_10144\\3195434118.py:2: DeprecationWarning: DataFrameGroupBy.apply operated on the grouping columns. This behavior is deprecated, and in a future version of pandas the grouping columns will be excluded from the operation. Either pass `include_groups=False` to exclude the groupings or explicitly select the grouping columns after groupby to silence this warning.\n",
      "  final_ratings = no_elo.groupby('name').apply(calculate_player_elo)\n"
     ]
    }
   ],
   "source": [
    "# Group by 'name' and calculate the final Elo rating for each player\n",
    "final_ratings = no_elo.groupby('name').apply(calculate_player_elo)\n",
    "\n",
    "# Convert the result into a dictionary or keep it as a Series\n",
    "final_ratings_dict = final_ratings.to_dict()"
   ]
  },
  {
   "cell_type": "code",
   "execution_count": null,
   "metadata": {},
   "outputs": [],
   "source": [
    "# Only update players that are found in the dictionary\n",
    "# Keep the original rating if the player is not in the dictionary\n",
    "df['elo'] = df['name'].map(final_ratings_dict).combine_first(df['elo'])"
   ]
  },
  {
   "cell_type": "code",
   "execution_count": 100,
   "metadata": {},
   "outputs": [],
   "source": [
    "# Redefining the prediction difference using the new elo ratings\n",
    "df[\"pred_diff\"] = df[\"elo\"] - df[\"pred\"]"
   ]
  },
  {
   "cell_type": "code",
   "execution_count": 150,
   "metadata": {},
   "outputs": [
    {
     "data": {
      "text/html": [
       "<div>\n",
       "<style scoped>\n",
       "    .dataframe tbody tr th:only-of-type {\n",
       "        vertical-align: middle;\n",
       "    }\n",
       "\n",
       "    .dataframe tbody tr th {\n",
       "        vertical-align: top;\n",
       "    }\n",
       "\n",
       "    .dataframe thead th {\n",
       "        text-align: right;\n",
       "    }\n",
       "</style>\n",
       "<table border=\"1\" class=\"dataframe\">\n",
       "  <thead>\n",
       "    <tr style=\"text-align: right;\">\n",
       "      <th></th>\n",
       "      <th>name</th>\n",
       "      <th>event</th>\n",
       "      <th>pred_diff_avg</th>\n",
       "      <th>pred_diff_std</th>\n",
       "      <th>pred_diff_min</th>\n",
       "      <th>pred_diff_max</th>\n",
       "      <th>stockfish_cpl_avg</th>\n",
       "      <th>stockfish_cpl_std</th>\n",
       "      <th>stockfish_cpl_min</th>\n",
       "      <th>stockfish_cpl_max</th>\n",
       "      <th>maia_cpl_avg</th>\n",
       "      <th>maia_cpl_std</th>\n",
       "      <th>maia_cpl_min</th>\n",
       "      <th>maia_cpl_max</th>\n",
       "    </tr>\n",
       "  </thead>\n",
       "  <tbody>\n",
       "    <tr>\n",
       "      <th>0</th>\n",
       "      <td>-, Shweta</td>\n",
       "      <td>Queen’s Chess Festival - Asia - Category D</td>\n",
       "      <td>-48.931294</td>\n",
       "      <td>72.419104</td>\n",
       "      <td>-201.952115</td>\n",
       "      <td>50.165799</td>\n",
       "      <td>50.538535</td>\n",
       "      <td>17.783643</td>\n",
       "      <td>24.076923</td>\n",
       "      <td>72.923077</td>\n",
       "      <td>19.669882</td>\n",
       "      <td>48.737898</td>\n",
       "      <td>-43.150000</td>\n",
       "      <td>138.178571</td>\n",
       "    </tr>\n",
       "    <tr>\n",
       "      <th>1</th>\n",
       "      <td>., Kulvinder</td>\n",
       "      <td>WUOCC - Rapid Div C</td>\n",
       "      <td>-5.379325</td>\n",
       "      <td>144.109774</td>\n",
       "      <td>-186.572245</td>\n",
       "      <td>210.122330</td>\n",
       "      <td>20.494096</td>\n",
       "      <td>17.379366</td>\n",
       "      <td>-3.920635</td>\n",
       "      <td>43.105263</td>\n",
       "      <td>-26.398804</td>\n",
       "      <td>18.141012</td>\n",
       "      <td>-50.190476</td>\n",
       "      <td>2.473684</td>\n",
       "    </tr>\n",
       "  </tbody>\n",
       "</table>\n",
       "</div>"
      ],
      "text/plain": [
       "           name                                       event  pred_diff_avg  \\\n",
       "0     -, Shweta  Queen’s Chess Festival - Asia - Category D     -48.931294   \n",
       "1  ., Kulvinder                         WUOCC - Rapid Div C      -5.379325   \n",
       "\n",
       "   pred_diff_std  pred_diff_min  pred_diff_max  stockfish_cpl_avg  \\\n",
       "0      72.419104    -201.952115      50.165799          50.538535   \n",
       "1     144.109774    -186.572245     210.122330          20.494096   \n",
       "\n",
       "   stockfish_cpl_std  stockfish_cpl_min  stockfish_cpl_max  maia_cpl_avg  \\\n",
       "0          17.783643          24.076923          72.923077     19.669882   \n",
       "1          17.379366          -3.920635          43.105263    -26.398804   \n",
       "\n",
       "   maia_cpl_std  maia_cpl_min  maia_cpl_max  \n",
       "0     48.737898    -43.150000    138.178571  \n",
       "1     18.141012    -50.190476      2.473684  "
      ]
     },
     "execution_count": 150,
     "metadata": {},
     "output_type": "execute_result"
    }
   ],
   "source": [
    "# Aggregate the players based on different events they play\n",
    "agg_df = df.groupby(['name', 'event']).agg(\n",
    "    pred_diff_avg = ('pred_diff', 'mean'),\n",
    "    pred_diff_std = ('pred_diff', 'std'),\n",
    "    pred_diff_min = ('pred_diff', 'min'),\n",
    "    pred_diff_max = ('pred_diff', 'max'),\n",
    "    stockfish_cpl_avg=('stockfish_mean', 'mean'),\n",
    "    stockfish_cpl_std=('stockfish_mean', 'std'),\n",
    "    stockfish_cpl_min=('stockfish_mean', 'min'),\n",
    "    stockfish_cpl_max=('stockfish_mean', 'max'),\n",
    "    maia_cpl_avg=('maia_mean', 'mean'),\n",
    "    maia_cpl_std=('maia_mean', 'std'),\n",
    "    maia_cpl_min=('maia_mean', 'min'),\n",
    "    maia_cpl_max=('maia_mean', 'max'),\n",
    ").reset_index()\n",
    "\n",
    "# Display the resulting DataFrame\n",
    "agg_df.head(2)"
   ]
  },
  {
   "cell_type": "code",
   "execution_count": 110,
   "metadata": {},
   "outputs": [],
   "source": [
    "# Reading in the cheaters data\n",
    "cheaters = pd.read_csv('data/landing/Cheating.csv')"
   ]
  },
  {
   "cell_type": "code",
   "execution_count": 152,
   "metadata": {},
   "outputs": [],
   "source": [
    "# Adding cheater column to our aggregated dataframe\n",
    "agg_df[\"is_cheater\"] = agg_df[\"name\"].isin(cheaters[\"Player name\"])"
   ]
  },
  {
   "cell_type": "code",
   "execution_count": 153,
   "metadata": {},
   "outputs": [
    {
     "data": {
      "text/plain": [
       "42"
      ]
     },
     "execution_count": 153,
     "metadata": {},
     "output_type": "execute_result"
    }
   ],
   "source": [
    "sum(agg_df[\"is_cheater\"])"
   ]
  },
  {
   "cell_type": "code",
   "execution_count": 154,
   "metadata": {},
   "outputs": [
    {
     "data": {
      "text/html": [
       "<div>\n",
       "<style scoped>\n",
       "    .dataframe tbody tr th:only-of-type {\n",
       "        vertical-align: middle;\n",
       "    }\n",
       "\n",
       "    .dataframe tbody tr th {\n",
       "        vertical-align: top;\n",
       "    }\n",
       "\n",
       "    .dataframe thead th {\n",
       "        text-align: right;\n",
       "    }\n",
       "</style>\n",
       "<table border=\"1\" class=\"dataframe\">\n",
       "  <thead>\n",
       "    <tr style=\"text-align: right;\">\n",
       "      <th></th>\n",
       "      <th>name</th>\n",
       "      <th>event</th>\n",
       "      <th>pred_diff_avg</th>\n",
       "      <th>pred_diff_std</th>\n",
       "      <th>pred_diff_min</th>\n",
       "      <th>pred_diff_max</th>\n",
       "      <th>stockfish_cpl_avg</th>\n",
       "      <th>stockfish_cpl_std</th>\n",
       "      <th>stockfish_cpl_min</th>\n",
       "      <th>stockfish_cpl_max</th>\n",
       "      <th>maia_cpl_avg</th>\n",
       "      <th>maia_cpl_std</th>\n",
       "      <th>maia_cpl_min</th>\n",
       "      <th>maia_cpl_max</th>\n",
       "      <th>is_cheater</th>\n",
       "    </tr>\n",
       "  </thead>\n",
       "  <tbody>\n",
       "    <tr>\n",
       "      <th>322</th>\n",
       "      <td>Alkortabi,, Abdalhakeem A.</td>\n",
       "      <td>FIDE World Youth Rapid Champ - Africa - U18 - ...</td>\n",
       "      <td>88.981992</td>\n",
       "      <td>51.759154</td>\n",
       "      <td>11.878673</td>\n",
       "      <td>122.12876</td>\n",
       "      <td>11.821371</td>\n",
       "      <td>5.075262</td>\n",
       "      <td>7.642857</td>\n",
       "      <td>19.205128</td>\n",
       "      <td>-37.06743</td>\n",
       "      <td>15.095297</td>\n",
       "      <td>-52.8125</td>\n",
       "      <td>-21.415094</td>\n",
       "      <td>True</td>\n",
       "    </tr>\n",
       "  </tbody>\n",
       "</table>\n",
       "</div>"
      ],
      "text/plain": [
       "                           name  \\\n",
       "322  Alkortabi,, Abdalhakeem A.   \n",
       "\n",
       "                                                 event  pred_diff_avg  \\\n",
       "322  FIDE World Youth Rapid Champ - Africa - U18 - ...      88.981992   \n",
       "\n",
       "     pred_diff_std  pred_diff_min  pred_diff_max  stockfish_cpl_avg  \\\n",
       "322      51.759154      11.878673      122.12876          11.821371   \n",
       "\n",
       "     stockfish_cpl_std  stockfish_cpl_min  stockfish_cpl_max  maia_cpl_avg  \\\n",
       "322           5.075262           7.642857          19.205128     -37.06743   \n",
       "\n",
       "     maia_cpl_std  maia_cpl_min  maia_cpl_max  is_cheater  \n",
       "322     15.095297      -52.8125    -21.415094        True  "
      ]
     },
     "execution_count": 154,
     "metadata": {},
     "output_type": "execute_result"
    }
   ],
   "source": [
    "agg_df[agg_df[\"name\"] == \"Alkortabi,, Abdalhakeem A.\"] "
   ]
  },
  {
   "cell_type": "code",
   "execution_count": 155,
   "metadata": {},
   "outputs": [
    {
     "data": {
      "text/html": [
       "<div>\n",
       "<style scoped>\n",
       "    .dataframe tbody tr th:only-of-type {\n",
       "        vertical-align: middle;\n",
       "    }\n",
       "\n",
       "    .dataframe tbody tr th {\n",
       "        vertical-align: top;\n",
       "    }\n",
       "\n",
       "    .dataframe thead th {\n",
       "        text-align: right;\n",
       "    }\n",
       "</style>\n",
       "<table border=\"1\" class=\"dataframe\">\n",
       "  <thead>\n",
       "    <tr style=\"text-align: right;\">\n",
       "      <th></th>\n",
       "      <th>name</th>\n",
       "      <th>event</th>\n",
       "      <th>pred_diff_avg</th>\n",
       "      <th>pred_diff_std</th>\n",
       "      <th>pred_diff_min</th>\n",
       "      <th>pred_diff_max</th>\n",
       "      <th>stockfish_cpl_avg</th>\n",
       "      <th>stockfish_cpl_std</th>\n",
       "      <th>stockfish_cpl_min</th>\n",
       "      <th>stockfish_cpl_max</th>\n",
       "      <th>maia_cpl_avg</th>\n",
       "      <th>maia_cpl_std</th>\n",
       "      <th>maia_cpl_min</th>\n",
       "      <th>maia_cpl_max</th>\n",
       "      <th>is_cheater</th>\n",
       "    </tr>\n",
       "  </thead>\n",
       "  <tbody>\n",
       "    <tr>\n",
       "      <th>75</th>\n",
       "      <td>Abhishek, Bhargav</td>\n",
       "      <td>WUOCC - Blitz - Main list</td>\n",
       "      <td>-343.996023</td>\n",
       "      <td>232.553072</td>\n",
       "      <td>-508.435876</td>\n",
       "      <td>-179.556169</td>\n",
       "      <td>29.307407</td>\n",
       "      <td>31.358876</td>\n",
       "      <td>7.133333</td>\n",
       "      <td>51.481481</td>\n",
       "      <td>-21.477236</td>\n",
       "      <td>4.934800</td>\n",
       "      <td>-24.966667</td>\n",
       "      <td>-17.987805</td>\n",
       "      <td>True</td>\n",
       "    </tr>\n",
       "    <tr>\n",
       "      <th>76</th>\n",
       "      <td>Abhishek, Bhargav</td>\n",
       "      <td>WUOCC - Blitz Div D</td>\n",
       "      <td>-528.040551</td>\n",
       "      <td>136.490258</td>\n",
       "      <td>-712.651362</td>\n",
       "      <td>-369.471010</td>\n",
       "      <td>13.985537</td>\n",
       "      <td>9.211209</td>\n",
       "      <td>0.770833</td>\n",
       "      <td>27.446429</td>\n",
       "      <td>-60.066516</td>\n",
       "      <td>26.364209</td>\n",
       "      <td>-95.448276</td>\n",
       "      <td>-21.395833</td>\n",
       "      <td>True</td>\n",
       "    </tr>\n",
       "  </tbody>\n",
       "</table>\n",
       "</div>"
      ],
      "text/plain": [
       "                 name                      event  pred_diff_avg  \\\n",
       "75  Abhishek, Bhargav  WUOCC - Blitz - Main list    -343.996023   \n",
       "76  Abhishek, Bhargav        WUOCC - Blitz Div D    -528.040551   \n",
       "\n",
       "    pred_diff_std  pred_diff_min  pred_diff_max  stockfish_cpl_avg  \\\n",
       "75     232.553072    -508.435876    -179.556169          29.307407   \n",
       "76     136.490258    -712.651362    -369.471010          13.985537   \n",
       "\n",
       "    stockfish_cpl_std  stockfish_cpl_min  stockfish_cpl_max  maia_cpl_avg  \\\n",
       "75          31.358876           7.133333          51.481481    -21.477236   \n",
       "76           9.211209           0.770833          27.446429    -60.066516   \n",
       "\n",
       "    maia_cpl_std  maia_cpl_min  maia_cpl_max  is_cheater  \n",
       "75      4.934800    -24.966667    -17.987805        True  \n",
       "76     26.364209    -95.448276    -21.395833        True  "
      ]
     },
     "execution_count": 155,
     "metadata": {},
     "output_type": "execute_result"
    }
   ],
   "source": [
    "agg_df[agg_df[\"name\"] == \"Abhishek, Bhargav\"] "
   ]
  },
  {
   "cell_type": "code",
   "execution_count": 156,
   "metadata": {},
   "outputs": [],
   "source": [
    "agg_df.to_json(\"data/curated/FIDE_agg.ndjson\", orient='records', lines=True)"
   ]
  },
  {
   "cell_type": "code",
   "execution_count": 157,
   "metadata": {},
   "outputs": [
    {
     "data": {
      "text/plain": [
       "7543"
      ]
     },
     "execution_count": 157,
     "metadata": {},
     "output_type": "execute_result"
    }
   ],
   "source": [
    "len(agg_df)"
   ]
  }
 ],
 "metadata": {
  "kernelspec": {
   "display_name": "py310",
   "language": "python",
   "name": "python3"
  },
  "language_info": {
   "codemirror_mode": {
    "name": "ipython",
    "version": 3
   },
   "file_extension": ".py",
   "mimetype": "text/x-python",
   "name": "python",
   "nbconvert_exporter": "python",
   "pygments_lexer": "ipython3",
   "version": "3.12.4"
  }
 },
 "nbformat": 4,
 "nbformat_minor": 2
}
