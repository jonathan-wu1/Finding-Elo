{
 "cells": [
  {
   "cell_type": "code",
   "execution_count": 2,
   "metadata": {},
   "outputs": [],
   "source": [
    "import chess.engine\n",
    "import chess \n",
    "import matplotlib.pyplot as plt\n",
    "import matplotlib.colors as mcolors\n",
    "import chess.pgn \n",
    "from stockfish import Stockfish\n",
    "import pandas as pd\n",
    "import time\n",
    "import numpy as np\n",
    "import json\n",
    "import regex as re"
   ]
  },
  {
   "cell_type": "code",
   "execution_count": 121,
   "metadata": {},
   "outputs": [
    {
     "data": {
      "text/html": [
       "<div>\n",
       "<style scoped>\n",
       "    .dataframe tbody tr th:only-of-type {\n",
       "        vertical-align: middle;\n",
       "    }\n",
       "\n",
       "    .dataframe tbody tr th {\n",
       "        vertical-align: top;\n",
       "    }\n",
       "\n",
       "    .dataframe thead th {\n",
       "        text-align: right;\n",
       "    }\n",
       "</style>\n",
       "<table border=\"1\" class=\"dataframe\">\n",
       "  <thead>\n",
       "    <tr style=\"text-align: right;\">\n",
       "      <th></th>\n",
       "      <th>Event</th>\n",
       "      <th>Site</th>\n",
       "      <th>Date</th>\n",
       "      <th>Round</th>\n",
       "      <th>White</th>\n",
       "      <th>Black</th>\n",
       "      <th>Result</th>\n",
       "      <th>Moves</th>\n",
       "      <th>Move_times</th>\n",
       "      <th>WhiteElo</th>\n",
       "      <th>BlackElo</th>\n",
       "    </tr>\n",
       "  </thead>\n",
       "  <tbody>\n",
       "    <tr>\n",
       "      <th>0</th>\n",
       "      <td>FICS rated blitz game</td>\n",
       "      <td>FICS freechess.org</td>\n",
       "      <td>2010-01-31</td>\n",
       "      <td>?</td>\n",
       "      <td>dcbadcba</td>\n",
       "      <td>Nelanie</td>\n",
       "      <td>1-0</td>\n",
       "      <td>[d2d4, h7h6, c2c4, d7d6, b1c3, c7c6, e2e4, d8a...</td>\n",
       "      <td>[0.0, 0.0, 0.844, 0.581, 1.0, 0.581, 1.063, 0....</td>\n",
       "      <td>1454</td>\n",
       "      <td>1393</td>\n",
       "    </tr>\n",
       "    <tr>\n",
       "      <th>1</th>\n",
       "      <td>FICS rated blitz game</td>\n",
       "      <td>FICS freechess.org</td>\n",
       "      <td>2010-01-31</td>\n",
       "      <td>?</td>\n",
       "      <td>callipygian</td>\n",
       "      <td>ZlatkoVasilkoski</td>\n",
       "      <td>0-1</td>\n",
       "      <td>[e2e4, e7e5, d2d4, e5d4, d1d4, b8c6, d4d5, g8f...</td>\n",
       "      <td>[0.0, 0.0, 0.1, 1.6019999999999999, 0.1, 1.671...</td>\n",
       "      <td>1303</td>\n",
       "      <td>1297</td>\n",
       "    </tr>\n",
       "  </tbody>\n",
       "</table>\n",
       "</div>"
      ],
      "text/plain": [
       "                   Event                Site       Date Round        White  \\\n",
       "0  FICS rated blitz game  FICS freechess.org 2010-01-31     ?     dcbadcba   \n",
       "1  FICS rated blitz game  FICS freechess.org 2010-01-31     ?  callipygian   \n",
       "\n",
       "              Black Result                                              Moves  \\\n",
       "0           Nelanie    1-0  [d2d4, h7h6, c2c4, d7d6, b1c3, c7c6, e2e4, d8a...   \n",
       "1  ZlatkoVasilkoski    0-1  [e2e4, e7e5, d2d4, e5d4, d1d4, b8c6, d4d5, g8f...   \n",
       "\n",
       "                                          Move_times  WhiteElo  BlackElo  \n",
       "0  [0.0, 0.0, 0.844, 0.581, 1.0, 0.581, 1.063, 0....      1454      1393  \n",
       "1  [0.0, 0.0, 0.1, 1.6019999999999999, 0.1, 1.671...      1303      1297  "
      ]
     },
     "execution_count": 121,
     "metadata": {},
     "output_type": "execute_result"
    }
   ],
   "source": [
    "path = \"../data/Landing/fics_blitz_2010.ndjson\"\n",
    "df = pd.read_json(path, lines=True)\n",
    "df.head(2)\n"
   ]
  },
  {
   "cell_type": "code",
   "execution_count": 58,
   "metadata": {},
   "outputs": [
    {
     "name": "stdout",
     "output_type": "stream",
     "text": [
      "14827\n"
     ]
    }
   ],
   "source": [
    "print(len(df))"
   ]
  },
  {
   "cell_type": "markdown",
   "metadata": {},
   "source": [
    "Here we are sampling our data, for now 15,000 games would be too much. \n",
    "\n",
    "I put a bit of extra preference on higher elo player as I think low elo players would not likely be playing in a tornament. "
   ]
  },
  {
   "cell_type": "code",
   "execution_count": 59,
   "metadata": {},
   "outputs": [
    {
     "name": "stderr",
     "output_type": "stream",
     "text": [
      "C:\\Users\\jonat\\AppData\\Local\\Temp\\ipykernel_18744\\1717859057.py:15: FutureWarning: The default of observed=False is deprecated and will be changed to True in a future version of pandas. Pass observed=False to retain current behavior or observed=True to adopt the future default and silence this warning.\n",
      "  sampled_df = df.groupby('EloBin', group_keys=False).apply(\n"
     ]
    }
   ],
   "source": [
    "# Assuming df is your DataFrame\n",
    "\n",
    "# Define the number of bins\n",
    "num_bins = 20  # Adjust as needed to get more or fewer bins\n",
    "\n",
    "# Create bins based on the range of WhiteElo\n",
    "df['EloBin'] = pd.cut(df['WhiteElo'], bins=np.linspace(700, 2500, num_bins+1))\n",
    "\n",
    "\n",
    "# Calculate the number of samples per bin\n",
    "total_samples = 1000\n",
    "samples_per_bin = total_samples // num_bins\n",
    "\n",
    "# Stratified sampling\n",
    "sampled_df = df.groupby('EloBin', group_keys=False).apply(\n",
    "    lambda x: x.sample(n=min(len(x), samples_per_bin), random_state=42)\n",
    ")\n",
    "\n",
    "# Optional: Shuffle the sampled_df to mix the data\n",
    "sampled_df = sampled_df.sample(frac=1, random_state=42).reset_index(drop=True)"
   ]
  },
  {
   "cell_type": "code",
   "execution_count": 62,
   "metadata": {},
   "outputs": [
    {
     "name": "stdout",
     "output_type": "stream",
     "text": [
      "879\n",
      "879\n"
     ]
    }
   ],
   "source": [
    "# Dropping empty rows\n",
    "print(len(sampled_df))\n",
    "drop_na = [\"WhiteElo\", \"BlackElo\", \"Move_times\", \"Moves\"]\n",
    "sampled_df.dropna(subset=drop_na, inplace=True)\n",
    "print(len(sampled_df))"
   ]
  },
  {
   "cell_type": "code",
   "execution_count": null,
   "metadata": {},
   "outputs": [],
   "source": [
    "# Executing the maia cpl\n",
    "import maia_functions as mf\n",
    "stockfish=Stockfish(\"../stockfish/stockfish-windows-x86-64-avx2.exe\")\n",
    "stockfish.set_depth(12)#How deep the AI looks\n",
    "\n",
    "sampled_df[\"maia_cpl_w\"] = 0\n",
    "sampled_df[\"maia_cpl_b\"] = 0\n",
    "\n",
    "starttime = time.time()\n",
    "for index, row in sampled_df.iterrows():\n",
    "    \n",
    "    cpls = mf.maia_cpl(row, stockfish)\n",
    "    sampled_df.loc[index, \"maia_cpl_w\"] = cpls[0]\n",
    "    sampled_df.loc[index, \"maia_cpl_b\"] = cpls[1]\n",
    "endtime = time.time()\n",
    "print(f\"time taken: {endtime - starttime}\")"
   ]
  },
  {
   "cell_type": "code",
   "execution_count": 69,
   "metadata": {},
   "outputs": [
    {
     "name": "stdout",
     "output_type": "stream",
     "text": [
      "879\n",
      "877\n"
     ]
    }
   ],
   "source": [
    "# Getting rid of none rows\n",
    "print(len(sampled_df))\n",
    "drop_na = [\"maia_cpl_b\", \"maia_cpl_w\"]\n",
    "sampled_df.dropna(subset=drop_na, inplace=True)\n",
    "print(len(sampled_df))"
   ]
  },
  {
   "cell_type": "code",
   "execution_count": 3,
   "metadata": {},
   "outputs": [
    {
     "name": "stderr",
     "output_type": "stream",
     "text": [
      "C:\\Users\\natal\\AppData\\Local\\Temp\\ipykernel_4472\\2210568142.py:11: FutureWarning: Setting an item of incompatible dtype is deprecated and will raise an error in a future version of pandas. Value '51.34375' has dtype incompatible with int64, please explicitly cast to a compatible dtype first.\n",
      "  sampled_df.loc[index, \"stock_cpl_w\"] = cpls[0]\n",
      "C:\\Users\\natal\\AppData\\Local\\Temp\\ipykernel_4472\\2210568142.py:12: FutureWarning: Setting an item of incompatible dtype is deprecated and will raise an error in a future version of pandas. Value '51.53125' has dtype incompatible with int64, please explicitly cast to a compatible dtype first.\n",
      "  sampled_df.loc[index, \"stock_cpl_b\"] = cpls[1]\n"
     ]
    },
    {
     "name": "stdout",
     "output_type": "stream",
     "text": [
      "time taken: 2853.3141565322876\n"
     ]
    }
   ],
   "source": [
    "# Executing the stockfish cpl\n",
    "# Time taken 48 minutes\n",
    "import stockfish_functions as sf\n",
    "\n",
    "sampled_df[\"stock_cpl_w\"] = 0\n",
    "sampled_df[\"stock_cpl_b\"] = 0\n",
    "\n",
    "starttime = time.time()\n",
    "for index, row in sampled_df.iterrows():\n",
    "    \n",
    "    cpls = sf.stockfish_cpl(row)\n",
    "    sampled_df.loc[index, \"stock_cpl_w\"] = cpls[0]\n",
    "    sampled_df.loc[index, \"stock_cpl_b\"] = cpls[1]\n",
    "endtime = time.time()\n",
    "print(f\"time taken: {endtime - starttime}\")\n"
   ]
  },
  {
   "cell_type": "code",
   "execution_count": 109,
   "metadata": {},
   "outputs": [
    {
     "name": "stdout",
     "output_type": "stream",
     "text": [
      "time taken: 0.3086581230163574\n"
     ]
    },
    {
     "name": "stderr",
     "output_type": "stream",
     "text": [
      "C:\\Users\\jonat\\AppData\\Local\\Temp\\ipykernel_18220\\2038840580.py:7: FutureWarning: Setting an item of incompatible dtype is deprecated and will raise in a future error of pandas. Value '5.4176874999999995' has dtype incompatible with int64, please explicitly cast to a compatible dtype first.\n",
      "  sampled_df.loc[index, \"avg_mt_w\"] = np.mean([row[\"Move_times\"][j] for j in range(6, len(row[\"Move_times\"]), 2)])\n",
      "C:\\Users\\jonat\\AppData\\Local\\Temp\\ipykernel_18220\\2038840580.py:8: FutureWarning: Setting an item of incompatible dtype is deprecated and will raise in a future error of pandas. Value '3.83865625' has dtype incompatible with int64, please explicitly cast to a compatible dtype first.\n",
      "  sampled_df.loc[index, \"avg_mt_b\"] = np.mean([row[\"Move_times\"][j] for j in range(7, len(row[\"Move_times\"]), 2)])\n"
     ]
    }
   ],
   "source": [
    "sampled_df[\"avg_mt_w\"] = -1\n",
    "sampled_df[\"avg_mt_b\"] = -1\n",
    "\n",
    "starttime = time.time()\n",
    "for index, row in sampled_df.iterrows():\n",
    "\n",
    "    sampled_df.loc[index, \"avg_mt_w\"] = np.mean([row[\"Move_times\"][j] for j in range(6, len(row[\"Move_times\"]), 2)])\n",
    "    sampled_df.loc[index, \"avg_mt_b\"] = np.mean([row[\"Move_times\"][j] for j in range(7, len(row[\"Move_times\"]), 2)])\n",
    "\n",
    "endtime = time.time()\n",
    "print(f\"time taken: {endtime - starttime}\")"
   ]
  },
  {
   "cell_type": "code",
   "execution_count": null,
   "metadata": {},
   "outputs": [],
   "source": [
    "output_file = '../data/Raw/fics_maia_cpl.ndjson'\n",
    "\n",
    "# Write DataFrame to NDJSON\n",
    "with open(output_file, 'w') as file:\n",
    "    for _, row in sampled_df.iterrows():\n",
    "        # Convert each row to a JSON object and write to file\n",
    "        row_json = row.to_json()\n",
    "        file.write(row_json + '\\n')"
   ]
  },
  {
   "cell_type": "markdown",
   "metadata": {},
   "source": [
    "Below we look at some of the distributions of our features"
   ]
  },
  {
   "cell_type": "code",
   "execution_count": 126,
   "metadata": {},
   "outputs": [],
   "source": [
    "path = '../data/Raw/fics_maia_cpl.ndjson'\n",
    "sampled_df = pd.read_json(path, lines=True)"
   ]
  },
  {
   "cell_type": "markdown",
   "metadata": {},
   "source": [
    "Now we repeat with the wuocc dataset"
   ]
  },
  {
   "cell_type": "code",
   "execution_count": 3,
   "metadata": {},
   "outputs": [],
   "source": [
    "path = \"..\\data\\Raw\\wuocc-blitz-div-d_raw.ndjson\"\n",
    "wuocc_df = pd.read_json(path, lines=True)"
   ]
  },
  {
   "cell_type": "code",
   "execution_count": 4,
   "metadata": {},
   "outputs": [
    {
     "name": "stdout",
     "output_type": "stream",
     "text": [
      "437\n",
      "425\n"
     ]
    }
   ],
   "source": [
    "print(len(wuocc_df))\n",
    "wuocc_df = wuocc_df[wuocc_df['Moves'].apply(len) >= 7]\n",
    "print(len(wuocc_df))"
   ]
  },
  {
   "cell_type": "code",
   "execution_count": null,
   "metadata": {},
   "outputs": [],
   "source": [
    "# Executing the maia cpl\n",
    "import maia_functions as mf\n",
    "stockfish=Stockfish(\"../stockfish/stockfish-windows-x86-64-avx2.exe\")\n",
    "stockfish.set_depth(12)#How deep the AI looks\n",
    "\n",
    "wuocc_df[\"maia_cpl_w\"] = 0\n",
    "wuocc_df[\"maia_cpl_b\"] = 0\n",
    "\n",
    "err_count = 0\n",
    "\n",
    "starttime = time.time()\n",
    "for index, row in wuocc_df.iterrows():\n",
    "    try:\n",
    "        cpls = mf.maia_cpl(row, stockfish)\n",
    "        wuocc_df.loc[index, \"maia_cpl_w\"] = cpls[0]\n",
    "        wuocc_df.loc[index, \"maia_cpl_b\"] = cpls[1]\n",
    "    except:\n",
    "        print(row[\"Moves\"])\n",
    "        print(index)\n",
    "        err_count += 1\n",
    "        \n",
    "endtime = time.time()\n",
    "print(f\"time taken: {endtime - starttime}\")"
   ]
  },
  {
   "cell_type": "code",
   "execution_count": 8,
   "metadata": {},
   "outputs": [
    {
     "name": "stderr",
     "output_type": "stream",
     "text": [
      "C:\\Users\\jonat\\AppData\\Local\\Temp\\ipykernel_7888\\4121992408.py:12: FutureWarning: Setting an item of incompatible dtype is deprecated and will raise in a future error of pandas. Value '11.31578947368421' has dtype incompatible with int64, please explicitly cast to a compatible dtype first.\n",
      "  wuocc_df.loc[index, \"stock_cpl_w\"] = cpls[0]\n",
      "C:\\Users\\jonat\\AppData\\Local\\Temp\\ipykernel_7888\\4121992408.py:13: FutureWarning: Setting an item of incompatible dtype is deprecated and will raise in a future error of pandas. Value '31.35135135135135' has dtype incompatible with int64, please explicitly cast to a compatible dtype first.\n",
      "  wuocc_df.loc[index, \"stock_cpl_b\"] = cpls[1]\n",
      "c:\\Users\\jonat\\anaconda3\\envs\\py310\\lib\\site-packages\\numpy\\core\\fromnumeric.py:3432: RuntimeWarning: Mean of empty slice.\n",
      "  return _methods._mean(a, axis=axis, dtype=dtype,\n",
      "c:\\Users\\jonat\\anaconda3\\envs\\py310\\lib\\site-packages\\numpy\\core\\_methods.py:190: RuntimeWarning: invalid value encountered in double_scalars\n",
      "  ret = ret.dtype.type(ret / rcount)\n"
     ]
    },
    {
     "name": "stdout",
     "output_type": "stream",
     "text": [
      "time taken: 1469.4982805252075\n"
     ]
    }
   ],
   "source": [
    "# Executing the stockfish cpl\n",
    "# Time taken 48 minutes\n",
    "import stockfish_functions as sf\n",
    "\n",
    "wuocc_df[\"stock_cpl_w\"] = 0\n",
    "wuocc_df[\"stock_cpl_b\"] = 0\n",
    "\n",
    "starttime = time.time()\n",
    "for index, row in wuocc_df.iterrows():\n",
    "    \n",
    "    cpls = sf.stockfish_cpl(row)\n",
    "    wuocc_df.loc[index, \"stock_cpl_w\"] = cpls[0]\n",
    "    wuocc_df.loc[index, \"stock_cpl_b\"] = cpls[1]\n",
    "endtime = time.time()\n",
    "print(f\"time taken: {endtime - starttime}\")\n"
   ]
  },
  {
   "cell_type": "code",
   "execution_count": 20,
   "metadata": {},
   "outputs": [],
   "source": [
    "output_file = '../data/Raw/wuocc_blitz_raw.ndjson'\n",
    "\n",
    "# Write DataFrame to NDJSON\n",
    "with open(output_file, 'w') as file:\n",
    "    for _, row in wuocc_df.iterrows():\n",
    "        # Convert each row to a JSON object and write to file\n",
    "        row_json = row.to_json()\n",
    "        file.write(row_json + '\\n')"
   ]
  },
  {
   "cell_type": "code",
   "execution_count": 3,
   "metadata": {},
   "outputs": [],
   "source": [
    "path = \"..\\data\\Raw\\wuocc_blitz_raw.ndjson\"\n",
    "wuocc_df = pd.read_json(path, lines=True)\n",
    "\n",
    "path = '../data/Raw/fics_maia_cpl.ndjson'\n",
    "sampled_df = pd.read_json(path, lines=True)"
   ]
  },
  {
   "cell_type": "code",
   "execution_count": 5,
   "metadata": {},
   "outputs": [
    {
     "data": {
      "text/plain": [
       "Index(['Event', 'Site', 'Date', 'Round', 'White', 'Black', 'Result', 'Moves',\n",
       "       'Move_times', 'WhiteElo', 'BlackElo', 'EloBin', 'maia_cpl_w',\n",
       "       'maia_cpl_b', 'stock_cpl_w', 'stock_cpl_b', 'avg_mt_w', 'avg_mt_b'],\n",
       "      dtype='object')"
      ]
     },
     "execution_count": 5,
     "metadata": {},
     "output_type": "execute_result"
    }
   ],
   "source": [
    "sampled_df.columns"
   ]
  },
  {
   "cell_type": "code",
   "execution_count": 9,
   "metadata": {},
   "outputs": [
    {
     "name": "stdout",
     "output_type": "stream",
     "text": [
      "Index(['Event', 'Site', 'Date', 'Round', 'White', 'Black', 'Result', 'Moves',\n",
      "       'WhiteElo', 'BlackElo', 'maia_cpl_w', 'maia_cpl_b', 'stock_cpl_w',\n",
      "       'stock_cpl_b', 'avg_mt_w', 'avg_mt_b'],\n",
      "      dtype='object')\n",
      "Index(['Event', 'Site', 'Date', 'Round', 'White', 'Black', 'Result', 'Moves',\n",
      "       'Move_times', 'WhiteElo', 'BlackElo', 'EloBin', 'maia_cpl_w',\n",
      "       'maia_cpl_b', 'stock_cpl_w', 'stock_cpl_b', 'avg_mt_w', 'avg_mt_b'],\n",
      "      dtype='object')\n"
     ]
    }
   ],
   "source": [
    "print(wuocc_df.columns)\n",
    "print(sampled_df.columns)"
   ]
  },
  {
   "cell_type": "code",
   "execution_count": 4,
   "metadata": {},
   "outputs": [],
   "source": [
    "curated = []\n",
    "for index, row in sampled_df.iterrows():\n",
    "    curated.append({\n",
    "        \"name\": row[\"White\"],\n",
    "        \"maia_cpl\": row[\"maia_cpl_w\"],\n",
    "        \"stockfish_cpl\": row[\"stock_cpl_w\"],\n",
    "        \"elo\": row[\"WhiteElo\"],\n",
    "        \"moves\": len(row[\"Moves\"])\n",
    "    })\n",
    "\n",
    "    curated.append({\n",
    "        \"name\": row[\"Black\"],\n",
    "        \"maia_cpl\": row[\"maia_cpl_b\"],\n",
    "        \"stockfish_cpl\": row[\"stock_cpl_b\"],\n",
    "        \"elo\": row[\"BlackElo\"],\n",
    "        \"moves\": len(row[\"Moves\"])\n",
    "    })"
   ]
  },
  {
   "cell_type": "code",
   "execution_count": 38,
   "metadata": {},
   "outputs": [],
   "source": [
    "out = df = pd.DataFrame(curated)\n",
    "df.to_csv(\"../data/Curated/baseline_training.csv\", index=False)"
   ]
  },
  {
   "cell_type": "code",
   "execution_count": 40,
   "metadata": {},
   "outputs": [],
   "source": [
    "curated = []\n",
    "for index, row in wuocc_df.iterrows():\n",
    "    curated.append({\n",
    "        \"name\": row[\"White\"],\n",
    "        \"maia_cpl\": row[\"maia_cpl_w\"],\n",
    "        \"stockfish_cpl\": row[\"stock_cpl_w\"],\n",
    "        \"elo\": row[\"WhiteElo\"],\n",
    "        \"moves\": len(row[\"Moves\"])\n",
    "    })\n",
    "\n",
    "    curated.append({\n",
    "        \"name\": row[\"Black\"],\n",
    "        \"maia_cpl\": row[\"maia_cpl_b\"],\n",
    "        \"stockfish_cpl\": row[\"stock_cpl_b\"],\n",
    "        \"elo\": row[\"BlackElo\"],\n",
    "        \"moves\": len(row[\"Moves\"])\n",
    "    })"
   ]
  },
  {
   "cell_type": "code",
   "execution_count": 42,
   "metadata": {},
   "outputs": [],
   "source": [
    "out = df = pd.DataFrame(curated)\n",
    "df.to_csv(\"../data/Curated/wuocc_blitz_div-d.csv\", index=False)"
   ]
  },
  {
   "cell_type": "code",
   "execution_count": null,
   "metadata": {},
   "outputs": [],
   "source": []
  },
  {
   "cell_type": "markdown",
   "metadata": {},
   "source": [
    "## Potential new features\n",
    "\n",
    "\n",
    "https://www.pawnalyze.com/elocator\n",
    "\n",
    "\n",
    "\n",
    "\n"
   ]
  }
 ],
 "metadata": {
  "kernelspec": {
   "display_name": "py310",
   "language": "python",
   "name": "python3"
  },
  "language_info": {
   "codemirror_mode": {
    "name": "ipython",
    "version": 3
   },
   "file_extension": ".py",
   "mimetype": "text/x-python",
   "name": "python",
   "nbconvert_exporter": "python",
   "pygments_lexer": "ipython3",
   "version": "3.9.13"
  }
 },
 "nbformat": 4,
 "nbformat_minor": 2
}
