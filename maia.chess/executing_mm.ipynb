{
 "cells": [
  {
   "cell_type": "code",
   "execution_count": 13,
   "metadata": {},
   "outputs": [],
   "source": [
    "import chess.engine\n",
    "import chess \n",
    "import matplotlib.pyplot as plt\n",
    "import chess.pgn \n",
    "from stockfish import Stockfish\n",
    "import pandas as pd\n",
    "import time\n",
    "import numpy as np\n",
    "import json"
   ]
  },
  {
   "cell_type": "markdown",
   "metadata": {},
   "source": [
    "# Executing the Maia Move Match\n",
    "\n",
    "In this file we execute the maia move match functions on each of the games for each of the different Maia Engines. We then save our results under the curated folder in the data section. Please note that each move match call for the 5000 games takes approximately 70 minutes so do not run again!!!"
   ]
  },
  {
   "cell_type": "code",
   "execution_count": 2,
   "metadata": {},
   "outputs": [],
   "source": [
    "def change_config(model):\n",
    "    \"\"\"\n",
    "    Takes a string of the requested model, then modifies the config file\n",
    "    so that maia uses said model.\n",
    "    \"\"\"\n",
    "    with open(\"lc0_windows\\lc0.config\", \"w\") as file:\n",
    "        file.write(model)\n",
    "\n",
    "    with open('lc0_windows\\lc0.config', 'r') as file:\n",
    "        updated_content = file.read()\n",
    "    print(updated_content)\n",
    "\n",
    "\n",
    "def get_move(board, engine, engine_str):\n",
    "    \"\"\"\n",
    "    Takes the board engine and engine type and returns the best move based on that.\n",
    "    \"\"\"\n",
    "    if engine_str == \"maia\":\n",
    "        maia_move = str(engine.play(board, chess.engine.Limit(time=0.0)).move)\n",
    "        return maia_move\n",
    "    elif engine_str == \"stockfish\":\n",
    "        engine.set_fen_position(board.fen())\n",
    "        return engine.get_best_move()\n",
    "\n",
    "def apply_engine_v2(row, engine, engine_str):\n",
    "    \"\"\"\n",
    "    Takes in a row, and outputs the move match for a given maia engine.\n",
    "    \"\"\"\n",
    "    moves = row[\"Moves\"]\n",
    "    if len(moves) < 7:\n",
    "        return None\n",
    "    mm_w = []\n",
    "    mm_b = []\n",
    "    board = chess.Board()\n",
    "    \n",
    "    # exclude the first 6 moves in our analysis\n",
    "    for j in range(6):\n",
    "        board.push_san(moves[j])\n",
    "        \n",
    "    for i in range(6, len(moves)):\n",
    "    \n",
    "        if i%2 == 0:\n",
    "            mm_w.append(get_move(board, engine, engine_str) == moves[i])\n",
    "\n",
    "        else:\n",
    "        #if i%2 == 1:\n",
    "            mm_b.append(get_move(board, engine, engine_str) == moves[i])\n",
    "\n",
    "        board.push_san(moves[i])\n",
    "\n",
    "    # Calculate the proportion of True values\n",
    "    proportion_true_w = sum(mm_w) / len(mm_w)\n",
    "    proportion_true_b = sum(mm_b) / len(mm_b)    \n",
    "\n",
    "    w_out = {\n",
    "        \"elo\": int(row[\"BlackElo\"]),\n",
    "        \"mm\": proportion_true_b\n",
    "    }\n",
    "    w_out = {\n",
    "        \"elo\": int(row[\"WhiteElo\"]),\n",
    "        \"mm\": proportion_true_w\n",
    "    }\n",
    "    \n",
    "    return [w_out, w_out]\n",
    "\n",
    "def execute_maia_mm_v2(model, games):\n",
    "    \"\"\"\n",
    "    Executes the move matching algorithms and returns a list of dictionaries {elo: , mm: }\n",
    "    \"\"\"\n",
    "    change_config(model)\n",
    "    maia = chess.engine.SimpleEngine.popen_uci([\"lc0_windows\\lc0.exe\"])\n",
    "    mm = []\n",
    "\n",
    "    for game in games:\n",
    "        try:\n",
    "            move_matches = apply_engine_v2(game, maia, \"maia\")\n",
    "            mm.append(move_matches[0])\n",
    "            mm.append(move_matches[1])\n",
    "        except:\n",
    "            continue\n",
    "    maia.quit()\n",
    "\n",
    "    return mm\n",
    "\n",
    "\n",
    "def execute_stockfish_mm(games, depth):\n",
    "    \"\"\"\n",
    "    Executes the move matching algorithms and returns a list of dictionaries {elo: , mm: }\n",
    "    \"\"\"\n",
    "    mm = []\n",
    "    stockfish=Stockfish(\"../stockfish/stockfish-windows-x86-64-avx2.exe\")\n",
    "    stockfish.set_depth(depth)\n",
    "\n",
    "    for game in games:\n",
    "        try:\n",
    "            move_matches = apply_engine_v2(game, stockfish, \"stockfish\")\n",
    "            mm.append(move_matches[0])\n",
    "            mm.append(move_matches[1])\n",
    "        except:\n",
    "            continue\n",
    "\n",
    "    return mm\n"
   ]
  },
  {
   "cell_type": "code",
   "execution_count": 69,
   "metadata": {},
   "outputs": [],
   "source": [
    "def closest_100(x):\n",
    "    if x < 1100:\n",
    "        return 1100\n",
    "    elif x > 1900:\n",
    "        return 1900\n",
    "    else:\n",
    "        return round(x / 100) * 100\n",
    "\n",
    "\n",
    "def maia_cpl(row, stockfish):\n",
    "    \"\"\" returns the cpl of maia engine for both black and white\"\"\"\n",
    "\n",
    "    cpl_w = []\n",
    "    cpl_b = []\n",
    "\n",
    "    # defining closest maia model based on the white elo\n",
    "    model_w = f\"--weights=lc0_windows\\models\\maia-{closest_100(int(row['WhiteElo']))}.pb.gz\"\n",
    "    change_config(model_w)\n",
    "    maia_w = chess.engine.SimpleEngine.popen_uci([\"lc0_windows\\lc0.exe\"])\n",
    "\n",
    "    # defining closest maia model based on the black elo\n",
    "    model_b = f\"--weights=lc0_windows\\models\\maia-{closest_100(int(row['BlackElo']))}.pb.gz\"\n",
    "    change_config(model_b)\n",
    "    maia_b = chess.engine.SimpleEngine.popen_uci([\"lc0_windows\\lc0.exe\"])\n",
    "\n",
    "    # making sure there are more than 6 moves\n",
    "    moves = row[\"Moves\"]\n",
    "    if len(moves) < 7:\n",
    "        return None\n",
    "    \n",
    "    board = chess.Board()\n",
    "    \n",
    "    # exclude the first 6 moves in our analysis\n",
    "    for j in range(6):\n",
    "        board.push_san(moves[j])\n",
    "        \n",
    "    for i in range(6, len(moves)):\n",
    "    \n",
    "        if i%2 == 0:\n",
    "            try:\n",
    "                maia_move = get_move(board, maia_w, \"maia\")\n",
    "                cpl_w.append(get_cpl(maia_move, board, stockfish) - get_cpl(moves[i], board, stockfish))\n",
    "            except:\n",
    "                continue\n",
    "\n",
    "        else:\n",
    "            try:\n",
    "                maia_move = get_move(board, maia_b, \"maia\")\n",
    "                cpl_b.append(-(get_cpl(maia_move, board, stockfish) - get_cpl(moves[i], board, stockfish)))\n",
    "            except:\n",
    "                continue\n",
    "        board.push_san(moves[i])\n",
    "    \n",
    "    \n",
    "    return (np.mean(cpl_w), np.mean(cpl_b))\n",
    "    \n",
    "\n",
    "def get_cpl(move, board, stockfish):\n",
    "    board.push_san(move)\n",
    "    stockfish.set_fen_position(board.fen())\n",
    "    eval = stockfish.get_evaluation()\n",
    "    board.pop()\n",
    "\n",
    "    if (eval[\"type\"] == \"cp\"):\n",
    "        return eval[\"value\"]\n",
    "    else:\n",
    "        return None\n",
    "    \n",
    "    \n",
    "\n"
   ]
  },
  {
   "cell_type": "code",
   "execution_count": 23,
   "metadata": {},
   "outputs": [],
   "source": [
    "# Reading in the new lichess data 5000 games\n",
    "path = \"..\\data\\Curated\\lichess_2024.ndjson\"\n",
    "temp = []\n",
    "\n",
    "count = 0\n",
    "with open(path, 'r') as file:\n",
    "    for line in file:\n",
    "        temp.append(json.loads(line))\n",
    "        if count == 50:\n",
    "            break"
   ]
  },
  {
   "cell_type": "code",
   "execution_count": 70,
   "metadata": {},
   "outputs": [
    {
     "name": "stderr",
     "output_type": "stream",
     "text": [
      "<UciProtocol (pid=26068)>: stderr >>        _\n",
      "<UciProtocol (pid=26068)>: stderr >> |   _ | |\n",
      "<UciProtocol (pid=26068)>: stderr >> |_ |_ |_| v0.30.0 built Jul 21 2023\n",
      "<UciProtocol (pid=26068)>: stderr >> Found configuration file: c:\\pc_coding\\Group-13_Chess_Project\\maia.chess\\lc0_windows/lc0.config\n",
      "<UciProtocol (pid=7324)>: stderr >>        _\n",
      "<UciProtocol (pid=7324)>: stderr >> |   _ | |\n",
      "<UciProtocol (pid=7324)>: stderr >> |_ |_ |_| v0.30.0 built Jul 21 2023\n",
      "<UciProtocol (pid=7324)>: stderr >> Found configuration file: c:\\pc_coding\\Group-13_Chess_Project\\maia.chess\\lc0_windows/lc0.config\n",
      "<UciProtocol (pid=26068)>: stderr >> Loading weights file from: lc0_windows\\models\\maia-1300.pb.gz\n",
      "<UciProtocol (pid=26068)>: stderr >> Creating backend [cuda-auto]...\n"
     ]
    },
    {
     "name": "stdout",
     "output_type": "stream",
     "text": [
      "--weights=lc0_windows\\models\\maia-1300.pb.gz\n",
      "--weights=lc0_windows\\models\\maia-1400.pb.gz\n"
     ]
    },
    {
     "name": "stderr",
     "output_type": "stream",
     "text": [
      "<UciProtocol (pid=26068)>: stderr >> Switching to [cuda-fp16]...\n",
      "<UciProtocol (pid=26068)>: stderr >> CUDA Runtime version: 11.1.0\n",
      "<UciProtocol (pid=26068)>: stderr >> Latest version of CUDA supported by the driver: 12.5.0\n",
      "<UciProtocol (pid=26068)>: stderr >> GPU: NVIDIA GeForce RTX 3070\n",
      "<UciProtocol (pid=26068)>: stderr >> GPU memory: 7.99951 Gb\n",
      "<UciProtocol (pid=26068)>: stderr >> GPU clock frequency: 1815 MHz\n",
      "<UciProtocol (pid=26068)>: stderr >> GPU compute capability: 8.6\n",
      "<UciProtocol (pid=26068)>: stderr >> L2 cache capacity: 4194304\n",
      "<UciProtocol (pid=7324)>: stderr >> Loading weights file from: lc0_windows\\models\\maia-1400.pb.gz\n",
      "<UciProtocol (pid=7324)>: stderr >> Creating backend [cuda-auto]...\n",
      "<UciProtocol (pid=7324)>: stderr >> Switching to [cuda-fp16]...\n",
      "<UciProtocol (pid=7324)>: stderr >> CUDA Runtime version: 11.1.0\n",
      "<UciProtocol (pid=7324)>: stderr >> Latest version of CUDA supported by the driver: 12.5.0\n",
      "<UciProtocol (pid=7324)>: stderr >> GPU: NVIDIA GeForce RTX 3070\n",
      "<UciProtocol (pid=7324)>: stderr >> GPU memory: 7.99951 Gb\n",
      "<UciProtocol (pid=7324)>: stderr >> GPU clock frequency: 1815 MHz\n",
      "<UciProtocol (pid=7324)>: stderr >> GPU compute capability: 8.6\n",
      "<UciProtocol (pid=7324)>: stderr >> L2 cache capacity: 4194304\n"
     ]
    },
    {
     "data": {
      "text/plain": [
       "(-4.2, 1.6)"
      ]
     },
     "execution_count": 70,
     "metadata": {},
     "output_type": "execute_result"
    }
   ],
   "source": [
    "stockfish=Stockfish(\"../stockfish/stockfish-windows-x86-64-avx2.exe\")\n",
    "stockfish.set_depth(12)#How deep the AI looks\n",
    "out = maia_cpl(temp[0], stockfish)\n",
    "\n",
    "out\n"
   ]
  },
  {
   "cell_type": "code",
   "execution_count": 19,
   "metadata": {},
   "outputs": [],
   "source": [
    "# Reading in the new lichess data 5000 games\n",
    "path = \"..\\data\\Curated\\lichess_2024.ndjson\"\n",
    "games = []\n",
    "\n",
    "count = 0\n",
    "with open(path, 'r') as file:\n",
    "    for line in file:\n",
    "        games.append(json.loads(line))"
   ]
  },
  {
   "cell_type": "code",
   "execution_count": 5,
   "metadata": {},
   "outputs": [
    {
     "name": "stdout",
     "output_type": "stream",
     "text": [
      "--weights=lc0_windows\\models\\maia-1100.pb.gz\n"
     ]
    },
    {
     "name": "stderr",
     "output_type": "stream",
     "text": [
      "<UciProtocol (pid=18640)>: stderr >>        _\n",
      "<UciProtocol (pid=18640)>: stderr >> |   _ | |\n",
      "<UciProtocol (pid=18640)>: stderr >> |_ |_ |_| v0.30.0 built Jul 21 2023\n",
      "<UciProtocol (pid=18640)>: stderr >> Found configuration file: c:\\pc_coding\\Group-13_Chess_Project\\maia.chess\\lc0_windows/lc0.config\n",
      "<UciProtocol (pid=18640)>: stderr >> Loading weights file from: lc0_windows\\models\\maia-1100.pb.gz\n",
      "<UciProtocol (pid=18640)>: stderr >> Creating backend [cuda-auto]...\n",
      "<UciProtocol (pid=18640)>: stderr >> Switching to [cuda-fp16]...\n",
      "<UciProtocol (pid=18640)>: stderr >> CUDA Runtime version: 11.1.0\n",
      "<UciProtocol (pid=18640)>: stderr >> Latest version of CUDA supported by the driver: 12.5.0\n",
      "<UciProtocol (pid=18640)>: stderr >> GPU: NVIDIA GeForce RTX 3070\n",
      "<UciProtocol (pid=18640)>: stderr >> GPU memory: 7.99939 Gb\n",
      "<UciProtocol (pid=18640)>: stderr >> GPU clock frequency: 1815 MHz\n",
      "<UciProtocol (pid=18640)>: stderr >> GPU compute capability: 8.6\n",
      "<UciProtocol (pid=18640)>: stderr >> L2 cache capacity: 4194304\n"
     ]
    }
   ],
   "source": [
    "model = \"--weights=lc0_windows\\models\\maia-1100.pb.gz\"\n",
    "maia_1100 = execute_maia_mm_v2(model, games)\n",
    "# Save to a newline-delimited JSON file\n",
    "with open('../data/curated/maia-1100.ndjson', 'w') as f:\n",
    "    for entry in maia_1100:\n",
    "        json_line = json.dumps(entry)\n",
    "        f.write(json_line + '\\n')"
   ]
  },
  {
   "cell_type": "code",
   "execution_count": 6,
   "metadata": {},
   "outputs": [
    {
     "name": "stdout",
     "output_type": "stream",
     "text": [
      "--weights=lc0_windows\\models\\maia-1200.pb.gz\n"
     ]
    },
    {
     "name": "stderr",
     "output_type": "stream",
     "text": [
      "<UciProtocol (pid=3196)>: stderr >>        _\n",
      "<UciProtocol (pid=3196)>: stderr >> |   _ | |\n",
      "<UciProtocol (pid=3196)>: stderr >> |_ |_ |_| v0.30.0 built Jul 21 2023\n",
      "<UciProtocol (pid=3196)>: stderr >> Found configuration file: c:\\pc_coding\\Group-13_Chess_Project\\maia.chess\\lc0_windows/lc0.config\n",
      "<UciProtocol (pid=3196)>: stderr >> Loading weights file from: lc0_windows\\models\\maia-1200.pb.gz\n",
      "<UciProtocol (pid=3196)>: stderr >> Creating backend [cuda-auto]...\n",
      "<UciProtocol (pid=3196)>: stderr >> Switching to [cuda-fp16]...\n",
      "<UciProtocol (pid=3196)>: stderr >> CUDA Runtime version: 11.1.0\n",
      "<UciProtocol (pid=3196)>: stderr >> Latest version of CUDA supported by the driver: 12.5.0\n",
      "<UciProtocol (pid=3196)>: stderr >> GPU: NVIDIA GeForce RTX 3070\n",
      "<UciProtocol (pid=3196)>: stderr >> GPU memory: 7.99939 Gb\n",
      "<UciProtocol (pid=3196)>: stderr >> GPU clock frequency: 1815 MHz\n",
      "<UciProtocol (pid=3196)>: stderr >> GPU compute capability: 8.6\n",
      "<UciProtocol (pid=3196)>: stderr >> L2 cache capacity: 4194304\n"
     ]
    }
   ],
   "source": [
    "model = \"--weights=lc0_windows\\models\\maia-1200.pb.gz\"\n",
    "maia_1200 = execute_maia_mm_v2(model, games)\n",
    "# Save to a newline-delimited JSON file\n",
    "with open('../data/curated/maia-1200.ndjson', 'w') as f:\n",
    "    for entry in maia_1200:\n",
    "        json_line = json.dumps(entry)\n",
    "        f.write(json_line + '\\n')"
   ]
  },
  {
   "cell_type": "code",
   "execution_count": 7,
   "metadata": {},
   "outputs": [
    {
     "name": "stderr",
     "output_type": "stream",
     "text": [
      "<UciProtocol (pid=14780)>: stderr >>        _\n",
      "<UciProtocol (pid=14780)>: stderr >> |   _ | |\n",
      "<UciProtocol (pid=14780)>: stderr >> |_ |_ |_| v0.30.0 built Jul 21 2023\n",
      "<UciProtocol (pid=14780)>: stderr >> Found configuration file: c:\\pc_coding\\Group-13_Chess_Project\\maia.chess\\lc0_windows/lc0.config\n",
      "<UciProtocol (pid=14780)>: stderr >> Loading weights file from: lc0_windows\\models\\maia-1300.pb.gz\n",
      "<UciProtocol (pid=14780)>: stderr >> Creating backend [cuda-auto]...\n",
      "<UciProtocol (pid=14780)>: stderr >> Switching to [cuda-fp16]...\n",
      "<UciProtocol (pid=14780)>: stderr >> CUDA Runtime version: 11.1.0\n",
      "<UciProtocol (pid=14780)>: stderr >> Latest version of CUDA supported by the driver: 12.5.0\n",
      "<UciProtocol (pid=14780)>: stderr >> GPU: NVIDIA GeForce RTX 3070\n",
      "<UciProtocol (pid=14780)>: stderr >> GPU memory: 7.99939 Gb\n",
      "<UciProtocol (pid=14780)>: stderr >> GPU clock frequency: 1815 MHz\n",
      "<UciProtocol (pid=14780)>: stderr >> GPU compute capability: 8.6\n",
      "<UciProtocol (pid=14780)>: stderr >> L2 cache capacity: 4194304\n"
     ]
    },
    {
     "name": "stdout",
     "output_type": "stream",
     "text": [
      "--weights=lc0_windows\\models\\maia-1300.pb.gz\n"
     ]
    }
   ],
   "source": [
    "model = \"--weights=lc0_windows\\models\\maia-1300.pb.gz\"\n",
    "maia_1300 = execute_maia_mm_v2(model, games)\n",
    "# Save to a newline-delimited JSON file\n",
    "with open('../data/curated/maia-1300.ndjson', 'w') as f:\n",
    "    for entry in maia_1300:\n",
    "        json_line = json.dumps(entry)\n",
    "        f.write(json_line + '\\n')"
   ]
  },
  {
   "cell_type": "code",
   "execution_count": 8,
   "metadata": {},
   "outputs": [
    {
     "name": "stdout",
     "output_type": "stream",
     "text": [
      "--weights=lc0_windows\\models\\maia-1400.pb.gz\n"
     ]
    },
    {
     "name": "stderr",
     "output_type": "stream",
     "text": [
      "<UciProtocol (pid=24048)>: stderr >>        _\n",
      "<UciProtocol (pid=24048)>: stderr >> |   _ | |\n",
      "<UciProtocol (pid=24048)>: stderr >> |_ |_ |_| v0.30.0 built Jul 21 2023\n",
      "<UciProtocol (pid=24048)>: stderr >> Found configuration file: c:\\pc_coding\\Group-13_Chess_Project\\maia.chess\\lc0_windows/lc0.config\n",
      "<UciProtocol (pid=24048)>: stderr >> Loading weights file from: lc0_windows\\models\\maia-1400.pb.gz\n",
      "<UciProtocol (pid=24048)>: stderr >> Creating backend [cuda-auto]...\n",
      "<UciProtocol (pid=24048)>: stderr >> Switching to [cuda-fp16]...\n",
      "<UciProtocol (pid=24048)>: stderr >> CUDA Runtime version: 11.1.0\n",
      "<UciProtocol (pid=24048)>: stderr >> Latest version of CUDA supported by the driver: 12.5.0\n",
      "<UciProtocol (pid=24048)>: stderr >> GPU: NVIDIA GeForce RTX 3070\n",
      "<UciProtocol (pid=24048)>: stderr >> GPU memory: 7.99939 Gb\n",
      "<UciProtocol (pid=24048)>: stderr >> GPU clock frequency: 1815 MHz\n",
      "<UciProtocol (pid=24048)>: stderr >> GPU compute capability: 8.6\n",
      "<UciProtocol (pid=24048)>: stderr >> L2 cache capacity: 4194304\n"
     ]
    }
   ],
   "source": [
    "model = \"--weights=lc0_windows\\models\\maia-1400.pb.gz\"\n",
    "maia_1400 = execute_maia_mm_v2(model, games)\n",
    "# Save to a newline-delimited JSON file\n",
    "with open('../data/curated/maia-1400.ndjson', 'w') as f:\n",
    "    for entry in maia_1400:\n",
    "        json_line = json.dumps(entry)\n",
    "        f.write(json_line + '\\n')"
   ]
  },
  {
   "cell_type": "code",
   "execution_count": 9,
   "metadata": {},
   "outputs": [
    {
     "name": "stderr",
     "output_type": "stream",
     "text": [
      "<UciProtocol (pid=2992)>: stderr >>        _\n",
      "<UciProtocol (pid=2992)>: stderr >> |   _ | |\n",
      "<UciProtocol (pid=2992)>: stderr >> |_ |_ |_| v0.30.0 built Jul 21 2023\n",
      "<UciProtocol (pid=2992)>: stderr >> Found configuration file: c:\\pc_coding\\Group-13_Chess_Project\\maia.chess\\lc0_windows/lc0.config\n",
      "<UciProtocol (pid=2992)>: stderr >> Loading weights file from: lc0_windows\\models\\maia-1500.pb.gz\n",
      "<UciProtocol (pid=2992)>: stderr >> Creating backend [cuda-auto]...\n",
      "<UciProtocol (pid=2992)>: stderr >> Switching to [cuda-fp16]...\n",
      "<UciProtocol (pid=2992)>: stderr >> CUDA Runtime version: 11.1.0\n",
      "<UciProtocol (pid=2992)>: stderr >> Latest version of CUDA supported by the driver: 12.5.0\n",
      "<UciProtocol (pid=2992)>: stderr >> GPU: NVIDIA GeForce RTX 3070\n",
      "<UciProtocol (pid=2992)>: stderr >> GPU memory: 7.99939 Gb\n",
      "<UciProtocol (pid=2992)>: stderr >> GPU clock frequency: 1815 MHz\n",
      "<UciProtocol (pid=2992)>: stderr >> GPU compute capability: 8.6\n",
      "<UciProtocol (pid=2992)>: stderr >> L2 cache capacity: 4194304\n"
     ]
    },
    {
     "name": "stdout",
     "output_type": "stream",
     "text": [
      "--weights=lc0_windows\\models\\maia-1500.pb.gz\n"
     ]
    }
   ],
   "source": [
    "model = \"--weights=lc0_windows\\models\\maia-1500.pb.gz\"\n",
    "maia_1500 = execute_maia_mm_v2(model, games)\n",
    "# Save to a newline-delimited JSON file\n",
    "with open('../data/curated/maia-1500.ndjson', 'w') as f:\n",
    "    for entry in maia_1500:\n",
    "        json_line = json.dumps(entry)\n",
    "        f.write(json_line + '\\n')"
   ]
  },
  {
   "cell_type": "code",
   "execution_count": null,
   "metadata": {},
   "outputs": [],
   "source": [
    "model = \"--weights=lc0_windows\\models\\maia-1600.pb.gz\"\n",
    "maia_1600 = execute_maia_mm_v2(model, games)\n",
    "# Save to a newline-delimited JSON file\n",
    "with open('../data/curated/maia-1600.ndjson', 'w') as f:\n",
    "    for entry in maia_1600:\n",
    "        json_line = json.dumps(entry)\n",
    "        f.write(json_line + '\\n')"
   ]
  },
  {
   "cell_type": "code",
   "execution_count": null,
   "metadata": {},
   "outputs": [],
   "source": [
    "model = \"--weights=lc0_windows\\models\\maia-1700.pb.gz\"\n",
    "maia_1700 = execute_maia_mm_v2(model, games)\n",
    "# Save to a newline-delimited JSON file\n",
    "with open('../data/curated/maia-1700.ndjson', 'w') as f:\n",
    "    for entry in maia_1700:\n",
    "        json_line = json.dumps(entry)\n",
    "        f.write(json_line + '\\n')"
   ]
  },
  {
   "cell_type": "code",
   "execution_count": null,
   "metadata": {},
   "outputs": [],
   "source": [
    "model = \"--weights=lc0_windows\\models\\maia-1800.pb.gz\"\n",
    "maia_1800 = execute_maia_mm_v2(model, games)\n",
    "# Save to a newline-delimited JSON file\n",
    "with open('../data/curated/maia-1800.ndjson', 'w') as f:\n",
    "    for entry in maia_1800:\n",
    "        json_line = json.dumps(entry)\n",
    "        f.write(json_line + '\\n')"
   ]
  },
  {
   "cell_type": "code",
   "execution_count": null,
   "metadata": {},
   "outputs": [],
   "source": [
    "model = \"--weights=lc0_windows\\models\\maia-1900.pb.gz\"\n",
    "maia_1900 = execute_maia_mm_v2(model, games)\n",
    "# Save to a newline-delimited JSON file\n",
    "with open('../data/curated/maia-1900.ndjson', 'w') as f:\n",
    "    for entry in maia_1900:\n",
    "        json_line = json.dumps(entry)\n",
    "        f.write(json_line + '\\n')"
   ]
  },
  {
   "cell_type": "code",
   "execution_count": 23,
   "metadata": {},
   "outputs": [],
   "source": [
    "stockfish = execute_stockfish_mm(games, 14)\n",
    "# Save to a newline-delimited JSON file\n",
    "with open('../data/curated/stockfish.ndjson', 'w') as f:\n",
    "    for entry in stockfish:\n",
    "        json_line = json.dumps(entry)\n",
    "        f.write(json_line + '\\n')"
   ]
  }
 ],
 "metadata": {
  "kernelspec": {
   "display_name": "py310",
   "language": "python",
   "name": "python3"
  },
  "language_info": {
   "codemirror_mode": {
    "name": "ipython",
    "version": 3
   },
   "file_extension": ".py",
   "mimetype": "text/x-python",
   "name": "python",
   "nbconvert_exporter": "python",
   "pygments_lexer": "ipython3",
   "version": "3.10.11"
  }
 },
 "nbformat": 4,
 "nbformat_minor": 2
}
