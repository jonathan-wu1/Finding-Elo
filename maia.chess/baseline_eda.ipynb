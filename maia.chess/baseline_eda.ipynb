{
 "cells": [
  {
   "cell_type": "code",
   "execution_count": null,
   "metadata": {},
   "outputs": [],
   "source": []
  },
  {
   "cell_type": "code",
   "execution_count": null,
   "metadata": {},
   "outputs": [],
   "source": [
    "plt.figure(figsize=(8, 5))\n",
    "plt.hist(sampled_df['avg_mt_w'], bins = 30, alpha=.7, edgecolor='black', label=\"White\")\n",
    "plt.hist(sampled_df['avg_mt_b'], bins = 30, alpha=.4, edgecolor='grey', label=\"Black\")\n",
    "\n",
    "plt.xlabel('Average Move Times')\n",
    "plt.ylabel('Frequency')\n",
    "plt.title('Distribution of Average Move Times')\n",
    "\n",
    "plt.legend()\n",
    "\n",
    "plt.grid(True)\n",
    "ax = plt.gca()\n",
    "ax.spines['top'].set_visible(False)\n",
    "ax.spines['right'].set_visible(False)\n",
    "ax.spines['bottom'].set_visible(False)\n",
    "ax.spines['left'].set_visible(False)\n",
    "\n",
    "\n",
    "\n",
    "plt.show()"
   ]
  },
  {
   "cell_type": "code",
   "execution_count": null,
   "metadata": {},
   "outputs": [],
   "source": [
    "# Plotting the box plot of maia cpls\n",
    "plt.figure(figsize=(8, 6))\n",
    "plt.boxplot([sampled_df['maia_cpl_b'], sampled_df['maia_cpl_w']], labels = [\"Black\", \"White\"])\n",
    "plt.title('Difference in performance compared to Maia distributions')\n",
    "plt.ylabel('Average CPL Difference')\n",
    "\n",
    "plt.show()"
   ]
  }
 ],
 "metadata": {
  "language_info": {
   "name": "python"
  }
 },
 "nbformat": 4,
 "nbformat_minor": 2
}
