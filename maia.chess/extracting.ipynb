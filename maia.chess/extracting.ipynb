{
 "cells": [
  {
   "cell_type": "code",
   "execution_count": 1,
   "metadata": {},
   "outputs": [],
   "source": [
    "import chess.engine\n",
    "import chess.pgn\n",
    "import chess \n",
    "import json\n",
    "import time"
   ]
  },
  {
   "cell_type": "markdown",
   "metadata": {},
   "source": [
    "## Extracting games from lichess database\n",
    "\n",
    "In this notebook we download a large dataset from the lichess [database](https://database.lichess.org/) and extract 5000 games from May 2024. This is done locally as the pgn file is over 31 GB and cannot be uploaded to GitHub."
   ]
  },
  {
   "cell_type": "code",
   "execution_count": 10,
   "metadata": {},
   "outputs": [
    {
     "name": "stdout",
     "output_type": "stream",
     "text": [
      "11.2519690990448\n"
     ]
    }
   ],
   "source": [
    "pgn_file = open(\"lichess_db_standard_rated_2024-05.pgn\")\n",
    "\n",
    "count = 0\n",
    "# Parse the PGN file\n",
    "game = chess.pgn.read_game(pgn_file)\n",
    "games = []\n",
    "\n",
    "start = time.time()\n",
    "# Iterate over the games in the PGN file\n",
    "while game is not None:\n",
    "    count += 1\n",
    "    data = {\n",
    "                'Event': game.headers.get('Event', ''), \n",
    "                'Site': game.headers.get('Site', ''), \n",
    "                'Date': game.headers.get('Date', ''), \n",
    "                'Round': game.headers.get('Round', ''), \n",
    "                'White': game.headers.get('White', ''), \n",
    "                'Black': game.headers.get('Black', ''), \n",
    "                'Result': game.headers.get('Result', ''), \n",
    "                'Moves': [str(move) for move in game.mainline_moves()], \n",
    "                'WhiteElo': game.headers.get('WhiteElo', ''), \n",
    "                'BlackElo': game.headers.get('BlackElo', '')}\n",
    "    \n",
    "    # Read the next game\n",
    "    game = chess.pgn.read_game(pgn_file)\n",
    "    games.append(data)\n",
    "\n",
    "    if count == 5000:\n",
    "        break\n",
    "\n",
    "end = time.time()\n",
    "print(end - start)\n",
    "# Close the PGN file\n",
    "pgn_file.close()"
   ]
  },
  {
   "cell_type": "code",
   "execution_count": 13,
   "metadata": {},
   "outputs": [
    {
     "data": {
      "text/plain": [
       "4948"
      ]
     },
     "execution_count": 13,
     "metadata": {},
     "output_type": "execute_result"
    }
   ],
   "source": [
    "for game in games:\n",
    "    if len(game['Moves']) < 7:\n",
    "        games.remove(game)\n",
    "    if game['Moves'] == None:\n",
    "        print(game)\n",
    "len(games)"
   ]
  },
  {
   "cell_type": "code",
   "execution_count": 14,
   "metadata": {},
   "outputs": [
    {
     "name": "stdout",
     "output_type": "stream",
     "text": [
      "4948\n"
     ]
    }
   ],
   "source": [
    "# Save to a newline-delimited JSON file\n",
    "with open('lichess_2024.ndjson', 'w') as f:\n",
    "    for entry in games:\n",
    "        json_line = json.dumps(entry)\n",
    "        f.write(json_line + '\\n')"
   ]
  }
 ],
 "metadata": {
  "kernelspec": {
   "display_name": "py310",
   "language": "python",
   "name": "python3"
  },
  "language_info": {
   "codemirror_mode": {
    "name": "ipython",
    "version": 3
   },
   "file_extension": ".py",
   "mimetype": "text/x-python",
   "name": "python",
   "nbconvert_exporter": "python",
   "pygments_lexer": "ipython3",
   "version": "3.10.11"
  }
 },
 "nbformat": 4,
 "nbformat_minor": 2
}
