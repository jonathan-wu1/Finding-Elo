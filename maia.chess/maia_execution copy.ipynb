{
 "cells": [
  {
   "cell_type": "code",
   "execution_count": 1,
   "metadata": {},
   "outputs": [],
   "source": [
    "import chess.engine\n",
    "import chess \n",
    "import matplotlib.pyplot as plt\n",
    "import matplotlib.colors as mcolors\n",
    "import chess.pgn \n",
    "from stockfish import Stockfish\n",
    "import pandas as pd\n",
    "import time\n",
    "import numpy as np\n",
    "import chess\n",
    "import chess.pgn\n",
    "import time\n",
    "import multiprocessing as mp\n",
    "import sys\n",
    "from stockfish import Stockfish\n",
    "import numpy as np\n",
    "import json"
   ]
  },
  {
   "cell_type": "code",
   "execution_count": 2,
   "metadata": {},
   "outputs": [],
   "source": [
    "from maia_functions import *"
   ]
  },
  {
   "cell_type": "code",
   "execution_count": 3,
   "metadata": {},
   "outputs": [],
   "source": [
    "def extract_features(game):\n",
    "    # Read the next game\n",
    "    features = defaultdict(int)\n",
    "    stockfish=Stockfish(\"../stockfish/stockfish-windows-x86-64-avx2.exe\")\n",
    "    stockfish.set_depth(15)#How deep the AI looks\n",
    "    features = defaultdict(int)\n",
    "    features[\"moves\"] = [str(move) for move in game.mainline_moves()]\n",
    "    features[\"WhiteElo\"] = game.headers.get('WhiteElo', '')\n",
    "    features[\"BlackElo\"] = game.headers.get('BlackElo', '')\n",
    "    features[\"white\"] = game.headers.get('White', '')\n",
    "    features[\"black\"] = game.headers.get('Black', '')\n",
    "    try:\n",
    "        mm = maia_cpl(features, stockfish)\n",
    "        features[\"maia_cpl_w\"] = mm[\"cplw\"]\n",
    "        features[\"maia_cpl_b\"] = mm[\"cplb\"]\n",
    "    except:\n",
    "        return features\n",
    "    return features"
   ]
  },
  {
   "cell_type": "code",
   "execution_count": 4,
   "metadata": {},
   "outputs": [],
   "source": [
    "pgn_file_path = \"../data/landing/FIDE_openings.pgn\"\n",
    "\n",
    "games = []\n",
    "pgn_file = open(pgn_file_path)\n",
    "game = chess.pgn.read_game(pgn_file)\n",
    "\n",
    "start = 0\n",
    "limit = 10000\n",
    "count = 0\n",
    "while game is not None:\n",
    "    #features = extract_features(game)\n",
    "    games.append(game)\n",
    "\n",
    "    count += 1\n",
    "    if count == limit:\n",
    "        break\n",
    "    game = chess.pgn.read_game(pgn_file)\n",
    "\n",
    "pgn_file.close()"
   ]
  },
  {
   "cell_type": "code",
   "execution_count": 5,
   "metadata": {},
   "outputs": [
    {
     "name": "stderr",
     "output_type": "stream",
     "text": [
      "<UciProtocol (pid=6436)>: stderr >>        _\n",
      "<UciProtocol (pid=6436)>: stderr >> |   _ | |\n",
      "<UciProtocol (pid=6436)>: stderr >> |_ |_ |_| v0.31.1 built Aug 11 2024\n",
      "<UciProtocol (pid=6436)>: stderr >> Found configuration file: c:\\pc_coding\\Finding-Elo\\maia.chess\\lc0_windows/lc0.config\n",
      "<UciProtocol (pid=8788)>: stderr >>        _\n",
      "<UciProtocol (pid=8788)>: stderr >> |   _ | |\n",
      "<UciProtocol (pid=8788)>: stderr >> |_ |_ |_| v0.31.1 built Aug 11 2024\n",
      "<UciProtocol (pid=8788)>: stderr >> Found configuration file: c:\\pc_coding\\Finding-Elo\\maia.chess\\lc0_windows/lc0.config\n",
      "<UciProtocol (pid=6436)>: stderr >> Loading weights file from: lc0_windows\\models\\maia-1400.pb.gz\n",
      "<UciProtocol (pid=6436)>: stderr >> Creating backend [cuda-auto]...\n",
      "<UciProtocol (pid=6436)>: stderr >> Switching to [cuda-fp16]...\n",
      "<UciProtocol (pid=6436)>: stderr >> CUDA Runtime version: 11.1.0\n",
      "<UciProtocol (pid=6436)>: stderr >> Latest version of CUDA supported by the driver: 12.6.0\n",
      "<UciProtocol (pid=6436)>: stderr >> GPU: NVIDIA GeForce RTX 3070\n",
      "<UciProtocol (pid=6436)>: stderr >> GPU memory: 7.99951 Gb\n",
      "<UciProtocol (pid=6436)>: stderr >> GPU clock frequency: 1815 MHz\n",
      "<UciProtocol (pid=6436)>: stderr >> GPU compute capability: 8.6\n",
      "<UciProtocol (pid=6436)>: stderr >> L2 cache capacity: 4194304\n"
     ]
    },
    {
     "name": "stdout",
     "output_type": "stream",
     "text": [
      "--weights=lc0_windows\\models\\maia-1400.pb.gz\n",
      "--weights=lc0_windows\\models\\maia-1500.pb.gz\n"
     ]
    },
    {
     "name": "stderr",
     "output_type": "stream",
     "text": [
      "<UciProtocol (pid=8788)>: stderr >> Loading weights file from: lc0_windows\\models\\maia-1500.pb.gz\n",
      "<UciProtocol (pid=8788)>: stderr >> Creating backend [cuda-auto]...\n",
      "<UciProtocol (pid=8788)>: stderr >> Switching to [cuda-fp16]...\n",
      "<UciProtocol (pid=8788)>: stderr >> CUDA Runtime version: 11.1.0\n",
      "<UciProtocol (pid=8788)>: stderr >> Latest version of CUDA supported by the driver: 12.6.0\n",
      "<UciProtocol (pid=8788)>: stderr >> GPU: NVIDIA GeForce RTX 3070\n",
      "<UciProtocol (pid=8788)>: stderr >> GPU memory: 7.99951 Gb\n",
      "<UciProtocol (pid=8788)>: stderr >> GPU clock frequency: 1815 MHz\n",
      "<UciProtocol (pid=8788)>: stderr >> GPU compute capability: 8.6\n",
      "<UciProtocol (pid=8788)>: stderr >> L2 cache capacity: 4194304\n",
      "<UciProtocol (pid=1260)>: stderr >>        _\n",
      "<UciProtocol (pid=1260)>: stderr >> |   _ | |\n",
      "<UciProtocol (pid=1260)>: stderr >> |_ |_ |_| v0.31.1 built Aug 11 2024\n",
      "<UciProtocol (pid=1260)>: stderr >> Found configuration file: c:\\pc_coding\\Finding-Elo\\maia.chess\\lc0_windows/lc0.config\n",
      "<UciProtocol (pid=24796)>: stderr >>        _\n",
      "<UciProtocol (pid=24796)>: stderr >> |   _ | |\n",
      "<UciProtocol (pid=24796)>: stderr >> |_ |_ |_| v0.31.1 built Aug 11 2024\n",
      "<UciProtocol (pid=24796)>: stderr >> Found configuration file: c:\\pc_coding\\Finding-Elo\\maia.chess\\lc0_windows/lc0.config\n",
      "<UciProtocol (pid=1260)>: stderr >> Loading weights file from: lc0_windows\\models\\maia-1900.pb.gz\n",
      "<UciProtocol (pid=1260)>: stderr >> Creating backend [cuda-auto]...\n",
      "<UciProtocol (pid=1260)>: stderr >> Switching to [cuda-fp16]...\n",
      "<UciProtocol (pid=1260)>: stderr >> CUDA Runtime version: 11.1.0\n",
      "<UciProtocol (pid=1260)>: stderr >> Latest version of CUDA supported by the driver: 12.6.0\n",
      "<UciProtocol (pid=1260)>: stderr >> GPU: NVIDIA GeForce RTX 3070\n",
      "<UciProtocol (pid=1260)>: stderr >> GPU memory: 7.99951 Gb\n",
      "<UciProtocol (pid=1260)>: stderr >> GPU clock frequency: 1815 MHz\n",
      "<UciProtocol (pid=1260)>: stderr >> GPU compute capability: 8.6\n",
      "<UciProtocol (pid=1260)>: stderr >> L2 cache capacity: 4194304\n"
     ]
    },
    {
     "name": "stdout",
     "output_type": "stream",
     "text": [
      "--weights=lc0_windows\\models\\maia-1900.pb.gz\n",
      "--weights=lc0_windows\\models\\maia-1900.pb.gz\n"
     ]
    },
    {
     "name": "stderr",
     "output_type": "stream",
     "text": [
      "<UciProtocol (pid=24796)>: stderr >> Loading weights file from: lc0_windows\\models\\maia-1900.pb.gz\n",
      "<UciProtocol (pid=24796)>: stderr >> Creating backend [cuda-auto]...\n",
      "<UciProtocol (pid=24796)>: stderr >> Switching to [cuda-fp16]...\n",
      "<UciProtocol (pid=24796)>: stderr >> CUDA Runtime version: 11.1.0\n",
      "<UciProtocol (pid=24796)>: stderr >> Latest version of CUDA supported by the driver: 12.6.0\n",
      "<UciProtocol (pid=24796)>: stderr >> GPU: NVIDIA GeForce RTX 3070\n",
      "<UciProtocol (pid=24796)>: stderr >> GPU memory: 7.99951 Gb\n",
      "<UciProtocol (pid=24796)>: stderr >> GPU clock frequency: 1815 MHz\n",
      "<UciProtocol (pid=24796)>: stderr >> GPU compute capability: 8.6\n",
      "<UciProtocol (pid=24796)>: stderr >> L2 cache capacity: 4194304\n",
      "<UciProtocol (pid=10252)>: stderr >>        _\n",
      "<UciProtocol (pid=10252)>: stderr >> |   _ | |\n",
      "<UciProtocol (pid=10252)>: stderr >> |_ |_ |_| v0.31.1 built Aug 11 2024\n",
      "<UciProtocol (pid=10252)>: stderr >> Found configuration file: c:\\pc_coding\\Finding-Elo\\maia.chess\\lc0_windows/lc0.config\n",
      "<UciProtocol (pid=26412)>: stderr >>        _\n",
      "<UciProtocol (pid=26412)>: stderr >> |   _ | |\n",
      "<UciProtocol (pid=26412)>: stderr >> |_ |_ |_| v0.31.1 built Aug 11 2024\n",
      "<UciProtocol (pid=26412)>: stderr >> Found configuration file: c:\\pc_coding\\Finding-Elo\\maia.chess\\lc0_windows/lc0.config\n",
      "<UciProtocol (pid=10252)>: stderr >> Loading weights file from: lc0_windows\\models\\maia-1900.pb.gz\n",
      "<UciProtocol (pid=10252)>: stderr >> Creating backend [cuda-auto]...\n",
      "<UciProtocol (pid=10252)>: stderr >> Switching to [cuda-fp16]...\n",
      "<UciProtocol (pid=10252)>: stderr >> CUDA Runtime version: 11.1.0\n",
      "<UciProtocol (pid=10252)>: stderr >> Latest version of CUDA supported by the driver: 12.6.0\n",
      "<UciProtocol (pid=10252)>: stderr >> GPU: NVIDIA GeForce RTX 3070\n",
      "<UciProtocol (pid=10252)>: stderr >> GPU memory: 7.99951 Gb\n",
      "<UciProtocol (pid=10252)>: stderr >> GPU clock frequency: 1815 MHz\n",
      "<UciProtocol (pid=10252)>: stderr >> GPU compute capability: 8.6\n",
      "<UciProtocol (pid=10252)>: stderr >> L2 cache capacity: 4194304\n"
     ]
    },
    {
     "name": "stdout",
     "output_type": "stream",
     "text": [
      "--weights=lc0_windows\\models\\maia-1900.pb.gz\n",
      "--weights=lc0_windows\\models\\maia-1900.pb.gz\n"
     ]
    },
    {
     "name": "stderr",
     "output_type": "stream",
     "text": [
      "<UciProtocol (pid=26412)>: stderr >> Loading weights file from: lc0_windows\\models\\maia-1900.pb.gz\n",
      "<UciProtocol (pid=26412)>: stderr >> Creating backend [cuda-auto]...\n",
      "<UciProtocol (pid=26412)>: stderr >> Switching to [cuda-fp16]...\n",
      "<UciProtocol (pid=26412)>: stderr >> CUDA Runtime version: 11.1.0\n",
      "<UciProtocol (pid=26412)>: stderr >> Latest version of CUDA supported by the driver: 12.6.0\n",
      "<UciProtocol (pid=26412)>: stderr >> GPU: NVIDIA GeForce RTX 3070\n",
      "<UciProtocol (pid=26412)>: stderr >> GPU memory: 7.99951 Gb\n",
      "<UciProtocol (pid=26412)>: stderr >> GPU clock frequency: 1815 MHz\n",
      "<UciProtocol (pid=26412)>: stderr >> GPU compute capability: 8.6\n",
      "<UciProtocol (pid=26412)>: stderr >> L2 cache capacity: 4194304\n",
      "<UciProtocol (pid=5416)>: stderr >>        _\n",
      "<UciProtocol (pid=5416)>: stderr >> |   _ | |\n",
      "<UciProtocol (pid=5416)>: stderr >> |_ |_ |_| v0.31.1 built Aug 11 2024\n",
      "<UciProtocol (pid=5416)>: stderr >> Found configuration file: c:\\pc_coding\\Finding-Elo\\maia.chess\\lc0_windows/lc0.config\n",
      "<UciProtocol (pid=5484)>: stderr >>        _\n",
      "<UciProtocol (pid=5484)>: stderr >> |   _ | |\n",
      "<UciProtocol (pid=5484)>: stderr >> |_ |_ |_| v0.31.1 built Aug 11 2024\n",
      "<UciProtocol (pid=5484)>: stderr >> Found configuration file: c:\\pc_coding\\Finding-Elo\\maia.chess\\lc0_windows/lc0.config\n",
      "<UciProtocol (pid=5416)>: stderr >> Loading weights file from: lc0_windows\\models\\maia-1900.pb.gz\n",
      "<UciProtocol (pid=5416)>: stderr >> Creating backend [cuda-auto]...\n",
      "<UciProtocol (pid=5416)>: stderr >> Switching to [cuda-fp16]...\n",
      "<UciProtocol (pid=5416)>: stderr >> CUDA Runtime version: 11.1.0\n",
      "<UciProtocol (pid=5416)>: stderr >> Latest version of CUDA supported by the driver: 12.6.0\n",
      "<UciProtocol (pid=5416)>: stderr >> GPU: NVIDIA GeForce RTX 3070\n",
      "<UciProtocol (pid=5416)>: stderr >> GPU memory: 7.99951 Gb\n",
      "<UciProtocol (pid=5416)>: stderr >> GPU clock frequency: 1815 MHz\n",
      "<UciProtocol (pid=5416)>: stderr >> GPU compute capability: 8.6\n",
      "<UciProtocol (pid=5416)>: stderr >> L2 cache capacity: 4194304\n"
     ]
    },
    {
     "name": "stdout",
     "output_type": "stream",
     "text": [
      "--weights=lc0_windows\\models\\maia-1900.pb.gz\n",
      "--weights=lc0_windows\\models\\maia-1800.pb.gz\n"
     ]
    },
    {
     "name": "stderr",
     "output_type": "stream",
     "text": [
      "<UciProtocol (pid=5484)>: stderr >> Loading weights file from: lc0_windows\\models\\maia-1800.pb.gz\n",
      "<UciProtocol (pid=5484)>: stderr >> Creating backend [cuda-auto]...\n",
      "<UciProtocol (pid=5484)>: stderr >> Switching to [cuda-fp16]...\n",
      "<UciProtocol (pid=5484)>: stderr >> CUDA Runtime version: 11.1.0\n",
      "<UciProtocol (pid=5484)>: stderr >> Latest version of CUDA supported by the driver: 12.6.0\n",
      "<UciProtocol (pid=5484)>: stderr >> GPU: NVIDIA GeForce RTX 3070\n",
      "<UciProtocol (pid=5484)>: stderr >> GPU memory: 7.99951 Gb\n",
      "<UciProtocol (pid=5484)>: stderr >> GPU clock frequency: 1815 MHz\n",
      "<UciProtocol (pid=5484)>: stderr >> GPU compute capability: 8.6\n",
      "<UciProtocol (pid=5484)>: stderr >> L2 cache capacity: 4194304\n",
      "<UciProtocol (pid=23560)>: stderr >>        _\n",
      "<UciProtocol (pid=23560)>: stderr >> |   _ | |\n",
      "<UciProtocol (pid=23560)>: stderr >> |_ |_ |_| v0.31.1 built Aug 11 2024\n",
      "<UciProtocol (pid=23560)>: stderr >> Found configuration file: c:\\pc_coding\\Finding-Elo\\maia.chess\\lc0_windows/lc0.config\n",
      "<UciProtocol (pid=3048)>: stderr >>        _\n",
      "<UciProtocol (pid=3048)>: stderr >> |   _ | |\n",
      "<UciProtocol (pid=3048)>: stderr >> |_ |_ |_| v0.31.1 built Aug 11 2024\n",
      "<UciProtocol (pid=3048)>: stderr >> Found configuration file: c:\\pc_coding\\Finding-Elo\\maia.chess\\lc0_windows/lc0.config\n",
      "<UciProtocol (pid=23560)>: stderr >> Loading weights file from: lc0_windows\\models\\maia-1200.pb.gz\n",
      "<UciProtocol (pid=23560)>: stderr >> Creating backend [cuda-auto]...\n",
      "<UciProtocol (pid=23560)>: stderr >> Switching to [cuda-fp16]...\n",
      "<UciProtocol (pid=23560)>: stderr >> CUDA Runtime version: 11.1.0\n",
      "<UciProtocol (pid=23560)>: stderr >> Latest version of CUDA supported by the driver: 12.6.0\n",
      "<UciProtocol (pid=23560)>: stderr >> GPU: NVIDIA GeForce RTX 3070\n",
      "<UciProtocol (pid=23560)>: stderr >> GPU memory: 7.99951 Gb\n",
      "<UciProtocol (pid=23560)>: stderr >> GPU clock frequency: 1815 MHz\n",
      "<UciProtocol (pid=23560)>: stderr >> GPU compute capability: 8.6\n",
      "<UciProtocol (pid=23560)>: stderr >> L2 cache capacity: 4194304\n"
     ]
    },
    {
     "name": "stdout",
     "output_type": "stream",
     "text": [
      "--weights=lc0_windows\\models\\maia-1200.pb.gz\n",
      "--weights=lc0_windows\\models\\maia-1300.pb.gz\n"
     ]
    },
    {
     "name": "stderr",
     "output_type": "stream",
     "text": [
      "<UciProtocol (pid=3048)>: stderr >> Loading weights file from: lc0_windows\\models\\maia-1300.pb.gz\n",
      "<UciProtocol (pid=3048)>: stderr >> Creating backend [cuda-auto]...\n",
      "<UciProtocol (pid=3048)>: stderr >> Switching to [cuda-fp16]...\n",
      "<UciProtocol (pid=3048)>: stderr >> CUDA Runtime version: 11.1.0\n",
      "<UciProtocol (pid=3048)>: stderr >> Latest version of CUDA supported by the driver: 12.6.0\n",
      "<UciProtocol (pid=3048)>: stderr >> GPU: NVIDIA GeForce RTX 3070\n",
      "<UciProtocol (pid=3048)>: stderr >> GPU memory: 7.99951 Gb\n",
      "<UciProtocol (pid=3048)>: stderr >> GPU clock frequency: 1815 MHz\n",
      "<UciProtocol (pid=3048)>: stderr >> GPU compute capability: 8.6\n",
      "<UciProtocol (pid=3048)>: stderr >> L2 cache capacity: 4194304\n",
      "<UciProtocol (pid=18648)>: stderr >>        _\n",
      "<UciProtocol (pid=18648)>: stderr >> |   _ | |\n",
      "<UciProtocol (pid=18648)>: stderr >> |_ |_ |_| v0.31.1 built Aug 11 2024\n",
      "<UciProtocol (pid=18648)>: stderr >> Found configuration file: c:\\pc_coding\\Finding-Elo\\maia.chess\\lc0_windows/lc0.config\n",
      "<UciProtocol (pid=3760)>: stderr >>        _\n",
      "<UciProtocol (pid=3760)>: stderr >> |   _ | |\n",
      "<UciProtocol (pid=3760)>: stderr >> |_ |_ |_| v0.31.1 built Aug 11 2024\n",
      "<UciProtocol (pid=3760)>: stderr >> Found configuration file: c:\\pc_coding\\Finding-Elo\\maia.chess\\lc0_windows/lc0.config\n",
      "<UciProtocol (pid=18648)>: stderr >> Loading weights file from: lc0_windows\\models\\maia-1200.pb.gz\n",
      "<UciProtocol (pid=18648)>: stderr >> Creating backend [cuda-auto]...\n",
      "<UciProtocol (pid=18648)>: stderr >> Switching to [cuda-fp16]...\n",
      "<UciProtocol (pid=18648)>: stderr >> CUDA Runtime version: 11.1.0\n",
      "<UciProtocol (pid=18648)>: stderr >> Latest version of CUDA supported by the driver: 12.6.0\n",
      "<UciProtocol (pid=18648)>: stderr >> GPU: NVIDIA GeForce RTX 3070\n",
      "<UciProtocol (pid=18648)>: stderr >> GPU memory: 7.99951 Gb\n",
      "<UciProtocol (pid=18648)>: stderr >> GPU clock frequency: 1815 MHz\n",
      "<UciProtocol (pid=18648)>: stderr >> GPU compute capability: 8.6\n",
      "<UciProtocol (pid=18648)>: stderr >> L2 cache capacity: 4194304\n"
     ]
    },
    {
     "name": "stdout",
     "output_type": "stream",
     "text": [
      "--weights=lc0_windows\\models\\maia-1200.pb.gz\n",
      "--weights=lc0_windows\\models\\maia-1500.pb.gz\n"
     ]
    },
    {
     "name": "stderr",
     "output_type": "stream",
     "text": [
      "<UciProtocol (pid=3760)>: stderr >> Loading weights file from: lc0_windows\\models\\maia-1500.pb.gz\n",
      "<UciProtocol (pid=3760)>: stderr >> Creating backend [cuda-auto]...\n",
      "<UciProtocol (pid=3760)>: stderr >> Switching to [cuda-fp16]...\n",
      "<UciProtocol (pid=3760)>: stderr >> CUDA Runtime version: 11.1.0\n",
      "<UciProtocol (pid=3760)>: stderr >> Latest version of CUDA supported by the driver: 12.6.0\n",
      "<UciProtocol (pid=3760)>: stderr >> GPU: NVIDIA GeForce RTX 3070\n",
      "<UciProtocol (pid=3760)>: stderr >> GPU memory: 7.99951 Gb\n",
      "<UciProtocol (pid=3760)>: stderr >> GPU clock frequency: 1815 MHz\n",
      "<UciProtocol (pid=3760)>: stderr >> GPU compute capability: 8.6\n",
      "<UciProtocol (pid=3760)>: stderr >> L2 cache capacity: 4194304\n",
      "<UciProtocol (pid=17288)>: stderr >>        _\n",
      "<UciProtocol (pid=17288)>: stderr >> |   _ | |\n",
      "<UciProtocol (pid=17288)>: stderr >> |_ |_ |_| v0.31.1 built Aug 11 2024\n",
      "<UciProtocol (pid=17288)>: stderr >> Found configuration file: c:\\pc_coding\\Finding-Elo\\maia.chess\\lc0_windows/lc0.config\n",
      "<UciProtocol (pid=5400)>: stderr >>        _\n",
      "<UciProtocol (pid=5400)>: stderr >> |   _ | |\n",
      "<UciProtocol (pid=5400)>: stderr >> |_ |_ |_| v0.31.1 built Aug 11 2024\n",
      "<UciProtocol (pid=5400)>: stderr >> Found configuration file: c:\\pc_coding\\Finding-Elo\\maia.chess\\lc0_windows/lc0.config\n"
     ]
    },
    {
     "name": "stdout",
     "output_type": "stream",
     "text": [
      "--weights=lc0_windows\\models\\maia-1900.pb.gz\n",
      "--weights=lc0_windows\\models\\maia-1900.pb.gz\n"
     ]
    },
    {
     "name": "stderr",
     "output_type": "stream",
     "text": [
      "<UciProtocol (pid=23700)>: stderr >>        _\n",
      "<UciProtocol (pid=23700)>: stderr >> |   _ | |\n",
      "<UciProtocol (pid=23700)>: stderr >> |_ |_ |_| v0.31.1 built Aug 11 2024\n",
      "<UciProtocol (pid=23700)>: stderr >> Found configuration file: c:\\pc_coding\\Finding-Elo\\maia.chess\\lc0_windows/lc0.config\n",
      "<UciProtocol (pid=25804)>: stderr >>        _\n",
      "<UciProtocol (pid=25804)>: stderr >> |   _ | |\n",
      "<UciProtocol (pid=25804)>: stderr >> |_ |_ |_| v0.31.1 built Aug 11 2024\n",
      "<UciProtocol (pid=25804)>: stderr >> Found configuration file: c:\\pc_coding\\Finding-Elo\\maia.chess\\lc0_windows/lc0.config\n"
     ]
    },
    {
     "name": "stdout",
     "output_type": "stream",
     "text": [
      "--weights=lc0_windows\\models\\maia-1900.pb.gz\n",
      "--weights=lc0_windows\\models\\maia-1900.pb.gz\n"
     ]
    },
    {
     "name": "stderr",
     "output_type": "stream",
     "text": [
      "<UciProtocol (pid=25856)>: stderr >>        _\n",
      "<UciProtocol (pid=25856)>: stderr >> |   _ | |\n",
      "<UciProtocol (pid=25856)>: stderr >> |_ |_ |_| v0.31.1 built Aug 11 2024\n",
      "<UciProtocol (pid=25856)>: stderr >> Found configuration file: c:\\pc_coding\\Finding-Elo\\maia.chess\\lc0_windows/lc0.config\n",
      "<UciProtocol (pid=16028)>: stderr >>        _\n",
      "<UciProtocol (pid=16028)>: stderr >> |   _ | |\n",
      "<UciProtocol (pid=16028)>: stderr >> |_ |_ |_| v0.31.1 built Aug 11 2024\n",
      "<UciProtocol (pid=16028)>: stderr >> Found configuration file: c:\\pc_coding\\Finding-Elo\\maia.chess\\lc0_windows/lc0.config\n"
     ]
    },
    {
     "name": "stdout",
     "output_type": "stream",
     "text": [
      "--weights=lc0_windows\\models\\maia-1900.pb.gz\n",
      "--weights=lc0_windows\\models\\maia-1900.pb.gz\n"
     ]
    },
    {
     "name": "stderr",
     "output_type": "stream",
     "text": [
      "<UciProtocol (pid=21416)>: stderr >>        _\n",
      "<UciProtocol (pid=21416)>: stderr >> |   _ | |\n",
      "<UciProtocol (pid=21416)>: stderr >> |_ |_ |_| v0.31.1 built Aug 11 2024\n",
      "<UciProtocol (pid=21416)>: stderr >> Found configuration file: c:\\pc_coding\\Finding-Elo\\maia.chess\\lc0_windows/lc0.config\n"
     ]
    },
    {
     "name": "stdout",
     "output_type": "stream",
     "text": [
      "--weights=lc0_windows\\models\\maia-1600.pb.gz\n"
     ]
    },
    {
     "name": "stderr",
     "output_type": "stream",
     "text": [
      "<UciProtocol (pid=14176)>: stderr >>        _\n",
      "<UciProtocol (pid=14176)>: stderr >> |   _ | |\n",
      "<UciProtocol (pid=14176)>: stderr >> |_ |_ |_| v0.31.1 built Aug 11 2024\n",
      "<UciProtocol (pid=14176)>: stderr >> Found configuration file: c:\\pc_coding\\Finding-Elo\\maia.chess\\lc0_windows/lc0.config\n",
      "<UciProtocol (pid=14784)>: stderr >>        _\n",
      "<UciProtocol (pid=14784)>: stderr >> |   _ | |\n",
      "<UciProtocol (pid=14784)>: stderr >> |_ |_ |_| v0.31.1 built Aug 11 2024\n",
      "<UciProtocol (pid=14784)>: stderr >> Found configuration file: c:\\pc_coding\\Finding-Elo\\maia.chess\\lc0_windows/lc0.config\n",
      "<UciProtocol (pid=14176)>: stderr >> Loading weights file from: lc0_windows\\models\\maia-1900.pb.gz\n",
      "<UciProtocol (pid=14176)>: stderr >> Creating backend [cuda-auto]...\n",
      "<UciProtocol (pid=14176)>: stderr >> Switching to [cuda-fp16]...\n",
      "<UciProtocol (pid=14176)>: stderr >> CUDA Runtime version: 11.1.0\n",
      "<UciProtocol (pid=14176)>: stderr >> Latest version of CUDA supported by the driver: 12.6.0\n",
      "<UciProtocol (pid=14176)>: stderr >> GPU: NVIDIA GeForce RTX 3070\n",
      "<UciProtocol (pid=14176)>: stderr >> GPU memory: 7.99951 Gb\n",
      "<UciProtocol (pid=14176)>: stderr >> GPU clock frequency: 1815 MHz\n",
      "<UciProtocol (pid=14176)>: stderr >> GPU compute capability: 8.6\n",
      "<UciProtocol (pid=14176)>: stderr >> L2 cache capacity: 4194304\n"
     ]
    },
    {
     "name": "stdout",
     "output_type": "stream",
     "text": [
      "--weights=lc0_windows\\models\\maia-1900.pb.gz\n",
      "--weights=lc0_windows\\models\\maia-1900.pb.gz\n"
     ]
    },
    {
     "name": "stderr",
     "output_type": "stream",
     "text": [
      "<UciProtocol (pid=14784)>: stderr >> Loading weights file from: lc0_windows\\models\\maia-1900.pb.gz\n",
      "<UciProtocol (pid=14784)>: stderr >> Creating backend [cuda-auto]...\n",
      "<UciProtocol (pid=14784)>: stderr >> Switching to [cuda-fp16]...\n",
      "<UciProtocol (pid=14784)>: stderr >> CUDA Runtime version: 11.1.0\n",
      "<UciProtocol (pid=14784)>: stderr >> Latest version of CUDA supported by the driver: 12.6.0\n",
      "<UciProtocol (pid=14784)>: stderr >> GPU: NVIDIA GeForce RTX 3070\n",
      "<UciProtocol (pid=14784)>: stderr >> GPU memory: 7.99951 Gb\n",
      "<UciProtocol (pid=14784)>: stderr >> GPU clock frequency: 1815 MHz\n",
      "<UciProtocol (pid=14784)>: stderr >> GPU compute capability: 8.6\n",
      "<UciProtocol (pid=14784)>: stderr >> L2 cache capacity: 4194304\n",
      "<UciProtocol (pid=8920)>: stderr >>        _\n",
      "<UciProtocol (pid=8920)>: stderr >> |   _ | |\n",
      "<UciProtocol (pid=8920)>: stderr >> |_ |_ |_| v0.31.1 built Aug 11 2024\n",
      "<UciProtocol (pid=8920)>: stderr >> Found configuration file: c:\\pc_coding\\Finding-Elo\\maia.chess\\lc0_windows/lc0.config\n",
      "<UciProtocol (pid=23780)>: stderr >>        _\n",
      "<UciProtocol (pid=23780)>: stderr >> |   _ | |\n",
      "<UciProtocol (pid=23780)>: stderr >> |_ |_ |_| v0.31.1 built Aug 11 2024\n",
      "<UciProtocol (pid=23780)>: stderr >> Found configuration file: c:\\pc_coding\\Finding-Elo\\maia.chess\\lc0_windows/lc0.config\n",
      "<UciProtocol (pid=8920)>: stderr >> Loading weights file from: lc0_windows\\models\\maia-1800.pb.gz\n",
      "<UciProtocol (pid=8920)>: stderr >> Creating backend [cuda-auto]...\n",
      "<UciProtocol (pid=8920)>: stderr >> Switching to [cuda-fp16]...\n",
      "<UciProtocol (pid=8920)>: stderr >> CUDA Runtime version: 11.1.0\n",
      "<UciProtocol (pid=8920)>: stderr >> Latest version of CUDA supported by the driver: 12.6.0\n",
      "<UciProtocol (pid=8920)>: stderr >> GPU: NVIDIA GeForce RTX 3070\n",
      "<UciProtocol (pid=8920)>: stderr >> GPU memory: 7.99951 Gb\n",
      "<UciProtocol (pid=8920)>: stderr >> GPU clock frequency: 1815 MHz\n",
      "<UciProtocol (pid=8920)>: stderr >> GPU compute capability: 8.6\n",
      "<UciProtocol (pid=8920)>: stderr >> L2 cache capacity: 4194304\n"
     ]
    },
    {
     "name": "stdout",
     "output_type": "stream",
     "text": [
      "--weights=lc0_windows\\models\\maia-1800.pb.gz\n",
      "--weights=lc0_windows\\models\\maia-1900.pb.gz\n"
     ]
    },
    {
     "name": "stderr",
     "output_type": "stream",
     "text": [
      "<UciProtocol (pid=23780)>: stderr >> Loading weights file from: lc0_windows\\models\\maia-1900.pb.gz\n",
      "<UciProtocol (pid=23780)>: stderr >> Creating backend [cuda-auto]...\n",
      "<UciProtocol (pid=23780)>: stderr >> Switching to [cuda-fp16]...\n",
      "<UciProtocol (pid=23780)>: stderr >> CUDA Runtime version: 11.1.0\n",
      "<UciProtocol (pid=23780)>: stderr >> Latest version of CUDA supported by the driver: 12.6.0\n",
      "<UciProtocol (pid=23780)>: stderr >> GPU: NVIDIA GeForce RTX 3070\n",
      "<UciProtocol (pid=23780)>: stderr >> GPU memory: 7.99951 Gb\n",
      "<UciProtocol (pid=23780)>: stderr >> GPU clock frequency: 1815 MHz\n",
      "<UciProtocol (pid=23780)>: stderr >> GPU compute capability: 8.6\n",
      "<UciProtocol (pid=23780)>: stderr >> L2 cache capacity: 4194304\n",
      "<UciProtocol (pid=11676)>: stderr >>        _\n",
      "<UciProtocol (pid=11676)>: stderr >> |   _ | |\n",
      "<UciProtocol (pid=11676)>: stderr >> |_ |_ |_| v0.31.1 built Aug 11 2024\n",
      "<UciProtocol (pid=11676)>: stderr >> Found configuration file: c:\\pc_coding\\Finding-Elo\\maia.chess\\lc0_windows/lc0.config\n",
      "<UciProtocol (pid=2296)>: stderr >>        _\n",
      "<UciProtocol (pid=2296)>: stderr >> |   _ | |\n",
      "<UciProtocol (pid=2296)>: stderr >> |_ |_ |_| v0.31.1 built Aug 11 2024\n",
      "<UciProtocol (pid=2296)>: stderr >> Found configuration file: c:\\pc_coding\\Finding-Elo\\maia.chess\\lc0_windows/lc0.config\n",
      "<UciProtocol (pid=11676)>: stderr >> Loading weights file from: lc0_windows\\models\\maia-1900.pb.gz\n",
      "<UciProtocol (pid=11676)>: stderr >> Creating backend [cuda-auto]...\n",
      "<UciProtocol (pid=11676)>: stderr >> Switching to [cuda-fp16]...\n",
      "<UciProtocol (pid=11676)>: stderr >> CUDA Runtime version: 11.1.0\n",
      "<UciProtocol (pid=11676)>: stderr >> Latest version of CUDA supported by the driver: 12.6.0\n",
      "<UciProtocol (pid=11676)>: stderr >> GPU: NVIDIA GeForce RTX 3070\n",
      "<UciProtocol (pid=11676)>: stderr >> GPU memory: 7.99951 Gb\n",
      "<UciProtocol (pid=11676)>: stderr >> GPU clock frequency: 1815 MHz\n",
      "<UciProtocol (pid=11676)>: stderr >> GPU compute capability: 8.6\n",
      "<UciProtocol (pid=11676)>: stderr >> L2 cache capacity: 4194304\n"
     ]
    },
    {
     "name": "stdout",
     "output_type": "stream",
     "text": [
      "--weights=lc0_windows\\models\\maia-1900.pb.gz\n",
      "--weights=lc0_windows\\models\\maia-1200.pb.gz\n"
     ]
    },
    {
     "name": "stderr",
     "output_type": "stream",
     "text": [
      "<UciProtocol (pid=2296)>: stderr >> Loading weights file from: lc0_windows\\models\\maia-1200.pb.gz\n",
      "<UciProtocol (pid=2296)>: stderr >> Creating backend [cuda-auto]...\n",
      "<UciProtocol (pid=2296)>: stderr >> Switching to [cuda-fp16]...\n",
      "<UciProtocol (pid=2296)>: stderr >> CUDA Runtime version: 11.1.0\n",
      "<UciProtocol (pid=2296)>: stderr >> Latest version of CUDA supported by the driver: 12.6.0\n",
      "<UciProtocol (pid=2296)>: stderr >> GPU: NVIDIA GeForce RTX 3070\n",
      "<UciProtocol (pid=2296)>: stderr >> GPU memory: 7.99951 Gb\n",
      "<UciProtocol (pid=2296)>: stderr >> GPU clock frequency: 1815 MHz\n",
      "<UciProtocol (pid=2296)>: stderr >> GPU compute capability: 8.6\n",
      "<UciProtocol (pid=2296)>: stderr >> L2 cache capacity: 4194304\n",
      "<UciProtocol (pid=10396)>: stderr >>        _\n",
      "<UciProtocol (pid=10396)>: stderr >> |   _ | |\n",
      "<UciProtocol (pid=10396)>: stderr >> |_ |_ |_| v0.31.1 built Aug 11 2024\n",
      "<UciProtocol (pid=10396)>: stderr >> Found configuration file: c:\\pc_coding\\Finding-Elo\\maia.chess\\lc0_windows/lc0.config\n",
      "<UciProtocol (pid=18260)>: stderr >>        _\n",
      "<UciProtocol (pid=18260)>: stderr >> |   _ | |\n",
      "<UciProtocol (pid=18260)>: stderr >> |_ |_ |_| v0.31.1 built Aug 11 2024\n",
      "<UciProtocol (pid=18260)>: stderr >> Found configuration file: c:\\pc_coding\\Finding-Elo\\maia.chess\\lc0_windows/lc0.config\n",
      "<UciProtocol (pid=10396)>: stderr >> Loading weights file from: lc0_windows\\models\\maia-1800.pb.gz\n",
      "<UciProtocol (pid=10396)>: stderr >> Creating backend [cuda-auto]...\n",
      "<UciProtocol (pid=10396)>: stderr >> Switching to [cuda-fp16]...\n",
      "<UciProtocol (pid=10396)>: stderr >> CUDA Runtime version: 11.1.0\n",
      "<UciProtocol (pid=10396)>: stderr >> Latest version of CUDA supported by the driver: 12.6.0\n",
      "<UciProtocol (pid=10396)>: stderr >> GPU: NVIDIA GeForce RTX 3070\n",
      "<UciProtocol (pid=10396)>: stderr >> GPU memory: 7.99951 Gb\n",
      "<UciProtocol (pid=10396)>: stderr >> GPU clock frequency: 1815 MHz\n",
      "<UciProtocol (pid=10396)>: stderr >> GPU compute capability: 8.6\n",
      "<UciProtocol (pid=10396)>: stderr >> L2 cache capacity: 4194304\n"
     ]
    },
    {
     "name": "stdout",
     "output_type": "stream",
     "text": [
      "--weights=lc0_windows\\models\\maia-1800.pb.gz\n",
      "--weights=lc0_windows\\models\\maia-1600.pb.gz\n"
     ]
    },
    {
     "name": "stderr",
     "output_type": "stream",
     "text": [
      "<UciProtocol (pid=18260)>: stderr >> Loading weights file from: lc0_windows\\models\\maia-1600.pb.gz\n",
      "<UciProtocol (pid=18260)>: stderr >> Creating backend [cuda-auto]...\n",
      "<UciProtocol (pid=18260)>: stderr >> Switching to [cuda-fp16]...\n",
      "<UciProtocol (pid=18260)>: stderr >> CUDA Runtime version: 11.1.0\n",
      "<UciProtocol (pid=18260)>: stderr >> Latest version of CUDA supported by the driver: 12.6.0\n",
      "<UciProtocol (pid=18260)>: stderr >> GPU: NVIDIA GeForce RTX 3070\n",
      "<UciProtocol (pid=18260)>: stderr >> GPU memory: 7.99951 Gb\n",
      "<UciProtocol (pid=18260)>: stderr >> GPU clock frequency: 1815 MHz\n",
      "<UciProtocol (pid=18260)>: stderr >> GPU compute capability: 8.6\n",
      "<UciProtocol (pid=18260)>: stderr >> L2 cache capacity: 4194304\n",
      "<UciProtocol (pid=21204)>: stderr >>        _\n",
      "<UciProtocol (pid=21204)>: stderr >> |   _ | |\n",
      "<UciProtocol (pid=21204)>: stderr >> |_ |_ |_| v0.31.1 built Aug 11 2024\n",
      "<UciProtocol (pid=21204)>: stderr >> Found configuration file: c:\\pc_coding\\Finding-Elo\\maia.chess\\lc0_windows/lc0.config\n",
      "<UciProtocol (pid=2448)>: stderr >>        _\n",
      "<UciProtocol (pid=2448)>: stderr >> |   _ | |\n",
      "<UciProtocol (pid=2448)>: stderr >> |_ |_ |_| v0.31.1 built Aug 11 2024\n",
      "<UciProtocol (pid=2448)>: stderr >> Found configuration file: c:\\pc_coding\\Finding-Elo\\maia.chess\\lc0_windows/lc0.config\n",
      "<UciProtocol (pid=21204)>: stderr >> Loading weights file from: lc0_windows\\models\\maia-1900.pb.gz\n",
      "<UciProtocol (pid=21204)>: stderr >> Creating backend [cuda-auto]...\n",
      "<UciProtocol (pid=21204)>: stderr >> Switching to [cuda-fp16]...\n",
      "<UciProtocol (pid=21204)>: stderr >> CUDA Runtime version: 11.1.0\n",
      "<UciProtocol (pid=21204)>: stderr >> Latest version of CUDA supported by the driver: 12.6.0\n",
      "<UciProtocol (pid=21204)>: stderr >> GPU: NVIDIA GeForce RTX 3070\n",
      "<UciProtocol (pid=21204)>: stderr >> GPU memory: 7.99951 Gb\n",
      "<UciProtocol (pid=21204)>: stderr >> GPU clock frequency: 1815 MHz\n",
      "<UciProtocol (pid=21204)>: stderr >> GPU compute capability: 8.6\n",
      "<UciProtocol (pid=21204)>: stderr >> L2 cache capacity: 4194304\n"
     ]
    },
    {
     "name": "stdout",
     "output_type": "stream",
     "text": [
      "--weights=lc0_windows\\models\\maia-1900.pb.gz\n",
      "--weights=lc0_windows\\models\\maia-1900.pb.gz\n"
     ]
    },
    {
     "name": "stderr",
     "output_type": "stream",
     "text": [
      "<UciProtocol (pid=2448)>: stderr >> Loading weights file from: lc0_windows\\models\\maia-1900.pb.gz\n",
      "<UciProtocol (pid=2448)>: stderr >> Creating backend [cuda-auto]...\n",
      "<UciProtocol (pid=2448)>: stderr >> Switching to [cuda-fp16]...\n",
      "<UciProtocol (pid=2448)>: stderr >> CUDA Runtime version: 11.1.0\n",
      "<UciProtocol (pid=2448)>: stderr >> Latest version of CUDA supported by the driver: 12.6.0\n",
      "<UciProtocol (pid=2448)>: stderr >> GPU: NVIDIA GeForce RTX 3070\n",
      "<UciProtocol (pid=2448)>: stderr >> GPU memory: 7.99951 Gb\n",
      "<UciProtocol (pid=2448)>: stderr >> GPU clock frequency: 1815 MHz\n",
      "<UciProtocol (pid=2448)>: stderr >> GPU compute capability: 8.6\n",
      "<UciProtocol (pid=2448)>: stderr >> L2 cache capacity: 4194304\n",
      "<UciProtocol (pid=6184)>: stderr >>        _\n",
      "<UciProtocol (pid=6184)>: stderr >> |   _ | |\n",
      "<UciProtocol (pid=6184)>: stderr >> |_ |_ |_| v0.31.1 built Aug 11 2024\n",
      "<UciProtocol (pid=6184)>: stderr >> Found configuration file: c:\\pc_coding\\Finding-Elo\\maia.chess\\lc0_windows/lc0.config\n",
      "<UciProtocol (pid=21628)>: stderr >>        _\n",
      "<UciProtocol (pid=21628)>: stderr >> |   _ | |\n",
      "<UciProtocol (pid=21628)>: stderr >> |_ |_ |_| v0.31.1 built Aug 11 2024\n",
      "<UciProtocol (pid=21628)>: stderr >> Found configuration file: c:\\pc_coding\\Finding-Elo\\maia.chess\\lc0_windows/lc0.config\n",
      "<UciProtocol (pid=6184)>: stderr >> Loading weights file from: lc0_windows\\models\\maia-1900.pb.gz\n",
      "<UciProtocol (pid=6184)>: stderr >> Creating backend [cuda-auto]...\n",
      "<UciProtocol (pid=6184)>: stderr >> Switching to [cuda-fp16]...\n",
      "<UciProtocol (pid=6184)>: stderr >> CUDA Runtime version: 11.1.0\n",
      "<UciProtocol (pid=6184)>: stderr >> Latest version of CUDA supported by the driver: 12.6.0\n",
      "<UciProtocol (pid=6184)>: stderr >> GPU: NVIDIA GeForce RTX 3070\n",
      "<UciProtocol (pid=6184)>: stderr >> GPU memory: 7.99951 Gb\n",
      "<UciProtocol (pid=6184)>: stderr >> GPU clock frequency: 1815 MHz\n",
      "<UciProtocol (pid=6184)>: stderr >> GPU compute capability: 8.6\n",
      "<UciProtocol (pid=6184)>: stderr >> L2 cache capacity: 4194304\n"
     ]
    },
    {
     "name": "stdout",
     "output_type": "stream",
     "text": [
      "--weights=lc0_windows\\models\\maia-1900.pb.gz\n",
      "--weights=lc0_windows\\models\\maia-1200.pb.gz\n"
     ]
    },
    {
     "name": "stderr",
     "output_type": "stream",
     "text": [
      "<UciProtocol (pid=21628)>: stderr >> Loading weights file from: lc0_windows\\models\\maia-1200.pb.gz\n",
      "<UciProtocol (pid=21628)>: stderr >> Creating backend [cuda-auto]...\n",
      "<UciProtocol (pid=21628)>: stderr >> Switching to [cuda-fp16]...\n",
      "<UciProtocol (pid=21628)>: stderr >> CUDA Runtime version: 11.1.0\n",
      "<UciProtocol (pid=21628)>: stderr >> Latest version of CUDA supported by the driver: 12.6.0\n",
      "<UciProtocol (pid=21628)>: stderr >> GPU: NVIDIA GeForce RTX 3070\n",
      "<UciProtocol (pid=21628)>: stderr >> GPU memory: 7.99951 Gb\n",
      "<UciProtocol (pid=21628)>: stderr >> GPU clock frequency: 1815 MHz\n",
      "<UciProtocol (pid=21628)>: stderr >> GPU compute capability: 8.6\n",
      "<UciProtocol (pid=21628)>: stderr >> L2 cache capacity: 4194304\n",
      "<UciProtocol (pid=22856)>: stderr >>        _\n",
      "<UciProtocol (pid=22856)>: stderr >> |   _ | |\n",
      "<UciProtocol (pid=22856)>: stderr >> |_ |_ |_| v0.31.1 built Aug 11 2024\n",
      "<UciProtocol (pid=22856)>: stderr >> Found configuration file: c:\\pc_coding\\Finding-Elo\\maia.chess\\lc0_windows/lc0.config\n",
      "<UciProtocol (pid=2672)>: stderr >>        _\n",
      "<UciProtocol (pid=2672)>: stderr >> |   _ | |\n",
      "<UciProtocol (pid=2672)>: stderr >> |_ |_ |_| v0.31.1 built Aug 11 2024\n",
      "<UciProtocol (pid=2672)>: stderr >> Found configuration file: c:\\pc_coding\\Finding-Elo\\maia.chess\\lc0_windows/lc0.config\n",
      "<UciProtocol (pid=22856)>: stderr >> Loading weights file from: lc0_windows\\models\\maia-1700.pb.gz\n",
      "<UciProtocol (pid=22856)>: stderr >> Creating backend [cuda-auto]...\n",
      "<UciProtocol (pid=22856)>: stderr >> Switching to [cuda-fp16]...\n",
      "<UciProtocol (pid=22856)>: stderr >> CUDA Runtime version: 11.1.0\n",
      "<UciProtocol (pid=22856)>: stderr >> Latest version of CUDA supported by the driver: 12.6.0\n",
      "<UciProtocol (pid=22856)>: stderr >> GPU: NVIDIA GeForce RTX 3070\n",
      "<UciProtocol (pid=22856)>: stderr >> GPU memory: 7.99951 Gb\n",
      "<UciProtocol (pid=22856)>: stderr >> GPU clock frequency: 1815 MHz\n",
      "<UciProtocol (pid=22856)>: stderr >> GPU compute capability: 8.6\n",
      "<UciProtocol (pid=22856)>: stderr >> L2 cache capacity: 4194304\n"
     ]
    },
    {
     "name": "stdout",
     "output_type": "stream",
     "text": [
      "--weights=lc0_windows\\models\\maia-1700.pb.gz\n",
      "--weights=lc0_windows\\models\\maia-1900.pb.gz\n"
     ]
    },
    {
     "name": "stderr",
     "output_type": "stream",
     "text": [
      "<UciProtocol (pid=2672)>: stderr >> Loading weights file from: lc0_windows\\models\\maia-1900.pb.gz\n",
      "<UciProtocol (pid=2672)>: stderr >> Creating backend [cuda-auto]...\n",
      "<UciProtocol (pid=2672)>: stderr >> Switching to [cuda-fp16]...\n",
      "<UciProtocol (pid=2672)>: stderr >> CUDA Runtime version: 11.1.0\n",
      "<UciProtocol (pid=2672)>: stderr >> Latest version of CUDA supported by the driver: 12.6.0\n",
      "<UciProtocol (pid=2672)>: stderr >> GPU: NVIDIA GeForce RTX 3070\n",
      "<UciProtocol (pid=2672)>: stderr >> GPU memory: 7.99951 Gb\n",
      "<UciProtocol (pid=2672)>: stderr >> GPU clock frequency: 1815 MHz\n",
      "<UciProtocol (pid=2672)>: stderr >> GPU compute capability: 8.6\n",
      "<UciProtocol (pid=2672)>: stderr >> L2 cache capacity: 4194304\n",
      "<UciProtocol (pid=21796)>: stderr >>        _\n",
      "<UciProtocol (pid=21796)>: stderr >> |   _ | |\n",
      "<UciProtocol (pid=21796)>: stderr >> |_ |_ |_| v0.31.1 built Aug 11 2024\n",
      "<UciProtocol (pid=21796)>: stderr >> Found configuration file: c:\\pc_coding\\Finding-Elo\\maia.chess\\lc0_windows/lc0.config\n",
      "<UciProtocol (pid=2244)>: stderr >>        _\n",
      "<UciProtocol (pid=2244)>: stderr >> |   _ | |\n",
      "<UciProtocol (pid=2244)>: stderr >> |_ |_ |_| v0.31.1 built Aug 11 2024\n",
      "<UciProtocol (pid=2244)>: stderr >> Found configuration file: c:\\pc_coding\\Finding-Elo\\maia.chess\\lc0_windows/lc0.config\n",
      "<UciProtocol (pid=21796)>: stderr >> Loading weights file from: lc0_windows\\models\\maia-1800.pb.gz\n",
      "<UciProtocol (pid=21796)>: stderr >> Creating backend [cuda-auto]...\n",
      "<UciProtocol (pid=21796)>: stderr >> Switching to [cuda-fp16]...\n",
      "<UciProtocol (pid=21796)>: stderr >> CUDA Runtime version: 11.1.0\n",
      "<UciProtocol (pid=21796)>: stderr >> Latest version of CUDA supported by the driver: 12.6.0\n",
      "<UciProtocol (pid=21796)>: stderr >> GPU: NVIDIA GeForce RTX 3070\n",
      "<UciProtocol (pid=21796)>: stderr >> GPU memory: 7.99951 Gb\n",
      "<UciProtocol (pid=21796)>: stderr >> GPU clock frequency: 1815 MHz\n",
      "<UciProtocol (pid=21796)>: stderr >> GPU compute capability: 8.6\n",
      "<UciProtocol (pid=21796)>: stderr >> L2 cache capacity: 4194304\n"
     ]
    },
    {
     "name": "stdout",
     "output_type": "stream",
     "text": [
      "--weights=lc0_windows\\models\\maia-1800.pb.gz\n",
      "--weights=lc0_windows\\models\\maia-1700.pb.gz\n"
     ]
    },
    {
     "name": "stderr",
     "output_type": "stream",
     "text": [
      "<UciProtocol (pid=2244)>: stderr >> Loading weights file from: lc0_windows\\models\\maia-1700.pb.gz\n",
      "<UciProtocol (pid=2244)>: stderr >> Creating backend [cuda-auto]...\n",
      "<UciProtocol (pid=2244)>: stderr >> Switching to [cuda-fp16]...\n",
      "<UciProtocol (pid=2244)>: stderr >> CUDA Runtime version: 11.1.0\n",
      "<UciProtocol (pid=2244)>: stderr >> Latest version of CUDA supported by the driver: 12.6.0\n",
      "<UciProtocol (pid=2244)>: stderr >> GPU: NVIDIA GeForce RTX 3070\n",
      "<UciProtocol (pid=2244)>: stderr >> GPU memory: 7.99951 Gb\n",
      "<UciProtocol (pid=2244)>: stderr >> GPU clock frequency: 1815 MHz\n",
      "<UciProtocol (pid=2244)>: stderr >> GPU compute capability: 8.6\n",
      "<UciProtocol (pid=2244)>: stderr >> L2 cache capacity: 4194304\n",
      "<UciProtocol (pid=18172)>: stderr >>        _\n",
      "<UciProtocol (pid=18172)>: stderr >> |   _ | |\n",
      "<UciProtocol (pid=18172)>: stderr >> |_ |_ |_| v0.31.1 built Aug 11 2024\n",
      "<UciProtocol (pid=18172)>: stderr >> Found configuration file: c:\\pc_coding\\Finding-Elo\\maia.chess\\lc0_windows/lc0.config\n",
      "<UciProtocol (pid=23436)>: stderr >>        _\n",
      "<UciProtocol (pid=23436)>: stderr >> |   _ | |\n",
      "<UciProtocol (pid=23436)>: stderr >> |_ |_ |_| v0.31.1 built Aug 11 2024\n",
      "<UciProtocol (pid=23436)>: stderr >> Found configuration file: c:\\pc_coding\\Finding-Elo\\maia.chess\\lc0_windows/lc0.config\n",
      "<UciProtocol (pid=18172)>: stderr >> Loading weights file from: lc0_windows\\models\\maia-1900.pb.gz\n",
      "<UciProtocol (pid=18172)>: stderr >> Creating backend [cuda-auto]...\n",
      "<UciProtocol (pid=18172)>: stderr >> Switching to [cuda-fp16]...\n",
      "<UciProtocol (pid=18172)>: stderr >> CUDA Runtime version: 11.1.0\n",
      "<UciProtocol (pid=18172)>: stderr >> Latest version of CUDA supported by the driver: 12.6.0\n",
      "<UciProtocol (pid=18172)>: stderr >> GPU: NVIDIA GeForce RTX 3070\n",
      "<UciProtocol (pid=18172)>: stderr >> GPU memory: 7.99951 Gb\n",
      "<UciProtocol (pid=18172)>: stderr >> GPU clock frequency: 1815 MHz\n",
      "<UciProtocol (pid=18172)>: stderr >> GPU compute capability: 8.6\n",
      "<UciProtocol (pid=18172)>: stderr >> L2 cache capacity: 4194304\n"
     ]
    },
    {
     "name": "stdout",
     "output_type": "stream",
     "text": [
      "--weights=lc0_windows\\models\\maia-1900.pb.gz\n",
      "--weights=lc0_windows\\models\\maia-1800.pb.gz\n"
     ]
    },
    {
     "name": "stderr",
     "output_type": "stream",
     "text": [
      "<UciProtocol (pid=23436)>: stderr >> Loading weights file from: lc0_windows\\models\\maia-1800.pb.gz\n",
      "<UciProtocol (pid=23436)>: stderr >> Creating backend [cuda-auto]...\n",
      "<UciProtocol (pid=23436)>: stderr >> Switching to [cuda-fp16]...\n",
      "<UciProtocol (pid=23436)>: stderr >> CUDA Runtime version: 11.1.0\n",
      "<UciProtocol (pid=23436)>: stderr >> Latest version of CUDA supported by the driver: 12.6.0\n",
      "<UciProtocol (pid=23436)>: stderr >> GPU: NVIDIA GeForce RTX 3070\n",
      "<UciProtocol (pid=23436)>: stderr >> GPU memory: 7.99951 Gb\n",
      "<UciProtocol (pid=23436)>: stderr >> GPU clock frequency: 1815 MHz\n",
      "<UciProtocol (pid=23436)>: stderr >> GPU compute capability: 8.6\n",
      "<UciProtocol (pid=23436)>: stderr >> L2 cache capacity: 4194304\n",
      "<UciProtocol (pid=6160)>: stderr >>        _\n",
      "<UciProtocol (pid=6160)>: stderr >> |   _ | |\n",
      "<UciProtocol (pid=6160)>: stderr >> |_ |_ |_| v0.31.1 built Aug 11 2024\n",
      "<UciProtocol (pid=6160)>: stderr >> Found configuration file: c:\\pc_coding\\Finding-Elo\\maia.chess\\lc0_windows/lc0.config\n",
      "<UciProtocol (pid=16252)>: stderr >>        _\n",
      "<UciProtocol (pid=16252)>: stderr >> |   _ | |\n",
      "<UciProtocol (pid=16252)>: stderr >> |_ |_ |_| v0.31.1 built Aug 11 2024\n",
      "<UciProtocol (pid=16252)>: stderr >> Found configuration file: c:\\pc_coding\\Finding-Elo\\maia.chess\\lc0_windows/lc0.config\n",
      "<UciProtocol (pid=6160)>: stderr >> Loading weights file from: lc0_windows\\models\\maia-1800.pb.gz\n",
      "<UciProtocol (pid=6160)>: stderr >> Creating backend [cuda-auto]...\n",
      "<UciProtocol (pid=6160)>: stderr >> Switching to [cuda-fp16]...\n",
      "<UciProtocol (pid=6160)>: stderr >> CUDA Runtime version: 11.1.0\n",
      "<UciProtocol (pid=6160)>: stderr >> Latest version of CUDA supported by the driver: 12.6.0\n",
      "<UciProtocol (pid=6160)>: stderr >> GPU: NVIDIA GeForce RTX 3070\n",
      "<UciProtocol (pid=6160)>: stderr >> GPU memory: 7.99951 Gb\n",
      "<UciProtocol (pid=6160)>: stderr >> GPU clock frequency: 1815 MHz\n",
      "<UciProtocol (pid=6160)>: stderr >> GPU compute capability: 8.6\n",
      "<UciProtocol (pid=6160)>: stderr >> L2 cache capacity: 4194304\n"
     ]
    },
    {
     "name": "stdout",
     "output_type": "stream",
     "text": [
      "--weights=lc0_windows\\models\\maia-1800.pb.gz\n",
      "--weights=lc0_windows\\models\\maia-1900.pb.gz\n"
     ]
    },
    {
     "name": "stderr",
     "output_type": "stream",
     "text": [
      "<UciProtocol (pid=16252)>: stderr >> Loading weights file from: lc0_windows\\models\\maia-1900.pb.gz\n",
      "<UciProtocol (pid=16252)>: stderr >> Creating backend [cuda-auto]...\n",
      "<UciProtocol (pid=16252)>: stderr >> Switching to [cuda-fp16]...\n",
      "<UciProtocol (pid=16252)>: stderr >> CUDA Runtime version: 11.1.0\n",
      "<UciProtocol (pid=16252)>: stderr >> Latest version of CUDA supported by the driver: 12.6.0\n",
      "<UciProtocol (pid=16252)>: stderr >> GPU: NVIDIA GeForce RTX 3070\n",
      "<UciProtocol (pid=16252)>: stderr >> GPU memory: 7.99951 Gb\n",
      "<UciProtocol (pid=16252)>: stderr >> GPU clock frequency: 1815 MHz\n",
      "<UciProtocol (pid=16252)>: stderr >> GPU compute capability: 8.6\n",
      "<UciProtocol (pid=16252)>: stderr >> L2 cache capacity: 4194304\n",
      "<UciProtocol (pid=25344)>: stderr >>        _\n",
      "<UciProtocol (pid=25344)>: stderr >> |   _ | |\n",
      "<UciProtocol (pid=25344)>: stderr >> |_ |_ |_| v0.31.1 built Aug 11 2024\n",
      "<UciProtocol (pid=25344)>: stderr >> Found configuration file: c:\\pc_coding\\Finding-Elo\\maia.chess\\lc0_windows/lc0.config\n",
      "<UciProtocol (pid=10804)>: stderr >>        _\n",
      "<UciProtocol (pid=10804)>: stderr >> |   _ | |\n",
      "<UciProtocol (pid=10804)>: stderr >> |_ |_ |_| v0.31.1 built Aug 11 2024\n",
      "<UciProtocol (pid=10804)>: stderr >> Found configuration file: c:\\pc_coding\\Finding-Elo\\maia.chess\\lc0_windows/lc0.config\n",
      "<UciProtocol (pid=25344)>: stderr >> Loading weights file from: lc0_windows\\models\\maia-1900.pb.gz\n",
      "<UciProtocol (pid=25344)>: stderr >> Creating backend [cuda-auto]...\n",
      "<UciProtocol (pid=25344)>: stderr >> Switching to [cuda-fp16]...\n",
      "<UciProtocol (pid=25344)>: stderr >> CUDA Runtime version: 11.1.0\n",
      "<UciProtocol (pid=25344)>: stderr >> Latest version of CUDA supported by the driver: 12.6.0\n",
      "<UciProtocol (pid=25344)>: stderr >> GPU: NVIDIA GeForce RTX 3070\n",
      "<UciProtocol (pid=25344)>: stderr >> GPU memory: 7.99951 Gb\n",
      "<UciProtocol (pid=25344)>: stderr >> GPU clock frequency: 1815 MHz\n",
      "<UciProtocol (pid=25344)>: stderr >> GPU compute capability: 8.6\n",
      "<UciProtocol (pid=25344)>: stderr >> L2 cache capacity: 4194304\n"
     ]
    },
    {
     "name": "stdout",
     "output_type": "stream",
     "text": [
      "--weights=lc0_windows\\models\\maia-1900.pb.gz\n",
      "--weights=lc0_windows\\models\\maia-1700.pb.gz\n"
     ]
    },
    {
     "name": "stderr",
     "output_type": "stream",
     "text": [
      "<UciProtocol (pid=10804)>: stderr >> Loading weights file from: lc0_windows\\models\\maia-1700.pb.gz\n",
      "<UciProtocol (pid=10804)>: stderr >> Creating backend [cuda-auto]...\n",
      "<UciProtocol (pid=10804)>: stderr >> Switching to [cuda-fp16]...\n",
      "<UciProtocol (pid=10804)>: stderr >> CUDA Runtime version: 11.1.0\n",
      "<UciProtocol (pid=10804)>: stderr >> Latest version of CUDA supported by the driver: 12.6.0\n",
      "<UciProtocol (pid=10804)>: stderr >> GPU: NVIDIA GeForce RTX 3070\n",
      "<UciProtocol (pid=10804)>: stderr >> GPU memory: 7.99951 Gb\n",
      "<UciProtocol (pid=10804)>: stderr >> GPU clock frequency: 1815 MHz\n",
      "<UciProtocol (pid=10804)>: stderr >> GPU compute capability: 8.6\n",
      "<UciProtocol (pid=10804)>: stderr >> L2 cache capacity: 4194304\n",
      "<UciProtocol (pid=13540)>: stderr >>        _\n",
      "<UciProtocol (pid=13540)>: stderr >> |   _ | |\n",
      "<UciProtocol (pid=13540)>: stderr >> |_ |_ |_| v0.31.1 built Aug 11 2024\n",
      "<UciProtocol (pid=13540)>: stderr >> Found configuration file: c:\\pc_coding\\Finding-Elo\\maia.chess\\lc0_windows/lc0.config\n",
      "<UciProtocol (pid=21204)>: stderr >>        _\n",
      "<UciProtocol (pid=21204)>: stderr >> |   _ | |\n",
      "<UciProtocol (pid=21204)>: stderr >> |_ |_ |_| v0.31.1 built Aug 11 2024\n",
      "<UciProtocol (pid=21204)>: stderr >> Found configuration file: c:\\pc_coding\\Finding-Elo\\maia.chess\\lc0_windows/lc0.config\n",
      "<UciProtocol (pid=13540)>: stderr >> Loading weights file from: lc0_windows\\models\\maia-1500.pb.gz\n",
      "<UciProtocol (pid=13540)>: stderr >> Creating backend [cuda-auto]...\n",
      "<UciProtocol (pid=13540)>: stderr >> Switching to [cuda-fp16]...\n",
      "<UciProtocol (pid=13540)>: stderr >> CUDA Runtime version: 11.1.0\n",
      "<UciProtocol (pid=13540)>: stderr >> Latest version of CUDA supported by the driver: 12.6.0\n",
      "<UciProtocol (pid=13540)>: stderr >> GPU: NVIDIA GeForce RTX 3070\n",
      "<UciProtocol (pid=13540)>: stderr >> GPU memory: 7.99951 Gb\n",
      "<UciProtocol (pid=13540)>: stderr >> GPU clock frequency: 1815 MHz\n",
      "<UciProtocol (pid=13540)>: stderr >> GPU compute capability: 8.6\n",
      "<UciProtocol (pid=13540)>: stderr >> L2 cache capacity: 4194304\n"
     ]
    },
    {
     "name": "stdout",
     "output_type": "stream",
     "text": [
      "--weights=lc0_windows\\models\\maia-1500.pb.gz\n",
      "--weights=lc0_windows\\models\\maia-1800.pb.gz\n"
     ]
    },
    {
     "name": "stderr",
     "output_type": "stream",
     "text": [
      "<UciProtocol (pid=21204)>: stderr >> Loading weights file from: lc0_windows\\models\\maia-1800.pb.gz\n",
      "<UciProtocol (pid=21204)>: stderr >> Creating backend [cuda-auto]...\n",
      "<UciProtocol (pid=21204)>: stderr >> Switching to [cuda-fp16]...\n",
      "<UciProtocol (pid=21204)>: stderr >> CUDA Runtime version: 11.1.0\n",
      "<UciProtocol (pid=21204)>: stderr >> Latest version of CUDA supported by the driver: 12.6.0\n",
      "<UciProtocol (pid=21204)>: stderr >> GPU: NVIDIA GeForce RTX 3070\n",
      "<UciProtocol (pid=21204)>: stderr >> GPU memory: 7.99951 Gb\n",
      "<UciProtocol (pid=21204)>: stderr >> GPU clock frequency: 1815 MHz\n",
      "<UciProtocol (pid=21204)>: stderr >> GPU compute capability: 8.6\n",
      "<UciProtocol (pid=21204)>: stderr >> L2 cache capacity: 4194304\n",
      "<UciProtocol (pid=23848)>: stderr >>        _\n",
      "<UciProtocol (pid=23848)>: stderr >> |   _ | |\n",
      "<UciProtocol (pid=23848)>: stderr >> |_ |_ |_| v0.31.1 built Aug 11 2024\n",
      "<UciProtocol (pid=23848)>: stderr >> Found configuration file: c:\\pc_coding\\Finding-Elo\\maia.chess\\lc0_windows/lc0.config\n",
      "<UciProtocol (pid=800)>: stderr >>        _\n",
      "<UciProtocol (pid=800)>: stderr >> |   _ | |\n",
      "<UciProtocol (pid=800)>: stderr >> |_ |_ |_| v0.31.1 built Aug 11 2024\n",
      "<UciProtocol (pid=800)>: stderr >> Found configuration file: c:\\pc_coding\\Finding-Elo\\maia.chess\\lc0_windows/lc0.config\n"
     ]
    },
    {
     "name": "stdout",
     "output_type": "stream",
     "text": [
      "--weights=lc0_windows\\models\\maia-1700.pb.gz\n",
      "--weights=lc0_windows\\models\\maia-1900.pb.gz\n"
     ]
    },
    {
     "name": "stderr",
     "output_type": "stream",
     "text": [
      "<UciProtocol (pid=25452)>: stderr >>        _\n",
      "<UciProtocol (pid=25452)>: stderr >> |   _ | |\n",
      "<UciProtocol (pid=25452)>: stderr >> |_ |_ |_| v0.31.1 built Aug 11 2024\n",
      "<UciProtocol (pid=25452)>: stderr >> Found configuration file: c:\\pc_coding\\Finding-Elo\\maia.chess\\lc0_windows/lc0.config\n",
      "<UciProtocol (pid=25440)>: stderr >>        _\n",
      "<UciProtocol (pid=25440)>: stderr >> |   _ | |\n",
      "<UciProtocol (pid=25440)>: stderr >> |_ |_ |_| v0.31.1 built Aug 11 2024\n",
      "<UciProtocol (pid=25440)>: stderr >> Found configuration file: c:\\pc_coding\\Finding-Elo\\maia.chess\\lc0_windows/lc0.config\n",
      "<UciProtocol (pid=25452)>: stderr >> Loading weights file from: lc0_windows\\models\\maia-1900.pb.gz\n",
      "<UciProtocol (pid=25452)>: stderr >> Creating backend [cuda-auto]...\n",
      "<UciProtocol (pid=25452)>: stderr >> Switching to [cuda-fp16]...\n",
      "<UciProtocol (pid=25452)>: stderr >> CUDA Runtime version: 11.1.0\n",
      "<UciProtocol (pid=25452)>: stderr >> Latest version of CUDA supported by the driver: 12.6.0\n",
      "<UciProtocol (pid=25452)>: stderr >> GPU: NVIDIA GeForce RTX 3070\n",
      "<UciProtocol (pid=25452)>: stderr >> GPU memory: 7.99951 Gb\n",
      "<UciProtocol (pid=25452)>: stderr >> GPU clock frequency: 1815 MHz\n",
      "<UciProtocol (pid=25452)>: stderr >> GPU compute capability: 8.6\n",
      "<UciProtocol (pid=25452)>: stderr >> L2 cache capacity: 4194304\n"
     ]
    },
    {
     "name": "stdout",
     "output_type": "stream",
     "text": [
      "--weights=lc0_windows\\models\\maia-1900.pb.gz\n",
      "--weights=lc0_windows\\models\\maia-1900.pb.gz\n"
     ]
    },
    {
     "name": "stderr",
     "output_type": "stream",
     "text": [
      "<UciProtocol (pid=25440)>: stderr >> Loading weights file from: lc0_windows\\models\\maia-1900.pb.gz\n",
      "<UciProtocol (pid=25440)>: stderr >> Creating backend [cuda-auto]...\n",
      "<UciProtocol (pid=25440)>: stderr >> Switching to [cuda-fp16]...\n",
      "<UciProtocol (pid=25440)>: stderr >> CUDA Runtime version: 11.1.0\n",
      "<UciProtocol (pid=25440)>: stderr >> Latest version of CUDA supported by the driver: 12.6.0\n",
      "<UciProtocol (pid=25440)>: stderr >> GPU: NVIDIA GeForce RTX 3070\n",
      "<UciProtocol (pid=25440)>: stderr >> GPU memory: 7.99951 Gb\n",
      "<UciProtocol (pid=25440)>: stderr >> GPU clock frequency: 1815 MHz\n",
      "<UciProtocol (pid=25440)>: stderr >> GPU compute capability: 8.6\n",
      "<UciProtocol (pid=25440)>: stderr >> L2 cache capacity: 4194304\n",
      "<UciProtocol (pid=16000)>: stderr >>        _\n",
      "<UciProtocol (pid=16000)>: stderr >> |   _ | |\n",
      "<UciProtocol (pid=16000)>: stderr >> |_ |_ |_| v0.31.1 built Aug 11 2024\n",
      "<UciProtocol (pid=16000)>: stderr >> Found configuration file: c:\\pc_coding\\Finding-Elo\\maia.chess\\lc0_windows/lc0.config\n",
      "<UciProtocol (pid=18676)>: stderr >>        _\n",
      "<UciProtocol (pid=18676)>: stderr >> |   _ | |\n",
      "<UciProtocol (pid=18676)>: stderr >> |_ |_ |_| v0.31.1 built Aug 11 2024\n",
      "<UciProtocol (pid=18676)>: stderr >> Found configuration file: c:\\pc_coding\\Finding-Elo\\maia.chess\\lc0_windows/lc0.config\n",
      "<UciProtocol (pid=16000)>: stderr >> Loading weights file from: lc0_windows\\models\\maia-1400.pb.gz\n",
      "<UciProtocol (pid=16000)>: stderr >> Creating backend [cuda-auto]...\n",
      "<UciProtocol (pid=16000)>: stderr >> Switching to [cuda-fp16]...\n",
      "<UciProtocol (pid=16000)>: stderr >> CUDA Runtime version: 11.1.0\n",
      "<UciProtocol (pid=16000)>: stderr >> Latest version of CUDA supported by the driver: 12.6.0\n",
      "<UciProtocol (pid=16000)>: stderr >> GPU: NVIDIA GeForce RTX 3070\n",
      "<UciProtocol (pid=16000)>: stderr >> GPU memory: 7.99951 Gb\n",
      "<UciProtocol (pid=16000)>: stderr >> GPU clock frequency: 1815 MHz\n",
      "<UciProtocol (pid=16000)>: stderr >> GPU compute capability: 8.6\n",
      "<UciProtocol (pid=16000)>: stderr >> L2 cache capacity: 4194304\n"
     ]
    },
    {
     "name": "stdout",
     "output_type": "stream",
     "text": [
      "--weights=lc0_windows\\models\\maia-1400.pb.gz\n",
      "--weights=lc0_windows\\models\\maia-1700.pb.gz\n"
     ]
    },
    {
     "name": "stderr",
     "output_type": "stream",
     "text": [
      "<UciProtocol (pid=18676)>: stderr >> Loading weights file from: lc0_windows\\models\\maia-1700.pb.gz\n",
      "<UciProtocol (pid=18676)>: stderr >> Creating backend [cuda-auto]...\n",
      "<UciProtocol (pid=18676)>: stderr >> Switching to [cuda-fp16]...\n",
      "<UciProtocol (pid=18676)>: stderr >> CUDA Runtime version: 11.1.0\n",
      "<UciProtocol (pid=18676)>: stderr >> Latest version of CUDA supported by the driver: 12.6.0\n",
      "<UciProtocol (pid=18676)>: stderr >> GPU: NVIDIA GeForce RTX 3070\n",
      "<UciProtocol (pid=18676)>: stderr >> GPU memory: 7.99951 Gb\n",
      "<UciProtocol (pid=18676)>: stderr >> GPU clock frequency: 1815 MHz\n",
      "<UciProtocol (pid=18676)>: stderr >> GPU compute capability: 8.6\n",
      "<UciProtocol (pid=18676)>: stderr >> L2 cache capacity: 4194304\n",
      "<UciProtocol (pid=8128)>: stderr >>        _\n",
      "<UciProtocol (pid=8128)>: stderr >> |   _ | |\n",
      "<UciProtocol (pid=8128)>: stderr >> |_ |_ |_| v0.31.1 built Aug 11 2024\n",
      "<UciProtocol (pid=8128)>: stderr >> Found configuration file: c:\\pc_coding\\Finding-Elo\\maia.chess\\lc0_windows/lc0.config\n",
      "<UciProtocol (pid=20108)>: stderr >>        _\n",
      "<UciProtocol (pid=20108)>: stderr >> |   _ | |\n",
      "<UciProtocol (pid=20108)>: stderr >> |_ |_ |_| v0.31.1 built Aug 11 2024\n",
      "<UciProtocol (pid=20108)>: stderr >> Found configuration file: c:\\pc_coding\\Finding-Elo\\maia.chess\\lc0_windows/lc0.config\n",
      "<UciProtocol (pid=8128)>: stderr >> Loading weights file from: lc0_windows\\models\\maia-1900.pb.gz\n",
      "<UciProtocol (pid=8128)>: stderr >> Creating backend [cuda-auto]...\n",
      "<UciProtocol (pid=8128)>: stderr >> Switching to [cuda-fp16]...\n",
      "<UciProtocol (pid=8128)>: stderr >> CUDA Runtime version: 11.1.0\n",
      "<UciProtocol (pid=8128)>: stderr >> Latest version of CUDA supported by the driver: 12.6.0\n",
      "<UciProtocol (pid=8128)>: stderr >> GPU: NVIDIA GeForce RTX 3070\n",
      "<UciProtocol (pid=8128)>: stderr >> GPU memory: 7.99951 Gb\n",
      "<UciProtocol (pid=8128)>: stderr >> GPU clock frequency: 1815 MHz\n",
      "<UciProtocol (pid=8128)>: stderr >> GPU compute capability: 8.6\n",
      "<UciProtocol (pid=8128)>: stderr >> L2 cache capacity: 4194304\n"
     ]
    },
    {
     "name": "stdout",
     "output_type": "stream",
     "text": [
      "--weights=lc0_windows\\models\\maia-1900.pb.gz\n",
      "--weights=lc0_windows\\models\\maia-1400.pb.gz\n"
     ]
    },
    {
     "name": "stderr",
     "output_type": "stream",
     "text": [
      "<UciProtocol (pid=20108)>: stderr >> Loading weights file from: lc0_windows\\models\\maia-1400.pb.gz\n",
      "<UciProtocol (pid=20108)>: stderr >> Creating backend [cuda-auto]...\n",
      "<UciProtocol (pid=20108)>: stderr >> Switching to [cuda-fp16]...\n",
      "<UciProtocol (pid=20108)>: stderr >> CUDA Runtime version: 11.1.0\n",
      "<UciProtocol (pid=20108)>: stderr >> Latest version of CUDA supported by the driver: 12.6.0\n",
      "<UciProtocol (pid=20108)>: stderr >> GPU: NVIDIA GeForce RTX 3070\n",
      "<UciProtocol (pid=20108)>: stderr >> GPU memory: 7.99951 Gb\n",
      "<UciProtocol (pid=20108)>: stderr >> GPU clock frequency: 1815 MHz\n",
      "<UciProtocol (pid=20108)>: stderr >> GPU compute capability: 8.6\n",
      "<UciProtocol (pid=20108)>: stderr >> L2 cache capacity: 4194304\n",
      "<UciProtocol (pid=8916)>: stderr >>        _\n",
      "<UciProtocol (pid=8916)>: stderr >> |   _ | |\n",
      "<UciProtocol (pid=8916)>: stderr >> |_ |_ |_| v0.31.1 built Aug 11 2024\n",
      "<UciProtocol (pid=8916)>: stderr >> Found configuration file: c:\\pc_coding\\Finding-Elo\\maia.chess\\lc0_windows/lc0.config\n",
      "<UciProtocol (pid=3064)>: stderr >>        _\n",
      "<UciProtocol (pid=3064)>: stderr >> |   _ | |\n",
      "<UciProtocol (pid=3064)>: stderr >> |_ |_ |_| v0.31.1 built Aug 11 2024\n",
      "<UciProtocol (pid=3064)>: stderr >> Found configuration file: c:\\pc_coding\\Finding-Elo\\maia.chess\\lc0_windows/lc0.config\n",
      "<UciProtocol (pid=8916)>: stderr >> Loading weights file from: lc0_windows\\models\\maia-1900.pb.gz\n",
      "<UciProtocol (pid=8916)>: stderr >> Creating backend [cuda-auto]...\n",
      "<UciProtocol (pid=8916)>: stderr >> Switching to [cuda-fp16]...\n",
      "<UciProtocol (pid=8916)>: stderr >> CUDA Runtime version: 11.1.0\n",
      "<UciProtocol (pid=8916)>: stderr >> Latest version of CUDA supported by the driver: 12.6.0\n",
      "<UciProtocol (pid=8916)>: stderr >> GPU: NVIDIA GeForce RTX 3070\n",
      "<UciProtocol (pid=8916)>: stderr >> GPU memory: 7.99951 Gb\n",
      "<UciProtocol (pid=8916)>: stderr >> GPU clock frequency: 1815 MHz\n",
      "<UciProtocol (pid=8916)>: stderr >> GPU compute capability: 8.6\n",
      "<UciProtocol (pid=8916)>: stderr >> L2 cache capacity: 4194304\n"
     ]
    },
    {
     "name": "stdout",
     "output_type": "stream",
     "text": [
      "--weights=lc0_windows\\models\\maia-1900.pb.gz\n",
      "--weights=lc0_windows\\models\\maia-1900.pb.gz\n"
     ]
    },
    {
     "name": "stderr",
     "output_type": "stream",
     "text": [
      "<UciProtocol (pid=3064)>: stderr >> Loading weights file from: lc0_windows\\models\\maia-1900.pb.gz\n",
      "<UciProtocol (pid=3064)>: stderr >> Creating backend [cuda-auto]...\n",
      "<UciProtocol (pid=3064)>: stderr >> Switching to [cuda-fp16]...\n",
      "<UciProtocol (pid=3064)>: stderr >> CUDA Runtime version: 11.1.0\n",
      "<UciProtocol (pid=3064)>: stderr >> Latest version of CUDA supported by the driver: 12.6.0\n",
      "<UciProtocol (pid=3064)>: stderr >> GPU: NVIDIA GeForce RTX 3070\n",
      "<UciProtocol (pid=3064)>: stderr >> GPU memory: 7.99951 Gb\n",
      "<UciProtocol (pid=3064)>: stderr >> GPU clock frequency: 1815 MHz\n",
      "<UciProtocol (pid=3064)>: stderr >> GPU compute capability: 8.6\n",
      "<UciProtocol (pid=3064)>: stderr >> L2 cache capacity: 4194304\n"
     ]
    }
   ],
   "source": [
    "chunk_size = 1000  # Process 1000 games at a time\n",
    "num_chunks = len(games) // chunk_size + (1 if len(games) % chunk_size > 0 else 0)\n",
    "for i in range(0, num_chunks):\n",
    "    result = []\n",
    "\n",
    "    start_index = i * chunk_size\n",
    "    end_index = min(start_index + chunk_size, len(games))\n",
    "    games_chunk = games[start_index:end_index]\n",
    "\n",
    "    for game in games_chunk:\n",
    "        features = extract_features(game)\n",
    "        result.append(features)\n",
    "\n",
    "    ndjson_file_path = f'../data/raw/fide_maia/fide_{start_index}.ndjson'\n",
    "    print(f\"saved to {ndjson_file_path}\")\n",
    "    print(\"--------------------------------------------------------\")\n",
    "    with open(ndjson_file_path, 'w') as f:\n",
    "        for item in result:\n",
    "            json.dump(item, f)\n",
    "            f.write('\\n') \n",
    "      "
   ]
  },
  {
   "cell_type": "code",
   "execution_count": null,
   "metadata": {},
   "outputs": [],
   "source": []
  }
 ],
 "metadata": {
  "kernelspec": {
   "display_name": "py310",
   "language": "python",
   "name": "python3"
  },
  "language_info": {
   "codemirror_mode": {
    "name": "ipython",
    "version": 3
   },
   "file_extension": ".py",
   "mimetype": "text/x-python",
   "name": "python",
   "nbconvert_exporter": "python",
   "pygments_lexer": "ipython3",
   "version": "3.10.11"
  }
 },
 "nbformat": 4,
 "nbformat_minor": 2
}
