{
 "cells": [
  {
   "cell_type": "code",
   "execution_count": 1,
   "metadata": {},
   "outputs": [],
   "source": [
    "import chess.engine\n",
    "import chess \n",
    "import matplotlib.pyplot as plt\n",
    "import matplotlib.colors as mcolors\n",
    "import chess.pgn \n",
    "from stockfish import Stockfish\n",
    "import pandas as pd\n",
    "import time\n",
    "import numpy as np\n",
    "import chess\n",
    "import chess.pgn\n",
    "import time\n",
    "import multiprocessing as mp\n",
    "import sys\n",
    "from stockfish import Stockfish\n",
    "import numpy as np\n",
    "import json"
   ]
  },
  {
   "cell_type": "code",
   "execution_count": 2,
   "metadata": {},
   "outputs": [],
   "source": [
    "from maia_functions import *"
   ]
  },
  {
   "cell_type": "code",
   "execution_count": 3,
   "metadata": {},
   "outputs": [],
   "source": [
    "def extract_features(game):\n",
    "    # Read the next game\n",
    "    features = defaultdict(int)\n",
    "    stockfish=Stockfish(\"../stockfish/stockfish-windows-x86-64-avx2.exe\")\n",
    "    stockfish.set_depth(15)#How deep the AI looks\n",
    "    features = defaultdict(int)\n",
    "    features[\"moves\"] = [str(move) for move in game.mainline_moves()]\n",
    "    features[\"WhiteElo\"] = game.headers.get('WhiteElo', '')\n",
    "    features[\"BlackElo\"] = game.headers.get('BlackElo', '')\n",
    "    features[\"white\"] = game.headers.get('White', '')\n",
    "    features[\"black\"] = game.headers.get('Black', '')\n",
    "    try:\n",
    "        mm = maia_cpl(features, stockfish)\n",
    "        features[\"maia_cpl_w\"] = mm[\"cplw\"]\n",
    "        features[\"maia_cpl_b\"] = mm[\"cplb\"]\n",
    "    except:\n",
    "        return features\n",
    "    return features"
   ]
  },
  {
   "cell_type": "code",
   "execution_count": 4,
   "metadata": {},
   "outputs": [],
   "source": [
    "pgn_file_path = \"../data/landing/FIDE_openings.pgn\"\n",
    "\n",
    "games = []\n",
    "pgn_file = open(pgn_file_path)\n",
    "game = chess.pgn.read_game(pgn_file)\n",
    "\n",
    "start = 0\n",
    "limit = 10000\n",
    "count = 0\n",
    "while game is not None:\n",
    "    #features = extract_features(game)\n",
    "    games.append(game)\n",
    "\n",
    "    count += 1\n",
    "    if count == limit:\n",
    "        break\n",
    "    game = chess.pgn.read_game(pgn_file)\n",
    "\n",
    "pgn_file.close()"
   ]
  },
  {
   "cell_type": "code",
   "execution_count": 5,
   "metadata": {},
   "outputs": [
    {
     "name": "stderr",
     "output_type": "stream",
     "text": [
      "<UciProtocol (pid=8024)>: stderr >>        _\n",
      "<UciProtocol (pid=8024)>: stderr >> |   _ | |\n",
      "<UciProtocol (pid=8024)>: stderr >> |_ |_ |_| v0.31.1 built Aug 11 2024\n",
      "<UciProtocol (pid=8024)>: stderr >> Found configuration file: c:\\pc_coding\\Finding-Elo\\maia.chess\\lc0_windows/lc0.config\n",
      "<UciProtocol (pid=19188)>: stderr >>        _\n",
      "<UciProtocol (pid=19188)>: stderr >> |   _ | |\n",
      "<UciProtocol (pid=19188)>: stderr >> |_ |_ |_| v0.31.1 built Aug 11 2024\n",
      "<UciProtocol (pid=19188)>: stderr >> Found configuration file: c:\\pc_coding\\Finding-Elo\\maia.chess\\lc0_windows/lc0.config\n",
      "<UciProtocol (pid=8024)>: stderr >> Loading weights file from: lc0_windows\\models\\maia-1900.pb.gz\n",
      "<UciProtocol (pid=8024)>: stderr >> Creating backend [cuda-auto]...\n",
      "<UciProtocol (pid=8024)>: stderr >> Switching to [cuda-fp16]...\n",
      "<UciProtocol (pid=8024)>: stderr >> CUDA Runtime version: 11.1.0\n",
      "<UciProtocol (pid=8024)>: stderr >> Latest version of CUDA supported by the driver: 12.6.0\n",
      "<UciProtocol (pid=8024)>: stderr >> GPU: NVIDIA GeForce RTX 3070\n",
      "<UciProtocol (pid=8024)>: stderr >> GPU memory: 7.99951 Gb\n",
      "<UciProtocol (pid=8024)>: stderr >> GPU clock frequency: 1815 MHz\n",
      "<UciProtocol (pid=8024)>: stderr >> GPU compute capability: 8.6\n",
      "<UciProtocol (pid=8024)>: stderr >> L2 cache capacity: 4194304\n"
     ]
    },
    {
     "name": "stdout",
     "output_type": "stream",
     "text": [
      "--weights=lc0_windows\\models\\maia-1900.pb.gz\n",
      "--weights=lc0_windows\\models\\maia-1500.pb.gz\n"
     ]
    },
    {
     "name": "stderr",
     "output_type": "stream",
     "text": [
      "<UciProtocol (pid=19188)>: stderr >> Loading weights file from: lc0_windows\\models\\maia-1500.pb.gz\n",
      "<UciProtocol (pid=19188)>: stderr >> Creating backend [cuda-auto]...\n",
      "<UciProtocol (pid=19188)>: stderr >> Switching to [cuda-fp16]...\n",
      "<UciProtocol (pid=19188)>: stderr >> CUDA Runtime version: 11.1.0\n",
      "<UciProtocol (pid=19188)>: stderr >> Latest version of CUDA supported by the driver: 12.6.0\n",
      "<UciProtocol (pid=19188)>: stderr >> GPU: NVIDIA GeForce RTX 3070\n",
      "<UciProtocol (pid=19188)>: stderr >> GPU memory: 7.99951 Gb\n",
      "<UciProtocol (pid=19188)>: stderr >> GPU clock frequency: 1815 MHz\n",
      "<UciProtocol (pid=19188)>: stderr >> GPU compute capability: 8.6\n",
      "<UciProtocol (pid=19188)>: stderr >> L2 cache capacity: 4194304\n",
      "<UciProtocol (pid=9500)>: stderr >>        _\n",
      "<UciProtocol (pid=9500)>: stderr >> |   _ | |\n",
      "<UciProtocol (pid=9500)>: stderr >> |_ |_ |_| v0.31.1 built Aug 11 2024\n",
      "<UciProtocol (pid=9500)>: stderr >> Found configuration file: c:\\pc_coding\\Finding-Elo\\maia.chess\\lc0_windows/lc0.config\n",
      "<UciProtocol (pid=19800)>: stderr >>        _\n",
      "<UciProtocol (pid=19800)>: stderr >> |   _ | |\n",
      "<UciProtocol (pid=19800)>: stderr >> |_ |_ |_| v0.31.1 built Aug 11 2024\n",
      "<UciProtocol (pid=19800)>: stderr >> Found configuration file: c:\\pc_coding\\Finding-Elo\\maia.chess\\lc0_windows/lc0.config\n"
     ]
    },
    {
     "name": "stdout",
     "output_type": "stream",
     "text": [
      "--weights=lc0_windows\\models\\maia-1900.pb.gz\n",
      "--weights=lc0_windows\\models\\maia-1600.pb.gz\n"
     ]
    },
    {
     "name": "stderr",
     "output_type": "stream",
     "text": [
      "<UciProtocol (pid=6228)>: stderr >>        _\n",
      "<UciProtocol (pid=6228)>: stderr >> |   _ | |\n",
      "<UciProtocol (pid=6228)>: stderr >> |_ |_ |_| v0.31.1 built Aug 11 2024\n",
      "<UciProtocol (pid=6228)>: stderr >> Found configuration file: c:\\pc_coding\\Finding-Elo\\maia.chess\\lc0_windows/lc0.config\n",
      "<UciProtocol (pid=4820)>: stderr >>        _\n",
      "<UciProtocol (pid=4820)>: stderr >> |   _ | |\n",
      "<UciProtocol (pid=4820)>: stderr >> |_ |_ |_| v0.31.1 built Aug 11 2024\n",
      "<UciProtocol (pid=4820)>: stderr >> Found configuration file: c:\\pc_coding\\Finding-Elo\\maia.chess\\lc0_windows/lc0.config\n"
     ]
    },
    {
     "name": "stdout",
     "output_type": "stream",
     "text": [
      "--weights=lc0_windows\\models\\maia-1900.pb.gz\n",
      "--weights=lc0_windows\\models\\maia-1900.pb.gz\n"
     ]
    },
    {
     "name": "stderr",
     "output_type": "stream",
     "text": [
      "<UciProtocol (pid=24792)>: stderr >>        _\n",
      "<UciProtocol (pid=24792)>: stderr >> |   _ | |\n",
      "<UciProtocol (pid=24792)>: stderr >> |_ |_ |_| v0.31.1 built Aug 11 2024\n",
      "<UciProtocol (pid=24792)>: stderr >> Found configuration file: c:\\pc_coding\\Finding-Elo\\maia.chess\\lc0_windows/lc0.config\n",
      "<UciProtocol (pid=26284)>: stderr >>        _\n",
      "<UciProtocol (pid=26284)>: stderr >> |   _ | |\n",
      "<UciProtocol (pid=26284)>: stderr >> |_ |_ |_| v0.31.1 built Aug 11 2024\n",
      "<UciProtocol (pid=26284)>: stderr >> Found configuration file: c:\\pc_coding\\Finding-Elo\\maia.chess\\lc0_windows/lc0.config\n",
      "<UciProtocol (pid=24792)>: stderr >> Loading weights file from: lc0_windows\\models\\maia-1900.pb.gz\n",
      "<UciProtocol (pid=24792)>: stderr >> Creating backend [cuda-auto]...\n",
      "<UciProtocol (pid=24792)>: stderr >> Switching to [cuda-fp16]...\n",
      "<UciProtocol (pid=24792)>: stderr >> CUDA Runtime version: 11.1.0\n",
      "<UciProtocol (pid=24792)>: stderr >> Latest version of CUDA supported by the driver: 12.6.0\n",
      "<UciProtocol (pid=24792)>: stderr >> GPU: NVIDIA GeForce RTX 3070\n",
      "<UciProtocol (pid=24792)>: stderr >> GPU memory: 7.99951 Gb\n",
      "<UciProtocol (pid=24792)>: stderr >> GPU clock frequency: 1815 MHz\n",
      "<UciProtocol (pid=24792)>: stderr >> GPU compute capability: 8.6\n",
      "<UciProtocol (pid=24792)>: stderr >> L2 cache capacity: 4194304\n"
     ]
    },
    {
     "name": "stdout",
     "output_type": "stream",
     "text": [
      "--weights=lc0_windows\\models\\maia-1900.pb.gz\n",
      "--weights=lc0_windows\\models\\maia-1900.pb.gz\n"
     ]
    },
    {
     "name": "stderr",
     "output_type": "stream",
     "text": [
      "<UciProtocol (pid=26284)>: stderr >> Loading weights file from: lc0_windows\\models\\maia-1900.pb.gz\n",
      "<UciProtocol (pid=26284)>: stderr >> Creating backend [cuda-auto]...\n",
      "<UciProtocol (pid=26284)>: stderr >> Switching to [cuda-fp16]...\n",
      "<UciProtocol (pid=26284)>: stderr >> CUDA Runtime version: 11.1.0\n",
      "<UciProtocol (pid=26284)>: stderr >> Latest version of CUDA supported by the driver: 12.6.0\n",
      "<UciProtocol (pid=26284)>: stderr >> GPU: NVIDIA GeForce RTX 3070\n",
      "<UciProtocol (pid=26284)>: stderr >> GPU memory: 7.99951 Gb\n",
      "<UciProtocol (pid=26284)>: stderr >> GPU clock frequency: 1815 MHz\n",
      "<UciProtocol (pid=26284)>: stderr >> GPU compute capability: 8.6\n",
      "<UciProtocol (pid=26284)>: stderr >> L2 cache capacity: 4194304\n",
      "<UciProtocol (pid=21896)>: stderr >>        _\n",
      "<UciProtocol (pid=21896)>: stderr >> |   _ | |\n",
      "<UciProtocol (pid=21896)>: stderr >> |_ |_ |_| v0.31.1 built Aug 11 2024\n",
      "<UciProtocol (pid=21896)>: stderr >> Found configuration file: c:\\pc_coding\\Finding-Elo\\maia.chess\\lc0_windows/lc0.config\n",
      "<UciProtocol (pid=18088)>: stderr >>        _\n",
      "<UciProtocol (pid=18088)>: stderr >> |   _ | |\n",
      "<UciProtocol (pid=18088)>: stderr >> |_ |_ |_| v0.31.1 built Aug 11 2024\n",
      "<UciProtocol (pid=18088)>: stderr >> Found configuration file: c:\\pc_coding\\Finding-Elo\\maia.chess\\lc0_windows/lc0.config\n",
      "<UciProtocol (pid=21896)>: stderr >> Loading weights file from: lc0_windows\\models\\maia-1900.pb.gz\n",
      "<UciProtocol (pid=21896)>: stderr >> Creating backend [cuda-auto]...\n",
      "<UciProtocol (pid=21896)>: stderr >> Switching to [cuda-fp16]...\n",
      "<UciProtocol (pid=21896)>: stderr >> CUDA Runtime version: 11.1.0\n",
      "<UciProtocol (pid=21896)>: stderr >> Latest version of CUDA supported by the driver: 12.6.0\n",
      "<UciProtocol (pid=21896)>: stderr >> GPU: NVIDIA GeForce RTX 3070\n",
      "<UciProtocol (pid=21896)>: stderr >> GPU memory: 7.99951 Gb\n",
      "<UciProtocol (pid=21896)>: stderr >> GPU clock frequency: 1815 MHz\n",
      "<UciProtocol (pid=21896)>: stderr >> GPU compute capability: 8.6\n",
      "<UciProtocol (pid=21896)>: stderr >> L2 cache capacity: 4194304\n"
     ]
    },
    {
     "name": "stdout",
     "output_type": "stream",
     "text": [
      "--weights=lc0_windows\\models\\maia-1900.pb.gz\n",
      "--weights=lc0_windows\\models\\maia-1900.pb.gz\n"
     ]
    },
    {
     "name": "stderr",
     "output_type": "stream",
     "text": [
      "<UciProtocol (pid=18088)>: stderr >> Loading weights file from: lc0_windows\\models\\maia-1900.pb.gz\n",
      "<UciProtocol (pid=18088)>: stderr >> Creating backend [cuda-auto]...\n",
      "<UciProtocol (pid=18088)>: stderr >> Switching to [cuda-fp16]...\n",
      "<UciProtocol (pid=18088)>: stderr >> CUDA Runtime version: 11.1.0\n",
      "<UciProtocol (pid=18088)>: stderr >> Latest version of CUDA supported by the driver: 12.6.0\n",
      "<UciProtocol (pid=18088)>: stderr >> GPU: NVIDIA GeForce RTX 3070\n",
      "<UciProtocol (pid=18088)>: stderr >> GPU memory: 7.99951 Gb\n",
      "<UciProtocol (pid=18088)>: stderr >> GPU clock frequency: 1815 MHz\n",
      "<UciProtocol (pid=18088)>: stderr >> GPU compute capability: 8.6\n",
      "<UciProtocol (pid=18088)>: stderr >> L2 cache capacity: 4194304\n",
      "<UciProtocol (pid=20960)>: stderr >>        _\n",
      "<UciProtocol (pid=20960)>: stderr >> |   _ | |\n",
      "<UciProtocol (pid=20960)>: stderr >> |_ |_ |_| v0.31.1 built Aug 11 2024\n",
      "<UciProtocol (pid=20960)>: stderr >> Found configuration file: c:\\pc_coding\\Finding-Elo\\maia.chess\\lc0_windows/lc0.config\n",
      "<UciProtocol (pid=24104)>: stderr >>        _\n",
      "<UciProtocol (pid=24104)>: stderr >> |   _ | |\n",
      "<UciProtocol (pid=24104)>: stderr >> |_ |_ |_| v0.31.1 built Aug 11 2024\n",
      "<UciProtocol (pid=24104)>: stderr >> Found configuration file: c:\\pc_coding\\Finding-Elo\\maia.chess\\lc0_windows/lc0.config\n"
     ]
    },
    {
     "name": "stdout",
     "output_type": "stream",
     "text": [
      "--weights=lc0_windows\\models\\maia-1900.pb.gz\n",
      "--weights=lc0_windows\\models\\maia-1900.pb.gz\n"
     ]
    },
    {
     "name": "stderr",
     "output_type": "stream",
     "text": [
      "<UciProtocol (pid=17344)>: stderr >>        _\n",
      "<UciProtocol (pid=17344)>: stderr >> |   _ | |\n",
      "<UciProtocol (pid=17344)>: stderr >> |_ |_ |_| v0.31.1 built Aug 11 2024\n",
      "<UciProtocol (pid=17344)>: stderr >> Found configuration file: c:\\pc_coding\\Finding-Elo\\maia.chess\\lc0_windows/lc0.config\n",
      "<UciProtocol (pid=25880)>: stderr >>        _\n",
      "<UciProtocol (pid=25880)>: stderr >> |   _ | |\n",
      "<UciProtocol (pid=25880)>: stderr >> |_ |_ |_| v0.31.1 built Aug 11 2024\n",
      "<UciProtocol (pid=25880)>: stderr >> Found configuration file: c:\\pc_coding\\Finding-Elo\\maia.chess\\lc0_windows/lc0.config\n"
     ]
    },
    {
     "name": "stdout",
     "output_type": "stream",
     "text": [
      "--weights=lc0_windows\\models\\maia-1700.pb.gz\n",
      "--weights=lc0_windows\\models\\maia-1900.pb.gz\n"
     ]
    },
    {
     "name": "stderr",
     "output_type": "stream",
     "text": [
      "<UciProtocol (pid=13060)>: stderr >>        _\n",
      "<UciProtocol (pid=13060)>: stderr >> |   _ | |\n",
      "<UciProtocol (pid=13060)>: stderr >> |_ |_ |_| v0.31.1 built Aug 11 2024\n",
      "<UciProtocol (pid=13060)>: stderr >> Found configuration file: c:\\pc_coding\\Finding-Elo\\maia.chess\\lc0_windows/lc0.config\n",
      "<UciProtocol (pid=23816)>: stderr >>        _\n",
      "<UciProtocol (pid=23816)>: stderr >> |   _ | |\n",
      "<UciProtocol (pid=23816)>: stderr >> |_ |_ |_| v0.31.1 built Aug 11 2024\n",
      "<UciProtocol (pid=23816)>: stderr >> Found configuration file: c:\\pc_coding\\Finding-Elo\\maia.chess\\lc0_windows/lc0.config\n",
      "<UciProtocol (pid=13060)>: stderr >> Loading weights file from: lc0_windows\\models\\maia-1900.pb.gz\n",
      "<UciProtocol (pid=13060)>: stderr >> Creating backend [cuda-auto]...\n",
      "<UciProtocol (pid=13060)>: stderr >> Switching to [cuda-fp16]...\n",
      "<UciProtocol (pid=13060)>: stderr >> CUDA Runtime version: 11.1.0\n",
      "<UciProtocol (pid=13060)>: stderr >> Latest version of CUDA supported by the driver: 12.6.0\n",
      "<UciProtocol (pid=13060)>: stderr >> GPU: NVIDIA GeForce RTX 3070\n",
      "<UciProtocol (pid=13060)>: stderr >> GPU memory: 7.99951 Gb\n",
      "<UciProtocol (pid=13060)>: stderr >> GPU clock frequency: 1815 MHz\n",
      "<UciProtocol (pid=13060)>: stderr >> GPU compute capability: 8.6\n",
      "<UciProtocol (pid=13060)>: stderr >> L2 cache capacity: 4194304\n"
     ]
    },
    {
     "name": "stdout",
     "output_type": "stream",
     "text": [
      "--weights=lc0_windows\\models\\maia-1900.pb.gz\n",
      "--weights=lc0_windows\\models\\maia-1900.pb.gz\n"
     ]
    },
    {
     "name": "stderr",
     "output_type": "stream",
     "text": [
      "<UciProtocol (pid=23816)>: stderr >> Loading weights file from: lc0_windows\\models\\maia-1900.pb.gz\n",
      "<UciProtocol (pid=23816)>: stderr >> Creating backend [cuda-auto]...\n",
      "<UciProtocol (pid=23816)>: stderr >> Switching to [cuda-fp16]...\n",
      "<UciProtocol (pid=23816)>: stderr >> CUDA Runtime version: 11.1.0\n",
      "<UciProtocol (pid=23816)>: stderr >> Latest version of CUDA supported by the driver: 12.6.0\n",
      "<UciProtocol (pid=23816)>: stderr >> GPU: NVIDIA GeForce RTX 3070\n",
      "<UciProtocol (pid=23816)>: stderr >> GPU memory: 7.99951 Gb\n",
      "<UciProtocol (pid=23816)>: stderr >> GPU clock frequency: 1815 MHz\n",
      "<UciProtocol (pid=23816)>: stderr >> GPU compute capability: 8.6\n",
      "<UciProtocol (pid=23816)>: stderr >> L2 cache capacity: 4194304\n",
      "<UciProtocol (pid=18124)>: stderr >>        _\n",
      "<UciProtocol (pid=18124)>: stderr >> |   _ | |\n",
      "<UciProtocol (pid=18124)>: stderr >> |_ |_ |_| v0.31.1 built Aug 11 2024\n",
      "<UciProtocol (pid=18124)>: stderr >> Found configuration file: c:\\pc_coding\\Finding-Elo\\maia.chess\\lc0_windows/lc0.config\n",
      "<UciProtocol (pid=11572)>: stderr >>        _\n",
      "<UciProtocol (pid=11572)>: stderr >> |   _ | |\n",
      "<UciProtocol (pid=11572)>: stderr >> |_ |_ |_| v0.31.1 built Aug 11 2024\n",
      "<UciProtocol (pid=11572)>: stderr >> Found configuration file: c:\\pc_coding\\Finding-Elo\\maia.chess\\lc0_windows/lc0.config\n"
     ]
    },
    {
     "name": "stdout",
     "output_type": "stream",
     "text": [
      "--weights=lc0_windows\\models\\maia-1900.pb.gz\n",
      "--weights=lc0_windows\\models\\maia-1900.pb.gz\n"
     ]
    },
    {
     "name": "stderr",
     "output_type": "stream",
     "text": [
      "<UciProtocol (pid=1832)>: stderr >>        _\n",
      "<UciProtocol (pid=1832)>: stderr >> |   _ | |\n",
      "<UciProtocol (pid=1832)>: stderr >> |_ |_ |_| v0.31.1 built Aug 11 2024\n",
      "<UciProtocol (pid=1832)>: stderr >> Found configuration file: c:\\pc_coding\\Finding-Elo\\maia.chess\\lc0_windows/lc0.config\n",
      "<UciProtocol (pid=3460)>: stderr >>        _\n",
      "<UciProtocol (pid=3460)>: stderr >> |   _ | |\n",
      "<UciProtocol (pid=3460)>: stderr >> |_ |_ |_| v0.31.1 built Aug 11 2024\n",
      "<UciProtocol (pid=3460)>: stderr >> Found configuration file: c:\\pc_coding\\Finding-Elo\\maia.chess\\lc0_windows/lc0.config\n"
     ]
    },
    {
     "name": "stdout",
     "output_type": "stream",
     "text": [
      "--weights=lc0_windows\\models\\maia-1900.pb.gz\n",
      "--weights=lc0_windows\\models\\maia-1900.pb.gz\n"
     ]
    },
    {
     "name": "stderr",
     "output_type": "stream",
     "text": [
      "<UciProtocol (pid=2752)>: stderr >>        _\n",
      "<UciProtocol (pid=2752)>: stderr >> |   _ | |\n",
      "<UciProtocol (pid=2752)>: stderr >> |_ |_ |_| v0.31.1 built Aug 11 2024\n",
      "<UciProtocol (pid=2752)>: stderr >> Found configuration file: c:\\pc_coding\\Finding-Elo\\maia.chess\\lc0_windows/lc0.config\n",
      "<UciProtocol (pid=20120)>: stderr >>        _\n",
      "<UciProtocol (pid=20120)>: stderr >> |   _ | |\n",
      "<UciProtocol (pid=20120)>: stderr >> |_ |_ |_| v0.31.1 built Aug 11 2024\n",
      "<UciProtocol (pid=20120)>: stderr >> Found configuration file: c:\\pc_coding\\Finding-Elo\\maia.chess\\lc0_windows/lc0.config\n"
     ]
    },
    {
     "name": "stdout",
     "output_type": "stream",
     "text": [
      "--weights=lc0_windows\\models\\maia-1900.pb.gz\n",
      "--weights=lc0_windows\\models\\maia-1900.pb.gz\n"
     ]
    },
    {
     "name": "stderr",
     "output_type": "stream",
     "text": [
      "<UciProtocol (pid=23624)>: stderr >>        _\n",
      "<UciProtocol (pid=23624)>: stderr >> |   _ | |\n",
      "<UciProtocol (pid=23624)>: stderr >> |_ |_ |_| v0.31.1 built Aug 11 2024\n",
      "<UciProtocol (pid=23624)>: stderr >> Found configuration file: c:\\pc_coding\\Finding-Elo\\maia.chess\\lc0_windows/lc0.config\n",
      "<UciProtocol (pid=17856)>: stderr >>        _\n",
      "<UciProtocol (pid=17856)>: stderr >> |   _ | |\n",
      "<UciProtocol (pid=17856)>: stderr >> |_ |_ |_| v0.31.1 built Aug 11 2024\n",
      "<UciProtocol (pid=17856)>: stderr >> Found configuration file: c:\\pc_coding\\Finding-Elo\\maia.chess\\lc0_windows/lc0.config\n"
     ]
    },
    {
     "name": "stdout",
     "output_type": "stream",
     "text": [
      "--weights=lc0_windows\\models\\maia-1500.pb.gz\n",
      "--weights=lc0_windows\\models\\maia-1900.pb.gz\n"
     ]
    },
    {
     "name": "stderr",
     "output_type": "stream",
     "text": [
      "<UciProtocol (pid=5444)>: stderr >>        _\n",
      "<UciProtocol (pid=5444)>: stderr >> |   _ | |\n",
      "<UciProtocol (pid=5444)>: stderr >> |_ |_ |_| v0.31.1 built Aug 11 2024\n",
      "<UciProtocol (pid=5444)>: stderr >> Found configuration file: c:\\pc_coding\\Finding-Elo\\maia.chess\\lc0_windows/lc0.config\n",
      "<UciProtocol (pid=22008)>: stderr >>        _\n",
      "<UciProtocol (pid=22008)>: stderr >> |   _ | |\n",
      "<UciProtocol (pid=22008)>: stderr >> |_ |_ |_| v0.31.1 built Aug 11 2024\n",
      "<UciProtocol (pid=22008)>: stderr >> Found configuration file: c:\\pc_coding\\Finding-Elo\\maia.chess\\lc0_windows/lc0.config\n"
     ]
    },
    {
     "name": "stdout",
     "output_type": "stream",
     "text": [
      "--weights=lc0_windows\\models\\maia-1700.pb.gz\n",
      "--weights=lc0_windows\\models\\maia-1900.pb.gz\n"
     ]
    },
    {
     "name": "stderr",
     "output_type": "stream",
     "text": [
      "<UciProtocol (pid=23580)>: stderr >>        _\n",
      "<UciProtocol (pid=23580)>: stderr >> |   _ | |\n",
      "<UciProtocol (pid=23580)>: stderr >> |_ |_ |_| v0.31.1 built Aug 11 2024\n",
      "<UciProtocol (pid=23580)>: stderr >> Found configuration file: c:\\pc_coding\\Finding-Elo\\maia.chess\\lc0_windows/lc0.config\n",
      "<UciProtocol (pid=24076)>: stderr >>        _\n",
      "<UciProtocol (pid=24076)>: stderr >> |   _ | |\n",
      "<UciProtocol (pid=24076)>: stderr >> |_ |_ |_| v0.31.1 built Aug 11 2024\n",
      "<UciProtocol (pid=24076)>: stderr >> Found configuration file: c:\\pc_coding\\Finding-Elo\\maia.chess\\lc0_windows/lc0.config\n",
      "<UciProtocol (pid=23580)>: stderr >> Loading weights file from: lc0_windows\\models\\maia-1900.pb.gz\n",
      "<UciProtocol (pid=23580)>: stderr >> Creating backend [cuda-auto]...\n",
      "<UciProtocol (pid=23580)>: stderr >> Switching to [cuda-fp16]...\n",
      "<UciProtocol (pid=23580)>: stderr >> CUDA Runtime version: 11.1.0\n",
      "<UciProtocol (pid=23580)>: stderr >> Latest version of CUDA supported by the driver: 12.6.0\n",
      "<UciProtocol (pid=23580)>: stderr >> GPU: NVIDIA GeForce RTX 3070\n",
      "<UciProtocol (pid=23580)>: stderr >> GPU memory: 7.99951 Gb\n",
      "<UciProtocol (pid=23580)>: stderr >> GPU clock frequency: 1815 MHz\n",
      "<UciProtocol (pid=23580)>: stderr >> GPU compute capability: 8.6\n",
      "<UciProtocol (pid=23580)>: stderr >> L2 cache capacity: 4194304\n"
     ]
    },
    {
     "name": "stdout",
     "output_type": "stream",
     "text": [
      "--weights=lc0_windows\\models\\maia-1900.pb.gz\n",
      "--weights=lc0_windows\\models\\maia-1600.pb.gz\n"
     ]
    },
    {
     "name": "stderr",
     "output_type": "stream",
     "text": [
      "<UciProtocol (pid=24076)>: stderr >> Loading weights file from: lc0_windows\\models\\maia-1600.pb.gz\n",
      "<UciProtocol (pid=24076)>: stderr >> Creating backend [cuda-auto]...\n",
      "<UciProtocol (pid=24076)>: stderr >> Switching to [cuda-fp16]...\n",
      "<UciProtocol (pid=24076)>: stderr >> CUDA Runtime version: 11.1.0\n",
      "<UciProtocol (pid=24076)>: stderr >> Latest version of CUDA supported by the driver: 12.6.0\n",
      "<UciProtocol (pid=24076)>: stderr >> GPU: NVIDIA GeForce RTX 3070\n",
      "<UciProtocol (pid=24076)>: stderr >> GPU memory: 7.99951 Gb\n",
      "<UciProtocol (pid=24076)>: stderr >> GPU clock frequency: 1815 MHz\n",
      "<UciProtocol (pid=24076)>: stderr >> GPU compute capability: 8.6\n",
      "<UciProtocol (pid=24076)>: stderr >> L2 cache capacity: 4194304\n",
      "<UciProtocol (pid=15500)>: stderr >>        _\n",
      "<UciProtocol (pid=15500)>: stderr >> |   _ | |\n",
      "<UciProtocol (pid=15500)>: stderr >> |_ |_ |_| v0.31.1 built Aug 11 2024\n",
      "<UciProtocol (pid=15500)>: stderr >> Found configuration file: c:\\pc_coding\\Finding-Elo\\maia.chess\\lc0_windows/lc0.config\n",
      "<UciProtocol (pid=26180)>: stderr >>        _\n",
      "<UciProtocol (pid=26180)>: stderr >> |   _ | |\n",
      "<UciProtocol (pid=26180)>: stderr >> |_ |_ |_| v0.31.1 built Aug 11 2024\n",
      "<UciProtocol (pid=26180)>: stderr >> Found configuration file: c:\\pc_coding\\Finding-Elo\\maia.chess\\lc0_windows/lc0.config\n",
      "<UciProtocol (pid=15500)>: stderr >> Loading weights file from: lc0_windows\\models\\maia-1900.pb.gz\n",
      "<UciProtocol (pid=15500)>: stderr >> Creating backend [cuda-auto]...\n",
      "<UciProtocol (pid=15500)>: stderr >> Switching to [cuda-fp16]...\n",
      "<UciProtocol (pid=15500)>: stderr >> CUDA Runtime version: 11.1.0\n",
      "<UciProtocol (pid=15500)>: stderr >> Latest version of CUDA supported by the driver: 12.6.0\n",
      "<UciProtocol (pid=15500)>: stderr >> GPU: NVIDIA GeForce RTX 3070\n",
      "<UciProtocol (pid=15500)>: stderr >> GPU memory: 7.99951 Gb\n",
      "<UciProtocol (pid=15500)>: stderr >> GPU clock frequency: 1815 MHz\n",
      "<UciProtocol (pid=15500)>: stderr >> GPU compute capability: 8.6\n",
      "<UciProtocol (pid=15500)>: stderr >> L2 cache capacity: 4194304\n"
     ]
    },
    {
     "name": "stdout",
     "output_type": "stream",
     "text": [
      "--weights=lc0_windows\\models\\maia-1900.pb.gz\n",
      "--weights=lc0_windows\\models\\maia-1900.pb.gz\n"
     ]
    },
    {
     "name": "stderr",
     "output_type": "stream",
     "text": [
      "<UciProtocol (pid=26180)>: stderr >> Loading weights file from: lc0_windows\\models\\maia-1900.pb.gz\n",
      "<UciProtocol (pid=26180)>: stderr >> Creating backend [cuda-auto]...\n",
      "<UciProtocol (pid=26180)>: stderr >> Switching to [cuda-fp16]...\n",
      "<UciProtocol (pid=26180)>: stderr >> CUDA Runtime version: 11.1.0\n",
      "<UciProtocol (pid=26180)>: stderr >> Latest version of CUDA supported by the driver: 12.6.0\n",
      "<UciProtocol (pid=26180)>: stderr >> GPU: NVIDIA GeForce RTX 3070\n",
      "<UciProtocol (pid=26180)>: stderr >> GPU memory: 7.99951 Gb\n",
      "<UciProtocol (pid=26180)>: stderr >> GPU clock frequency: 1815 MHz\n",
      "<UciProtocol (pid=26180)>: stderr >> GPU compute capability: 8.6\n",
      "<UciProtocol (pid=26180)>: stderr >> L2 cache capacity: 4194304\n",
      "<UciProtocol (pid=21784)>: stderr >>        _\n",
      "<UciProtocol (pid=21784)>: stderr >> |   _ | |\n",
      "<UciProtocol (pid=21784)>: stderr >> |_ |_ |_| v0.31.1 built Aug 11 2024\n",
      "<UciProtocol (pid=21784)>: stderr >> Found configuration file: c:\\pc_coding\\Finding-Elo\\maia.chess\\lc0_windows/lc0.config\n",
      "<UciProtocol (pid=15824)>: stderr >>        _\n",
      "<UciProtocol (pid=15824)>: stderr >> |   _ | |\n",
      "<UciProtocol (pid=15824)>: stderr >> |_ |_ |_| v0.31.1 built Aug 11 2024\n",
      "<UciProtocol (pid=15824)>: stderr >> Found configuration file: c:\\pc_coding\\Finding-Elo\\maia.chess\\lc0_windows/lc0.config\n"
     ]
    },
    {
     "name": "stdout",
     "output_type": "stream",
     "text": [
      "--weights=lc0_windows\\models\\maia-1900.pb.gz\n",
      "--weights=lc0_windows\\models\\maia-1900.pb.gz\n"
     ]
    },
    {
     "name": "stderr",
     "output_type": "stream",
     "text": [
      "<UciProtocol (pid=15288)>: stderr >>        _\n",
      "<UciProtocol (pid=15288)>: stderr >> |   _ | |\n",
      "<UciProtocol (pid=15288)>: stderr >> |_ |_ |_| v0.31.1 built Aug 11 2024\n",
      "<UciProtocol (pid=15288)>: stderr >> Found configuration file: c:\\pc_coding\\Finding-Elo\\maia.chess\\lc0_windows/lc0.config\n",
      "<UciProtocol (pid=13568)>: stderr >>        _\n",
      "<UciProtocol (pid=13568)>: stderr >> |   _ | |\n",
      "<UciProtocol (pid=13568)>: stderr >> |_ |_ |_| v0.31.1 built Aug 11 2024\n",
      "<UciProtocol (pid=13568)>: stderr >> Found configuration file: c:\\pc_coding\\Finding-Elo\\maia.chess\\lc0_windows/lc0.config\n"
     ]
    },
    {
     "name": "stdout",
     "output_type": "stream",
     "text": [
      "--weights=lc0_windows\\models\\maia-1900.pb.gz\n",
      "--weights=lc0_windows\\models\\maia-1900.pb.gz\n"
     ]
    },
    {
     "name": "stderr",
     "output_type": "stream",
     "text": [
      "<UciProtocol (pid=23816)>: stderr >>        _\n",
      "<UciProtocol (pid=23816)>: stderr >> |   _ | |\n",
      "<UciProtocol (pid=23816)>: stderr >> |_ |_ |_| v0.31.1 built Aug 11 2024\n",
      "<UciProtocol (pid=23816)>: stderr >> Found configuration file: c:\\pc_coding\\Finding-Elo\\maia.chess\\lc0_windows/lc0.config\n",
      "<UciProtocol (pid=10680)>: stderr >>        _\n",
      "<UciProtocol (pid=10680)>: stderr >> |   _ | |\n",
      "<UciProtocol (pid=10680)>: stderr >> |_ |_ |_| v0.31.1 built Aug 11 2024\n",
      "<UciProtocol (pid=10680)>: stderr >> Found configuration file: c:\\pc_coding\\Finding-Elo\\maia.chess\\lc0_windows/lc0.config\n",
      "<UciProtocol (pid=23816)>: stderr >> Loading weights file from: lc0_windows\\models\\maia-1900.pb.gz\n",
      "<UciProtocol (pid=23816)>: stderr >> Creating backend [cuda-auto]...\n",
      "<UciProtocol (pid=23816)>: stderr >> Switching to [cuda-fp16]...\n",
      "<UciProtocol (pid=23816)>: stderr >> CUDA Runtime version: 11.1.0\n",
      "<UciProtocol (pid=23816)>: stderr >> Latest version of CUDA supported by the driver: 12.6.0\n",
      "<UciProtocol (pid=23816)>: stderr >> GPU: NVIDIA GeForce RTX 3070\n",
      "<UciProtocol (pid=23816)>: stderr >> GPU memory: 7.99951 Gb\n",
      "<UciProtocol (pid=23816)>: stderr >> GPU clock frequency: 1815 MHz\n",
      "<UciProtocol (pid=23816)>: stderr >> GPU compute capability: 8.6\n",
      "<UciProtocol (pid=23816)>: stderr >> L2 cache capacity: 4194304\n"
     ]
    },
    {
     "name": "stdout",
     "output_type": "stream",
     "text": [
      "--weights=lc0_windows\\models\\maia-1900.pb.gz\n",
      "--weights=lc0_windows\\models\\maia-1900.pb.gz\n"
     ]
    },
    {
     "name": "stderr",
     "output_type": "stream",
     "text": [
      "<UciProtocol (pid=10680)>: stderr >> Loading weights file from: lc0_windows\\models\\maia-1900.pb.gz\n",
      "<UciProtocol (pid=10680)>: stderr >> Creating backend [cuda-auto]...\n",
      "<UciProtocol (pid=10680)>: stderr >> Switching to [cuda-fp16]...\n",
      "<UciProtocol (pid=10680)>: stderr >> CUDA Runtime version: 11.1.0\n",
      "<UciProtocol (pid=10680)>: stderr >> Latest version of CUDA supported by the driver: 12.6.0\n",
      "<UciProtocol (pid=10680)>: stderr >> GPU: NVIDIA GeForce RTX 3070\n",
      "<UciProtocol (pid=10680)>: stderr >> GPU memory: 7.99951 Gb\n",
      "<UciProtocol (pid=10680)>: stderr >> GPU clock frequency: 1815 MHz\n",
      "<UciProtocol (pid=10680)>: stderr >> GPU compute capability: 8.6\n",
      "<UciProtocol (pid=10680)>: stderr >> L2 cache capacity: 4194304\n",
      "<UciProtocol (pid=19904)>: stderr >>        _\n",
      "<UciProtocol (pid=19904)>: stderr >> |   _ | |\n",
      "<UciProtocol (pid=19904)>: stderr >> |_ |_ |_| v0.31.1 built Aug 11 2024\n",
      "<UciProtocol (pid=19904)>: stderr >> Found configuration file: c:\\pc_coding\\Finding-Elo\\maia.chess\\lc0_windows/lc0.config\n",
      "<UciProtocol (pid=22816)>: stderr >>        _\n",
      "<UciProtocol (pid=22816)>: stderr >> |   _ | |\n",
      "<UciProtocol (pid=22816)>: stderr >> |_ |_ |_| v0.31.1 built Aug 11 2024\n",
      "<UciProtocol (pid=22816)>: stderr >> Found configuration file: c:\\pc_coding\\Finding-Elo\\maia.chess\\lc0_windows/lc0.config\n"
     ]
    },
    {
     "name": "stdout",
     "output_type": "stream",
     "text": [
      "--weights=lc0_windows\\models\\maia-1900.pb.gz\n",
      "--weights=lc0_windows\\models\\maia-1900.pb.gz\n"
     ]
    },
    {
     "name": "stderr",
     "output_type": "stream",
     "text": [
      "<UciProtocol (pid=25972)>: stderr >>        _\n",
      "<UciProtocol (pid=25972)>: stderr >> |   _ | |\n",
      "<UciProtocol (pid=25972)>: stderr >> |_ |_ |_| v0.31.1 built Aug 11 2024\n",
      "<UciProtocol (pid=25972)>: stderr >> Found configuration file: c:\\pc_coding\\Finding-Elo\\maia.chess\\lc0_windows/lc0.config\n",
      "<UciProtocol (pid=20616)>: stderr >>        _\n",
      "<UciProtocol (pid=20616)>: stderr >> |   _ | |\n",
      "<UciProtocol (pid=20616)>: stderr >> |_ |_ |_| v0.31.1 built Aug 11 2024\n",
      "<UciProtocol (pid=20616)>: stderr >> Found configuration file: c:\\pc_coding\\Finding-Elo\\maia.chess\\lc0_windows/lc0.config\n"
     ]
    },
    {
     "name": "stdout",
     "output_type": "stream",
     "text": [
      "--weights=lc0_windows\\models\\maia-1900.pb.gz\n",
      "--weights=lc0_windows\\models\\maia-1900.pb.gz\n"
     ]
    },
    {
     "name": "stderr",
     "output_type": "stream",
     "text": [
      "<UciProtocol (pid=11244)>: stderr >>        _\n",
      "<UciProtocol (pid=11244)>: stderr >> |   _ | |\n",
      "<UciProtocol (pid=11244)>: stderr >> |_ |_ |_| v0.31.1 built Aug 11 2024\n",
      "<UciProtocol (pid=11244)>: stderr >> Found configuration file: c:\\pc_coding\\Finding-Elo\\maia.chess\\lc0_windows/lc0.config\n",
      "<UciProtocol (pid=15464)>: stderr >>        _\n",
      "<UciProtocol (pid=15464)>: stderr >> |   _ | |\n",
      "<UciProtocol (pid=15464)>: stderr >> |_ |_ |_| v0.31.1 built Aug 11 2024\n",
      "<UciProtocol (pid=15464)>: stderr >> Found configuration file: c:\\pc_coding\\Finding-Elo\\maia.chess\\lc0_windows/lc0.config\n"
     ]
    },
    {
     "name": "stdout",
     "output_type": "stream",
     "text": [
      "--weights=lc0_windows\\models\\maia-1700.pb.gz\n",
      "--weights=lc0_windows\\models\\maia-1900.pb.gz\n"
     ]
    },
    {
     "name": "stderr",
     "output_type": "stream",
     "text": [
      "<UciProtocol (pid=1360)>: stderr >>        _\n",
      "<UciProtocol (pid=1360)>: stderr >> |   _ | |\n",
      "<UciProtocol (pid=1360)>: stderr >> |_ |_ |_| v0.31.1 built Aug 11 2024\n",
      "<UciProtocol (pid=1360)>: stderr >> Found configuration file: c:\\pc_coding\\Finding-Elo\\maia.chess\\lc0_windows/lc0.config\n",
      "<UciProtocol (pid=22440)>: stderr >>        _\n",
      "<UciProtocol (pid=22440)>: stderr >> |   _ | |\n",
      "<UciProtocol (pid=22440)>: stderr >> |_ |_ |_| v0.31.1 built Aug 11 2024\n",
      "<UciProtocol (pid=22440)>: stderr >> Found configuration file: c:\\pc_coding\\Finding-Elo\\maia.chess\\lc0_windows/lc0.config\n"
     ]
    },
    {
     "name": "stdout",
     "output_type": "stream",
     "text": [
      "--weights=lc0_windows\\models\\maia-1900.pb.gz\n",
      "--weights=lc0_windows\\models\\maia-1900.pb.gz\n"
     ]
    },
    {
     "name": "stderr",
     "output_type": "stream",
     "text": [
      "<UciProtocol (pid=20528)>: stderr >>        _\n",
      "<UciProtocol (pid=20528)>: stderr >> |   _ | |\n",
      "<UciProtocol (pid=20528)>: stderr >> |_ |_ |_| v0.31.1 built Aug 11 2024\n",
      "<UciProtocol (pid=20528)>: stderr >> Found configuration file: c:\\pc_coding\\Finding-Elo\\maia.chess\\lc0_windows/lc0.config\n",
      "<UciProtocol (pid=20780)>: stderr >>        _\n",
      "<UciProtocol (pid=20780)>: stderr >> |   _ | |\n",
      "<UciProtocol (pid=20780)>: stderr >> |_ |_ |_| v0.31.1 built Aug 11 2024\n",
      "<UciProtocol (pid=20780)>: stderr >> Found configuration file: c:\\pc_coding\\Finding-Elo\\maia.chess\\lc0_windows/lc0.config\n"
     ]
    },
    {
     "name": "stdout",
     "output_type": "stream",
     "text": [
      "--weights=lc0_windows\\models\\maia-1900.pb.gz\n",
      "--weights=lc0_windows\\models\\maia-1900.pb.gz\n"
     ]
    },
    {
     "name": "stderr",
     "output_type": "stream",
     "text": [
      "<UciProtocol (pid=1768)>: stderr >>        _\n",
      "<UciProtocol (pid=1768)>: stderr >> |   _ | |\n",
      "<UciProtocol (pid=1768)>: stderr >> |_ |_ |_| v0.31.1 built Aug 11 2024\n",
      "<UciProtocol (pid=1768)>: stderr >> Found configuration file: c:\\pc_coding\\Finding-Elo\\maia.chess\\lc0_windows/lc0.config\n",
      "<UciProtocol (pid=7328)>: stderr >>        _\n",
      "<UciProtocol (pid=7328)>: stderr >> |   _ | |\n",
      "<UciProtocol (pid=7328)>: stderr >> |_ |_ |_| v0.31.1 built Aug 11 2024\n",
      "<UciProtocol (pid=7328)>: stderr >> Found configuration file: c:\\pc_coding\\Finding-Elo\\maia.chess\\lc0_windows/lc0.config\n",
      "<UciProtocol (pid=1768)>: stderr >> Loading weights file from: lc0_windows\\models\\maia-1900.pb.gz\n",
      "<UciProtocol (pid=1768)>: stderr >> Creating backend [cuda-auto]...\n",
      "<UciProtocol (pid=1768)>: stderr >> Switching to [cuda-fp16]...\n",
      "<UciProtocol (pid=1768)>: stderr >> CUDA Runtime version: 11.1.0\n",
      "<UciProtocol (pid=1768)>: stderr >> Latest version of CUDA supported by the driver: 12.6.0\n",
      "<UciProtocol (pid=1768)>: stderr >> GPU: NVIDIA GeForce RTX 3070\n",
      "<UciProtocol (pid=1768)>: stderr >> GPU memory: 7.99951 Gb\n",
      "<UciProtocol (pid=1768)>: stderr >> GPU clock frequency: 1815 MHz\n",
      "<UciProtocol (pid=1768)>: stderr >> GPU compute capability: 8.6\n",
      "<UciProtocol (pid=1768)>: stderr >> L2 cache capacity: 4194304\n"
     ]
    },
    {
     "name": "stdout",
     "output_type": "stream",
     "text": [
      "--weights=lc0_windows\\models\\maia-1900.pb.gz\n",
      "--weights=lc0_windows\\models\\maia-1700.pb.gz\n"
     ]
    },
    {
     "name": "stderr",
     "output_type": "stream",
     "text": [
      "<UciProtocol (pid=7328)>: stderr >> Loading weights file from: lc0_windows\\models\\maia-1700.pb.gz\n",
      "<UciProtocol (pid=7328)>: stderr >> Creating backend [cuda-auto]...\n",
      "<UciProtocol (pid=7328)>: stderr >> Switching to [cuda-fp16]...\n",
      "<UciProtocol (pid=7328)>: stderr >> CUDA Runtime version: 11.1.0\n",
      "<UciProtocol (pid=7328)>: stderr >> Latest version of CUDA supported by the driver: 12.6.0\n",
      "<UciProtocol (pid=7328)>: stderr >> GPU: NVIDIA GeForce RTX 3070\n",
      "<UciProtocol (pid=7328)>: stderr >> GPU memory: 7.99951 Gb\n",
      "<UciProtocol (pid=7328)>: stderr >> GPU clock frequency: 1815 MHz\n",
      "<UciProtocol (pid=7328)>: stderr >> GPU compute capability: 8.6\n",
      "<UciProtocol (pid=7328)>: stderr >> L2 cache capacity: 4194304\n",
      "<UciProtocol (pid=19316)>: stderr >>        _\n",
      "<UciProtocol (pid=19316)>: stderr >> |   _ | |\n",
      "<UciProtocol (pid=19316)>: stderr >> |_ |_ |_| v0.31.1 built Aug 11 2024\n",
      "<UciProtocol (pid=19316)>: stderr >> Found configuration file: c:\\pc_coding\\Finding-Elo\\maia.chess\\lc0_windows/lc0.config\n",
      "<UciProtocol (pid=25476)>: stderr >>        _\n",
      "<UciProtocol (pid=25476)>: stderr >> |   _ | |\n",
      "<UciProtocol (pid=25476)>: stderr >> |_ |_ |_| v0.31.1 built Aug 11 2024\n",
      "<UciProtocol (pid=25476)>: stderr >> Found configuration file: c:\\pc_coding\\Finding-Elo\\maia.chess\\lc0_windows/lc0.config\n"
     ]
    },
    {
     "name": "stdout",
     "output_type": "stream",
     "text": [
      "--weights=lc0_windows\\models\\maia-1900.pb.gz\n",
      "--weights=lc0_windows\\models\\maia-1900.pb.gz\n"
     ]
    },
    {
     "name": "stderr",
     "output_type": "stream",
     "text": [
      "<UciProtocol (pid=26392)>: stderr >>        _\n",
      "<UciProtocol (pid=26392)>: stderr >> |   _ | |\n",
      "<UciProtocol (pid=26392)>: stderr >> |_ |_ |_| v0.31.1 built Aug 11 2024\n",
      "<UciProtocol (pid=26392)>: stderr >> Found configuration file: c:\\pc_coding\\Finding-Elo\\maia.chess\\lc0_windows/lc0.config\n"
     ]
    },
    {
     "name": "stdout",
     "output_type": "stream",
     "text": [
      "--weights=lc0_windows\\models\\maia-1900.pb.gz\n"
     ]
    },
    {
     "name": "stderr",
     "output_type": "stream",
     "text": [
      "<UciProtocol (pid=14888)>: stderr >>        _\n",
      "<UciProtocol (pid=14888)>: stderr >> |   _ | |\n",
      "<UciProtocol (pid=14888)>: stderr >> |_ |_ |_| v0.31.1 built Aug 11 2024\n",
      "<UciProtocol (pid=14888)>: stderr >> Found configuration file: c:\\pc_coding\\Finding-Elo\\maia.chess\\lc0_windows/lc0.config\n",
      "<UciProtocol (pid=20564)>: stderr >>        _\n",
      "<UciProtocol (pid=20564)>: stderr >> |   _ | |\n",
      "<UciProtocol (pid=20564)>: stderr >> |_ |_ |_| v0.31.1 built Aug 11 2024\n",
      "<UciProtocol (pid=20564)>: stderr >> Found configuration file: c:\\pc_coding\\Finding-Elo\\maia.chess\\lc0_windows/lc0.config\n",
      "<UciProtocol (pid=14888)>: stderr >> Loading weights file from: lc0_windows\\models\\maia-1600.pb.gz\n",
      "<UciProtocol (pid=14888)>: stderr >> Creating backend [cuda-auto]...\n",
      "<UciProtocol (pid=14888)>: stderr >> Switching to [cuda-fp16]...\n",
      "<UciProtocol (pid=14888)>: stderr >> CUDA Runtime version: 11.1.0\n",
      "<UciProtocol (pid=14888)>: stderr >> Latest version of CUDA supported by the driver: 12.6.0\n",
      "<UciProtocol (pid=14888)>: stderr >> GPU: NVIDIA GeForce RTX 3070\n",
      "<UciProtocol (pid=14888)>: stderr >> GPU memory: 7.99951 Gb\n",
      "<UciProtocol (pid=14888)>: stderr >> GPU clock frequency: 1815 MHz\n",
      "<UciProtocol (pid=14888)>: stderr >> GPU compute capability: 8.6\n",
      "<UciProtocol (pid=14888)>: stderr >> L2 cache capacity: 4194304\n"
     ]
    },
    {
     "name": "stdout",
     "output_type": "stream",
     "text": [
      "--weights=lc0_windows\\models\\maia-1600.pb.gz\n",
      "--weights=lc0_windows\\models\\maia-1500.pb.gz\n"
     ]
    },
    {
     "name": "stderr",
     "output_type": "stream",
     "text": [
      "<UciProtocol (pid=20564)>: stderr >> Loading weights file from: lc0_windows\\models\\maia-1500.pb.gz\n",
      "<UciProtocol (pid=20564)>: stderr >> Creating backend [cuda-auto]...\n",
      "<UciProtocol (pid=20564)>: stderr >> Switching to [cuda-fp16]...\n",
      "<UciProtocol (pid=20564)>: stderr >> CUDA Runtime version: 11.1.0\n",
      "<UciProtocol (pid=20564)>: stderr >> Latest version of CUDA supported by the driver: 12.6.0\n",
      "<UciProtocol (pid=20564)>: stderr >> GPU: NVIDIA GeForce RTX 3070\n",
      "<UciProtocol (pid=20564)>: stderr >> GPU memory: 7.99951 Gb\n",
      "<UciProtocol (pid=20564)>: stderr >> GPU clock frequency: 1815 MHz\n",
      "<UciProtocol (pid=20564)>: stderr >> GPU compute capability: 8.6\n",
      "<UciProtocol (pid=20564)>: stderr >> L2 cache capacity: 4194304\n",
      "<UciProtocol (pid=25388)>: stderr >>        _\n",
      "<UciProtocol (pid=25388)>: stderr >> |   _ | |\n",
      "<UciProtocol (pid=25388)>: stderr >> |_ |_ |_| v0.31.1 built Aug 11 2024\n",
      "<UciProtocol (pid=25388)>: stderr >> Found configuration file: c:\\pc_coding\\Finding-Elo\\maia.chess\\lc0_windows/lc0.config\n",
      "<UciProtocol (pid=23760)>: stderr >>        _\n",
      "<UciProtocol (pid=23760)>: stderr >> |   _ | |\n",
      "<UciProtocol (pid=23760)>: stderr >> |_ |_ |_| v0.31.1 built Aug 11 2024\n",
      "<UciProtocol (pid=23760)>: stderr >> Found configuration file: c:\\pc_coding\\Finding-Elo\\maia.chess\\lc0_windows/lc0.config\n"
     ]
    },
    {
     "name": "stdout",
     "output_type": "stream",
     "text": [
      "--weights=lc0_windows\\models\\maia-1800.pb.gz\n",
      "--weights=lc0_windows\\models\\maia-1900.pb.gz\n"
     ]
    },
    {
     "name": "stderr",
     "output_type": "stream",
     "text": [
      "<UciProtocol (pid=26560)>: stderr >>        _\n",
      "<UciProtocol (pid=26560)>: stderr >> |   _ | |\n",
      "<UciProtocol (pid=26560)>: stderr >> |_ |_ |_| v0.31.1 built Aug 11 2024\n",
      "<UciProtocol (pid=26560)>: stderr >> Found configuration file: c:\\pc_coding\\Finding-Elo\\maia.chess\\lc0_windows/lc0.config\n",
      "<UciProtocol (pid=7276)>: stderr >>        _\n",
      "<UciProtocol (pid=7276)>: stderr >> |   _ | |\n",
      "<UciProtocol (pid=7276)>: stderr >> |_ |_ |_| v0.31.1 built Aug 11 2024\n",
      "<UciProtocol (pid=7276)>: stderr >> Found configuration file: c:\\pc_coding\\Finding-Elo\\maia.chess\\lc0_windows/lc0.config\n",
      "<UciProtocol (pid=26560)>: stderr >> Loading weights file from: lc0_windows\\models\\maia-1900.pb.gz\n",
      "<UciProtocol (pid=26560)>: stderr >> Creating backend [cuda-auto]...\n",
      "<UciProtocol (pid=26560)>: stderr >> Switching to [cuda-fp16]...\n",
      "<UciProtocol (pid=26560)>: stderr >> CUDA Runtime version: 11.1.0\n",
      "<UciProtocol (pid=26560)>: stderr >> Latest version of CUDA supported by the driver: 12.6.0\n",
      "<UciProtocol (pid=26560)>: stderr >> GPU: NVIDIA GeForce RTX 3070\n",
      "<UciProtocol (pid=26560)>: stderr >> GPU memory: 7.99951 Gb\n",
      "<UciProtocol (pid=26560)>: stderr >> GPU clock frequency: 1815 MHz\n",
      "<UciProtocol (pid=26560)>: stderr >> GPU compute capability: 8.6\n",
      "<UciProtocol (pid=26560)>: stderr >> L2 cache capacity: 4194304\n"
     ]
    },
    {
     "name": "stdout",
     "output_type": "stream",
     "text": [
      "--weights=lc0_windows\\models\\maia-1900.pb.gz\n",
      "--weights=lc0_windows\\models\\maia-1800.pb.gz\n"
     ]
    },
    {
     "name": "stderr",
     "output_type": "stream",
     "text": [
      "<UciProtocol (pid=7276)>: stderr >> Loading weights file from: lc0_windows\\models\\maia-1800.pb.gz\n",
      "<UciProtocol (pid=7276)>: stderr >> Creating backend [cuda-auto]...\n",
      "<UciProtocol (pid=7276)>: stderr >> Switching to [cuda-fp16]...\n",
      "<UciProtocol (pid=7276)>: stderr >> CUDA Runtime version: 11.1.0\n",
      "<UciProtocol (pid=7276)>: stderr >> Latest version of CUDA supported by the driver: 12.6.0\n",
      "<UciProtocol (pid=7276)>: stderr >> GPU: NVIDIA GeForce RTX 3070\n",
      "<UciProtocol (pid=7276)>: stderr >> GPU memory: 7.99951 Gb\n",
      "<UciProtocol (pid=7276)>: stderr >> GPU clock frequency: 1815 MHz\n",
      "<UciProtocol (pid=7276)>: stderr >> GPU compute capability: 8.6\n",
      "<UciProtocol (pid=7276)>: stderr >> L2 cache capacity: 4194304\n",
      "<UciProtocol (pid=9928)>: stderr >>        _\n",
      "<UciProtocol (pid=9928)>: stderr >> |   _ | |\n",
      "<UciProtocol (pid=9928)>: stderr >> |_ |_ |_| v0.31.1 built Aug 11 2024\n",
      "<UciProtocol (pid=9928)>: stderr >> Found configuration file: c:\\pc_coding\\Finding-Elo\\maia.chess\\lc0_windows/lc0.config\n",
      "<UciProtocol (pid=23028)>: stderr >>        _\n",
      "<UciProtocol (pid=23028)>: stderr >> |   _ | |\n",
      "<UciProtocol (pid=23028)>: stderr >> |_ |_ |_| v0.31.1 built Aug 11 2024\n",
      "<UciProtocol (pid=23028)>: stderr >> Found configuration file: c:\\pc_coding\\Finding-Elo\\maia.chess\\lc0_windows/lc0.config\n"
     ]
    },
    {
     "name": "stdout",
     "output_type": "stream",
     "text": [
      "--weights=lc0_windows\\models\\maia-1700.pb.gz\n",
      "--weights=lc0_windows\\models\\maia-1900.pb.gz\n"
     ]
    },
    {
     "name": "stderr",
     "output_type": "stream",
     "text": [
      "<UciProtocol (pid=24844)>: stderr >>        _\n",
      "<UciProtocol (pid=24844)>: stderr >> |   _ | |\n",
      "<UciProtocol (pid=24844)>: stderr >> |_ |_ |_| v0.31.1 built Aug 11 2024\n",
      "<UciProtocol (pid=24844)>: stderr >> Found configuration file: c:\\pc_coding\\Finding-Elo\\maia.chess\\lc0_windows/lc0.config\n",
      "<UciProtocol (pid=22076)>: stderr >>        _\n",
      "<UciProtocol (pid=22076)>: stderr >> |   _ | |\n",
      "<UciProtocol (pid=22076)>: stderr >> |_ |_ |_| v0.31.1 built Aug 11 2024\n",
      "<UciProtocol (pid=22076)>: stderr >> Found configuration file: c:\\pc_coding\\Finding-Elo\\maia.chess\\lc0_windows/lc0.config\n",
      "<UciProtocol (pid=24844)>: stderr >> Loading weights file from: lc0_windows\\models\\maia-1900.pb.gz\n",
      "<UciProtocol (pid=24844)>: stderr >> Creating backend [cuda-auto]...\n",
      "<UciProtocol (pid=24844)>: stderr >> Switching to [cuda-fp16]...\n",
      "<UciProtocol (pid=24844)>: stderr >> CUDA Runtime version: 11.1.0\n",
      "<UciProtocol (pid=24844)>: stderr >> Latest version of CUDA supported by the driver: 12.6.0\n",
      "<UciProtocol (pid=24844)>: stderr >> GPU: NVIDIA GeForce RTX 3070\n",
      "<UciProtocol (pid=24844)>: stderr >> GPU memory: 7.99951 Gb\n",
      "<UciProtocol (pid=24844)>: stderr >> GPU clock frequency: 1815 MHz\n",
      "<UciProtocol (pid=24844)>: stderr >> GPU compute capability: 8.6\n",
      "<UciProtocol (pid=24844)>: stderr >> L2 cache capacity: 4194304\n"
     ]
    },
    {
     "name": "stdout",
     "output_type": "stream",
     "text": [
      "--weights=lc0_windows\\models\\maia-1900.pb.gz\n",
      "--weights=lc0_windows\\models\\maia-1700.pb.gz\n"
     ]
    },
    {
     "name": "stderr",
     "output_type": "stream",
     "text": [
      "<UciProtocol (pid=22076)>: stderr >> Loading weights file from: lc0_windows\\models\\maia-1700.pb.gz\n",
      "<UciProtocol (pid=22076)>: stderr >> Creating backend [cuda-auto]...\n",
      "<UciProtocol (pid=22076)>: stderr >> Switching to [cuda-fp16]...\n",
      "<UciProtocol (pid=22076)>: stderr >> CUDA Runtime version: 11.1.0\n",
      "<UciProtocol (pid=22076)>: stderr >> Latest version of CUDA supported by the driver: 12.6.0\n",
      "<UciProtocol (pid=22076)>: stderr >> GPU: NVIDIA GeForce RTX 3070\n",
      "<UciProtocol (pid=22076)>: stderr >> GPU memory: 7.99951 Gb\n",
      "<UciProtocol (pid=22076)>: stderr >> GPU clock frequency: 1815 MHz\n",
      "<UciProtocol (pid=22076)>: stderr >> GPU compute capability: 8.6\n",
      "<UciProtocol (pid=22076)>: stderr >> L2 cache capacity: 4194304\n",
      "<UciProtocol (pid=7252)>: stderr >>        _\n",
      "<UciProtocol (pid=7252)>: stderr >> |   _ | |\n",
      "<UciProtocol (pid=7252)>: stderr >> |_ |_ |_| v0.31.1 built Aug 11 2024\n",
      "<UciProtocol (pid=7252)>: stderr >> Found configuration file: c:\\pc_coding\\Finding-Elo\\maia.chess\\lc0_windows/lc0.config\n",
      "<UciProtocol (pid=23704)>: stderr >>        _\n",
      "<UciProtocol (pid=23704)>: stderr >> |   _ | |\n",
      "<UciProtocol (pid=23704)>: stderr >> |_ |_ |_| v0.31.1 built Aug 11 2024\n",
      "<UciProtocol (pid=23704)>: stderr >> Found configuration file: c:\\pc_coding\\Finding-Elo\\maia.chess\\lc0_windows/lc0.config\n"
     ]
    },
    {
     "name": "stdout",
     "output_type": "stream",
     "text": [
      "--weights=lc0_windows\\models\\maia-1700.pb.gz\n",
      "--weights=lc0_windows\\models\\maia-1900.pb.gz\n"
     ]
    },
    {
     "name": "stderr",
     "output_type": "stream",
     "text": [
      "<UciProtocol (pid=17788)>: stderr >>        _\n",
      "<UciProtocol (pid=17788)>: stderr >> |   _ | |\n",
      "<UciProtocol (pid=17788)>: stderr >> |_ |_ |_| v0.31.1 built Aug 11 2024\n",
      "<UciProtocol (pid=17788)>: stderr >> Found configuration file: c:\\pc_coding\\Finding-Elo\\maia.chess\\lc0_windows/lc0.config\n",
      "<UciProtocol (pid=3180)>: stderr >>        _\n",
      "<UciProtocol (pid=3180)>: stderr >> |   _ | |\n",
      "<UciProtocol (pid=3180)>: stderr >> |_ |_ |_| v0.31.1 built Aug 11 2024\n",
      "<UciProtocol (pid=3180)>: stderr >> Found configuration file: c:\\pc_coding\\Finding-Elo\\maia.chess\\lc0_windows/lc0.config\n",
      "<UciProtocol (pid=17788)>: stderr >> Loading weights file from: lc0_windows\\models\\maia-1900.pb.gz\n",
      "<UciProtocol (pid=17788)>: stderr >> Creating backend [cuda-auto]...\n",
      "<UciProtocol (pid=17788)>: stderr >> Switching to [cuda-fp16]...\n",
      "<UciProtocol (pid=17788)>: stderr >> CUDA Runtime version: 11.1.0\n",
      "<UciProtocol (pid=17788)>: stderr >> Latest version of CUDA supported by the driver: 12.6.0\n",
      "<UciProtocol (pid=17788)>: stderr >> GPU: NVIDIA GeForce RTX 3070\n",
      "<UciProtocol (pid=17788)>: stderr >> GPU memory: 7.99951 Gb\n",
      "<UciProtocol (pid=17788)>: stderr >> GPU clock frequency: 1815 MHz\n",
      "<UciProtocol (pid=17788)>: stderr >> GPU compute capability: 8.6\n",
      "<UciProtocol (pid=17788)>: stderr >> L2 cache capacity: 4194304\n"
     ]
    },
    {
     "name": "stdout",
     "output_type": "stream",
     "text": [
      "--weights=lc0_windows\\models\\maia-1900.pb.gz\n",
      "--weights=lc0_windows\\models\\maia-1700.pb.gz\n"
     ]
    },
    {
     "name": "stderr",
     "output_type": "stream",
     "text": [
      "<UciProtocol (pid=3180)>: stderr >> Loading weights file from: lc0_windows\\models\\maia-1700.pb.gz\n",
      "<UciProtocol (pid=3180)>: stderr >> Creating backend [cuda-auto]...\n",
      "<UciProtocol (pid=3180)>: stderr >> Switching to [cuda-fp16]...\n",
      "<UciProtocol (pid=3180)>: stderr >> CUDA Runtime version: 11.1.0\n",
      "<UciProtocol (pid=3180)>: stderr >> Latest version of CUDA supported by the driver: 12.6.0\n",
      "<UciProtocol (pid=3180)>: stderr >> GPU: NVIDIA GeForce RTX 3070\n",
      "<UciProtocol (pid=3180)>: stderr >> GPU memory: 7.99951 Gb\n",
      "<UciProtocol (pid=3180)>: stderr >> GPU clock frequency: 1815 MHz\n",
      "<UciProtocol (pid=3180)>: stderr >> GPU compute capability: 8.6\n",
      "<UciProtocol (pid=3180)>: stderr >> L2 cache capacity: 4194304\n",
      "<UciProtocol (pid=23224)>: stderr >>        _\n",
      "<UciProtocol (pid=23224)>: stderr >> |   _ | |\n",
      "<UciProtocol (pid=23224)>: stderr >> |_ |_ |_| v0.31.1 built Aug 11 2024\n",
      "<UciProtocol (pid=23224)>: stderr >> Found configuration file: c:\\pc_coding\\Finding-Elo\\maia.chess\\lc0_windows/lc0.config\n",
      "<UciProtocol (pid=16576)>: stderr >>        _\n",
      "<UciProtocol (pid=16576)>: stderr >> |   _ | |\n",
      "<UciProtocol (pid=16576)>: stderr >> |_ |_ |_| v0.31.1 built Aug 11 2024\n",
      "<UciProtocol (pid=16576)>: stderr >> Found configuration file: c:\\pc_coding\\Finding-Elo\\maia.chess\\lc0_windows/lc0.config\n",
      "<UciProtocol (pid=23224)>: stderr >> Loading weights file from: lc0_windows\\models\\maia-1600.pb.gz\n",
      "<UciProtocol (pid=23224)>: stderr >> Creating backend [cuda-auto]...\n",
      "<UciProtocol (pid=23224)>: stderr >> Switching to [cuda-fp16]...\n",
      "<UciProtocol (pid=23224)>: stderr >> CUDA Runtime version: 11.1.0\n",
      "<UciProtocol (pid=23224)>: stderr >> Latest version of CUDA supported by the driver: 12.6.0\n",
      "<UciProtocol (pid=23224)>: stderr >> GPU: NVIDIA GeForce RTX 3070\n",
      "<UciProtocol (pid=23224)>: stderr >> GPU memory: 7.99951 Gb\n",
      "<UciProtocol (pid=23224)>: stderr >> GPU clock frequency: 1815 MHz\n",
      "<UciProtocol (pid=23224)>: stderr >> GPU compute capability: 8.6\n",
      "<UciProtocol (pid=23224)>: stderr >> L2 cache capacity: 4194304\n"
     ]
    },
    {
     "name": "stdout",
     "output_type": "stream",
     "text": [
      "--weights=lc0_windows\\models\\maia-1600.pb.gz\n",
      "--weights=lc0_windows\\models\\maia-1900.pb.gz\n"
     ]
    },
    {
     "name": "stderr",
     "output_type": "stream",
     "text": [
      "<UciProtocol (pid=16576)>: stderr >> Loading weights file from: lc0_windows\\models\\maia-1900.pb.gz\n",
      "<UciProtocol (pid=16576)>: stderr >> Creating backend [cuda-auto]...\n",
      "<UciProtocol (pid=16576)>: stderr >> Switching to [cuda-fp16]...\n",
      "<UciProtocol (pid=16576)>: stderr >> CUDA Runtime version: 11.1.0\n",
      "<UciProtocol (pid=16576)>: stderr >> Latest version of CUDA supported by the driver: 12.6.0\n",
      "<UciProtocol (pid=16576)>: stderr >> GPU: NVIDIA GeForce RTX 3070\n",
      "<UciProtocol (pid=16576)>: stderr >> GPU memory: 7.99951 Gb\n",
      "<UciProtocol (pid=16576)>: stderr >> GPU clock frequency: 1815 MHz\n",
      "<UciProtocol (pid=16576)>: stderr >> GPU compute capability: 8.6\n",
      "<UciProtocol (pid=16576)>: stderr >> L2 cache capacity: 4194304\n",
      "<UciProtocol (pid=25416)>: stderr >>        _\n",
      "<UciProtocol (pid=25416)>: stderr >> |   _ | |\n",
      "<UciProtocol (pid=25416)>: stderr >> |_ |_ |_| v0.31.1 built Aug 11 2024\n",
      "<UciProtocol (pid=25416)>: stderr >> Found configuration file: c:\\pc_coding\\Finding-Elo\\maia.chess\\lc0_windows/lc0.config\n",
      "<UciProtocol (pid=12788)>: stderr >>        _\n",
      "<UciProtocol (pid=12788)>: stderr >> |   _ | |\n",
      "<UciProtocol (pid=12788)>: stderr >> |_ |_ |_| v0.31.1 built Aug 11 2024\n",
      "<UciProtocol (pid=12788)>: stderr >> Found configuration file: c:\\pc_coding\\Finding-Elo\\maia.chess\\lc0_windows/lc0.config\n",
      "<UciProtocol (pid=25416)>: stderr >> Loading weights file from: lc0_windows\\models\\maia-1900.pb.gz\n",
      "<UciProtocol (pid=25416)>: stderr >> Creating backend [cuda-auto]...\n",
      "<UciProtocol (pid=25416)>: stderr >> Switching to [cuda-fp16]...\n",
      "<UciProtocol (pid=25416)>: stderr >> CUDA Runtime version: 11.1.0\n",
      "<UciProtocol (pid=25416)>: stderr >> Latest version of CUDA supported by the driver: 12.6.0\n",
      "<UciProtocol (pid=25416)>: stderr >> GPU: NVIDIA GeForce RTX 3070\n",
      "<UciProtocol (pid=25416)>: stderr >> GPU memory: 7.99951 Gb\n",
      "<UciProtocol (pid=25416)>: stderr >> GPU clock frequency: 1815 MHz\n",
      "<UciProtocol (pid=25416)>: stderr >> GPU compute capability: 8.6\n",
      "<UciProtocol (pid=25416)>: stderr >> L2 cache capacity: 4194304\n"
     ]
    },
    {
     "name": "stdout",
     "output_type": "stream",
     "text": [
      "--weights=lc0_windows\\models\\maia-1900.pb.gz\n",
      "--weights=lc0_windows\\models\\maia-1600.pb.gz\n"
     ]
    },
    {
     "name": "stderr",
     "output_type": "stream",
     "text": [
      "<UciProtocol (pid=12788)>: stderr >> Loading weights file from: lc0_windows\\models\\maia-1600.pb.gz\n",
      "<UciProtocol (pid=12788)>: stderr >> Creating backend [cuda-auto]...\n",
      "<UciProtocol (pid=12788)>: stderr >> Switching to [cuda-fp16]...\n",
      "<UciProtocol (pid=12788)>: stderr >> CUDA Runtime version: 11.1.0\n",
      "<UciProtocol (pid=12788)>: stderr >> Latest version of CUDA supported by the driver: 12.6.0\n",
      "<UciProtocol (pid=12788)>: stderr >> GPU: NVIDIA GeForce RTX 3070\n",
      "<UciProtocol (pid=12788)>: stderr >> GPU memory: 7.99951 Gb\n",
      "<UciProtocol (pid=12788)>: stderr >> GPU clock frequency: 1815 MHz\n",
      "<UciProtocol (pid=12788)>: stderr >> GPU compute capability: 8.6\n",
      "<UciProtocol (pid=12788)>: stderr >> L2 cache capacity: 4194304\n",
      "<UciProtocol (pid=7712)>: stderr >>        _\n",
      "<UciProtocol (pid=7712)>: stderr >> |   _ | |\n",
      "<UciProtocol (pid=7712)>: stderr >> |_ |_ |_| v0.31.1 built Aug 11 2024\n",
      "<UciProtocol (pid=7712)>: stderr >> Found configuration file: c:\\pc_coding\\Finding-Elo\\maia.chess\\lc0_windows/lc0.config\n",
      "<UciProtocol (pid=26560)>: stderr >>        _\n",
      "<UciProtocol (pid=26560)>: stderr >> |   _ | |\n",
      "<UciProtocol (pid=26560)>: stderr >> |_ |_ |_| v0.31.1 built Aug 11 2024\n",
      "<UciProtocol (pid=26560)>: stderr >> Found configuration file: c:\\pc_coding\\Finding-Elo\\maia.chess\\lc0_windows/lc0.config\n"
     ]
    },
    {
     "name": "stdout",
     "output_type": "stream",
     "text": [
      "--weights=lc0_windows\\models\\maia-1500.pb.gz\n",
      "--weights=lc0_windows\\models\\maia-1900.pb.gz\n"
     ]
    },
    {
     "name": "stderr",
     "output_type": "stream",
     "text": [
      "<UciProtocol (pid=4700)>: stderr >>        _\n",
      "<UciProtocol (pid=4700)>: stderr >> |   _ | |\n",
      "<UciProtocol (pid=4700)>: stderr >> |_ |_ |_| v0.31.1 built Aug 11 2024\n",
      "<UciProtocol (pid=4700)>: stderr >> Found configuration file: c:\\pc_coding\\Finding-Elo\\maia.chess\\lc0_windows/lc0.config\n",
      "<UciProtocol (pid=17684)>: stderr >>        _\n",
      "<UciProtocol (pid=17684)>: stderr >> |   _ | |\n",
      "<UciProtocol (pid=17684)>: stderr >> |_ |_ |_| v0.31.1 built Aug 11 2024\n",
      "<UciProtocol (pid=17684)>: stderr >> Found configuration file: c:\\pc_coding\\Finding-Elo\\maia.chess\\lc0_windows/lc0.config\n"
     ]
    },
    {
     "name": "stdout",
     "output_type": "stream",
     "text": [
      "--weights=lc0_windows\\models\\maia-1900.pb.gz\n",
      "--weights=lc0_windows\\models\\maia-1500.pb.gz\n"
     ]
    },
    {
     "name": "stderr",
     "output_type": "stream",
     "text": [
      "<UciProtocol (pid=8868)>: stderr >>        _\n",
      "<UciProtocol (pid=8868)>: stderr >> |   _ | |\n",
      "<UciProtocol (pid=8868)>: stderr >> |_ |_ |_| v0.31.1 built Aug 11 2024\n",
      "<UciProtocol (pid=8868)>: stderr >> Found configuration file: c:\\pc_coding\\Finding-Elo\\maia.chess\\lc0_windows/lc0.config\n"
     ]
    },
    {
     "name": "stdout",
     "output_type": "stream",
     "text": [
      "--weights=lc0_windows\\models\\maia-1900.pb.gz\n"
     ]
    },
    {
     "name": "stderr",
     "output_type": "stream",
     "text": [
      "<UciProtocol (pid=26444)>: stderr >>        _\n",
      "<UciProtocol (pid=26444)>: stderr >> |   _ | |\n",
      "<UciProtocol (pid=26444)>: stderr >> |_ |_ |_| v0.31.1 built Aug 11 2024\n",
      "<UciProtocol (pid=26444)>: stderr >> Found configuration file: c:\\pc_coding\\Finding-Elo\\maia.chess\\lc0_windows/lc0.config\n",
      "<UciProtocol (pid=13104)>: stderr >>        _\n",
      "<UciProtocol (pid=13104)>: stderr >> |   _ | |\n",
      "<UciProtocol (pid=13104)>: stderr >> |_ |_ |_| v0.31.1 built Aug 11 2024\n",
      "<UciProtocol (pid=13104)>: stderr >> Found configuration file: c:\\pc_coding\\Finding-Elo\\maia.chess\\lc0_windows/lc0.config\n"
     ]
    },
    {
     "name": "stdout",
     "output_type": "stream",
     "text": [
      "--weights=lc0_windows\\models\\maia-1900.pb.gz\n",
      "--weights=lc0_windows\\models\\maia-1900.pb.gz\n"
     ]
    },
    {
     "name": "stderr",
     "output_type": "stream",
     "text": [
      "<UciProtocol (pid=10068)>: stderr >>        _\n",
      "<UciProtocol (pid=10068)>: stderr >> |   _ | |\n",
      "<UciProtocol (pid=10068)>: stderr >> |_ |_ |_| v0.31.1 built Aug 11 2024\n",
      "<UciProtocol (pid=10068)>: stderr >> Found configuration file: c:\\pc_coding\\Finding-Elo\\maia.chess\\lc0_windows/lc0.config\n",
      "<UciProtocol (pid=10392)>: stderr >>        _\n",
      "<UciProtocol (pid=10392)>: stderr >> |   _ | |\n",
      "<UciProtocol (pid=10392)>: stderr >> |_ |_ |_| v0.31.1 built Aug 11 2024\n",
      "<UciProtocol (pid=10392)>: stderr >> Found configuration file: c:\\pc_coding\\Finding-Elo\\maia.chess\\lc0_windows/lc0.config\n"
     ]
    },
    {
     "name": "stdout",
     "output_type": "stream",
     "text": [
      "--weights=lc0_windows\\models\\maia-1900.pb.gz\n",
      "--weights=lc0_windows\\models\\maia-1900.pb.gz\n"
     ]
    },
    {
     "name": "stderr",
     "output_type": "stream",
     "text": [
      "<UciProtocol (pid=4976)>: stderr >>        _\n",
      "<UciProtocol (pid=4976)>: stderr >> |   _ | |\n",
      "<UciProtocol (pid=4976)>: stderr >> |_ |_ |_| v0.31.1 built Aug 11 2024\n",
      "<UciProtocol (pid=4976)>: stderr >> Found configuration file: c:\\pc_coding\\Finding-Elo\\maia.chess\\lc0_windows/lc0.config\n",
      "<UciProtocol (pid=20516)>: stderr >>        _\n",
      "<UciProtocol (pid=20516)>: stderr >> |   _ | |\n",
      "<UciProtocol (pid=20516)>: stderr >> |_ |_ |_| v0.31.1 built Aug 11 2024\n",
      "<UciProtocol (pid=20516)>: stderr >> Found configuration file: c:\\pc_coding\\Finding-Elo\\maia.chess\\lc0_windows/lc0.config\n",
      "<UciProtocol (pid=4976)>: stderr >> Loading weights file from: lc0_windows\\models\\maia-1900.pb.gz\n",
      "<UciProtocol (pid=4976)>: stderr >> Creating backend [cuda-auto]...\n",
      "<UciProtocol (pid=4976)>: stderr >> Switching to [cuda-fp16]...\n",
      "<UciProtocol (pid=4976)>: stderr >> CUDA Runtime version: 11.1.0\n",
      "<UciProtocol (pid=4976)>: stderr >> Latest version of CUDA supported by the driver: 12.6.0\n",
      "<UciProtocol (pid=4976)>: stderr >> GPU: NVIDIA GeForce RTX 3070\n",
      "<UciProtocol (pid=4976)>: stderr >> GPU memory: 7.99951 Gb\n",
      "<UciProtocol (pid=4976)>: stderr >> GPU clock frequency: 1815 MHz\n",
      "<UciProtocol (pid=4976)>: stderr >> GPU compute capability: 8.6\n",
      "<UciProtocol (pid=4976)>: stderr >> L2 cache capacity: 4194304\n"
     ]
    },
    {
     "name": "stdout",
     "output_type": "stream",
     "text": [
      "--weights=lc0_windows\\models\\maia-1900.pb.gz\n",
      "--weights=lc0_windows\\models\\maia-1900.pb.gz\n"
     ]
    },
    {
     "name": "stderr",
     "output_type": "stream",
     "text": [
      "<UciProtocol (pid=20516)>: stderr >> Loading weights file from: lc0_windows\\models\\maia-1900.pb.gz\n",
      "<UciProtocol (pid=20516)>: stderr >> Creating backend [cuda-auto]...\n",
      "<UciProtocol (pid=20516)>: stderr >> Switching to [cuda-fp16]...\n",
      "<UciProtocol (pid=20516)>: stderr >> CUDA Runtime version: 11.1.0\n",
      "<UciProtocol (pid=20516)>: stderr >> Latest version of CUDA supported by the driver: 12.6.0\n",
      "<UciProtocol (pid=20516)>: stderr >> GPU: NVIDIA GeForce RTX 3070\n",
      "<UciProtocol (pid=20516)>: stderr >> GPU memory: 7.99951 Gb\n",
      "<UciProtocol (pid=20516)>: stderr >> GPU clock frequency: 1815 MHz\n",
      "<UciProtocol (pid=20516)>: stderr >> GPU compute capability: 8.6\n",
      "<UciProtocol (pid=20516)>: stderr >> L2 cache capacity: 4194304\n",
      "<UciProtocol (pid=9044)>: stderr >>        _\n",
      "<UciProtocol (pid=9044)>: stderr >> |   _ | |\n",
      "<UciProtocol (pid=9044)>: stderr >> |_ |_ |_| v0.31.1 built Aug 11 2024\n",
      "<UciProtocol (pid=9044)>: stderr >> Found configuration file: c:\\pc_coding\\Finding-Elo\\maia.chess\\lc0_windows/lc0.config\n",
      "<UciProtocol (pid=4300)>: stderr >>        _\n",
      "<UciProtocol (pid=4300)>: stderr >> |   _ | |\n",
      "<UciProtocol (pid=4300)>: stderr >> |_ |_ |_| v0.31.1 built Aug 11 2024\n",
      "<UciProtocol (pid=4300)>: stderr >> Found configuration file: c:\\pc_coding\\Finding-Elo\\maia.chess\\lc0_windows/lc0.config\n"
     ]
    },
    {
     "name": "stdout",
     "output_type": "stream",
     "text": [
      "--weights=lc0_windows\\models\\maia-1900.pb.gz\n",
      "--weights=lc0_windows\\models\\maia-1900.pb.gz\n"
     ]
    },
    {
     "name": "stderr",
     "output_type": "stream",
     "text": [
      "<UciProtocol (pid=24532)>: stderr >>        _\n",
      "<UciProtocol (pid=24532)>: stderr >> |   _ | |\n",
      "<UciProtocol (pid=24532)>: stderr >> |_ |_ |_| v0.31.1 built Aug 11 2024\n",
      "<UciProtocol (pid=24532)>: stderr >> Found configuration file: c:\\pc_coding\\Finding-Elo\\maia.chess\\lc0_windows/lc0.config\n",
      "<UciProtocol (pid=20532)>: stderr >>        _\n",
      "<UciProtocol (pid=20532)>: stderr >> |   _ | |\n",
      "<UciProtocol (pid=20532)>: stderr >> |_ |_ |_| v0.31.1 built Aug 11 2024\n",
      "<UciProtocol (pid=20532)>: stderr >> Found configuration file: c:\\pc_coding\\Finding-Elo\\maia.chess\\lc0_windows/lc0.config\n"
     ]
    },
    {
     "name": "stdout",
     "output_type": "stream",
     "text": [
      "--weights=lc0_windows\\models\\maia-1900.pb.gz\n",
      "--weights=lc0_windows\\models\\maia-1600.pb.gz\n"
     ]
    },
    {
     "name": "stderr",
     "output_type": "stream",
     "text": [
      "<UciProtocol (pid=19696)>: stderr >>        _\n",
      "<UciProtocol (pid=19696)>: stderr >> |   _ | |\n",
      "<UciProtocol (pid=19696)>: stderr >> |_ |_ |_| v0.31.1 built Aug 11 2024\n",
      "<UciProtocol (pid=19696)>: stderr >> Found configuration file: c:\\pc_coding\\Finding-Elo\\maia.chess\\lc0_windows/lc0.config\n",
      "<UciProtocol (pid=11344)>: stderr >>        _\n",
      "<UciProtocol (pid=11344)>: stderr >> |   _ | |\n",
      "<UciProtocol (pid=11344)>: stderr >> |_ |_ |_| v0.31.1 built Aug 11 2024\n",
      "<UciProtocol (pid=11344)>: stderr >> Found configuration file: c:\\pc_coding\\Finding-Elo\\maia.chess\\lc0_windows/lc0.config\n",
      "<UciProtocol (pid=19696)>: stderr >> Loading weights file from: lc0_windows\\models\\maia-1900.pb.gz\n",
      "<UciProtocol (pid=19696)>: stderr >> Creating backend [cuda-auto]...\n",
      "<UciProtocol (pid=19696)>: stderr >> Switching to [cuda-fp16]...\n",
      "<UciProtocol (pid=19696)>: stderr >> CUDA Runtime version: 11.1.0\n",
      "<UciProtocol (pid=19696)>: stderr >> Latest version of CUDA supported by the driver: 12.6.0\n",
      "<UciProtocol (pid=19696)>: stderr >> GPU: NVIDIA GeForce RTX 3070\n",
      "<UciProtocol (pid=19696)>: stderr >> GPU memory: 7.99951 Gb\n",
      "<UciProtocol (pid=19696)>: stderr >> GPU clock frequency: 1815 MHz\n",
      "<UciProtocol (pid=19696)>: stderr >> GPU compute capability: 8.6\n",
      "<UciProtocol (pid=19696)>: stderr >> L2 cache capacity: 4194304\n"
     ]
    },
    {
     "name": "stdout",
     "output_type": "stream",
     "text": [
      "--weights=lc0_windows\\models\\maia-1900.pb.gz\n",
      "--weights=lc0_windows\\models\\maia-1900.pb.gz\n"
     ]
    },
    {
     "name": "stderr",
     "output_type": "stream",
     "text": [
      "<UciProtocol (pid=11344)>: stderr >> Loading weights file from: lc0_windows\\models\\maia-1900.pb.gz\n",
      "<UciProtocol (pid=11344)>: stderr >> Creating backend [cuda-auto]...\n",
      "<UciProtocol (pid=11344)>: stderr >> Switching to [cuda-fp16]...\n",
      "<UciProtocol (pid=11344)>: stderr >> CUDA Runtime version: 11.1.0\n",
      "<UciProtocol (pid=11344)>: stderr >> Latest version of CUDA supported by the driver: 12.6.0\n",
      "<UciProtocol (pid=11344)>: stderr >> GPU: NVIDIA GeForce RTX 3070\n",
      "<UciProtocol (pid=11344)>: stderr >> GPU memory: 7.99951 Gb\n",
      "<UciProtocol (pid=11344)>: stderr >> GPU clock frequency: 1815 MHz\n",
      "<UciProtocol (pid=11344)>: stderr >> GPU compute capability: 8.6\n",
      "<UciProtocol (pid=11344)>: stderr >> L2 cache capacity: 4194304\n",
      "<UciProtocol (pid=4336)>: stderr >>        _\n",
      "<UciProtocol (pid=4336)>: stderr >> |   _ | |\n",
      "<UciProtocol (pid=4336)>: stderr >> |_ |_ |_| v0.31.1 built Aug 11 2024\n",
      "<UciProtocol (pid=4336)>: stderr >> Found configuration file: c:\\pc_coding\\Finding-Elo\\maia.chess\\lc0_windows/lc0.config\n",
      "<UciProtocol (pid=6224)>: stderr >>        _\n",
      "<UciProtocol (pid=6224)>: stderr >> |   _ | |\n",
      "<UciProtocol (pid=6224)>: stderr >> |_ |_ |_| v0.31.1 built Aug 11 2024\n",
      "<UciProtocol (pid=6224)>: stderr >> Found configuration file: c:\\pc_coding\\Finding-Elo\\maia.chess\\lc0_windows/lc0.config\n",
      "<UciProtocol (pid=4336)>: stderr >> Loading weights file from: lc0_windows\\models\\maia-1900.pb.gz\n",
      "<UciProtocol (pid=4336)>: stderr >> Creating backend [cuda-auto]...\n",
      "<UciProtocol (pid=4336)>: stderr >> Switching to [cuda-fp16]...\n",
      "<UciProtocol (pid=4336)>: stderr >> CUDA Runtime version: 11.1.0\n",
      "<UciProtocol (pid=4336)>: stderr >> Latest version of CUDA supported by the driver: 12.6.0\n",
      "<UciProtocol (pid=4336)>: stderr >> GPU: NVIDIA GeForce RTX 3070\n",
      "<UciProtocol (pid=4336)>: stderr >> GPU memory: 7.99951 Gb\n",
      "<UciProtocol (pid=4336)>: stderr >> GPU clock frequency: 1815 MHz\n",
      "<UciProtocol (pid=4336)>: stderr >> GPU compute capability: 8.6\n",
      "<UciProtocol (pid=4336)>: stderr >> L2 cache capacity: 4194304\n"
     ]
    },
    {
     "name": "stdout",
     "output_type": "stream",
     "text": [
      "--weights=lc0_windows\\models\\maia-1900.pb.gz\n",
      "--weights=lc0_windows\\models\\maia-1500.pb.gz\n"
     ]
    },
    {
     "name": "stderr",
     "output_type": "stream",
     "text": [
      "<UciProtocol (pid=6224)>: stderr >> Loading weights file from: lc0_windows\\models\\maia-1500.pb.gz\n",
      "<UciProtocol (pid=6224)>: stderr >> Creating backend [cuda-auto]...\n",
      "<UciProtocol (pid=6224)>: stderr >> Switching to [cuda-fp16]...\n",
      "<UciProtocol (pid=6224)>: stderr >> CUDA Runtime version: 11.1.0\n",
      "<UciProtocol (pid=6224)>: stderr >> Latest version of CUDA supported by the driver: 12.6.0\n",
      "<UciProtocol (pid=6224)>: stderr >> GPU: NVIDIA GeForce RTX 3070\n",
      "<UciProtocol (pid=6224)>: stderr >> GPU memory: 7.99951 Gb\n",
      "<UciProtocol (pid=6224)>: stderr >> GPU clock frequency: 1815 MHz\n",
      "<UciProtocol (pid=6224)>: stderr >> GPU compute capability: 8.6\n",
      "<UciProtocol (pid=6224)>: stderr >> L2 cache capacity: 4194304\n",
      "<UciProtocol (pid=15572)>: stderr >>        _\n",
      "<UciProtocol (pid=15572)>: stderr >> |   _ | |\n",
      "<UciProtocol (pid=15572)>: stderr >> |_ |_ |_| v0.31.1 built Aug 11 2024\n",
      "<UciProtocol (pid=15572)>: stderr >> Found configuration file: c:\\pc_coding\\Finding-Elo\\maia.chess\\lc0_windows/lc0.config\n",
      "<UciProtocol (pid=23984)>: stderr >>        _\n",
      "<UciProtocol (pid=23984)>: stderr >> |   _ | |\n",
      "<UciProtocol (pid=23984)>: stderr >> |_ |_ |_| v0.31.1 built Aug 11 2024\n",
      "<UciProtocol (pid=23984)>: stderr >> Found configuration file: c:\\pc_coding\\Finding-Elo\\maia.chess\\lc0_windows/lc0.config\n",
      "<UciProtocol (pid=15572)>: stderr >> Loading weights file from: lc0_windows\\models\\maia-1700.pb.gz\n",
      "<UciProtocol (pid=15572)>: stderr >> Creating backend [cuda-auto]...\n",
      "<UciProtocol (pid=15572)>: stderr >> Switching to [cuda-fp16]...\n",
      "<UciProtocol (pid=15572)>: stderr >> CUDA Runtime version: 11.1.0\n",
      "<UciProtocol (pid=15572)>: stderr >> Latest version of CUDA supported by the driver: 12.6.0\n",
      "<UciProtocol (pid=15572)>: stderr >> GPU: NVIDIA GeForce RTX 3070\n",
      "<UciProtocol (pid=15572)>: stderr >> GPU memory: 7.99951 Gb\n",
      "<UciProtocol (pid=15572)>: stderr >> GPU clock frequency: 1815 MHz\n",
      "<UciProtocol (pid=15572)>: stderr >> GPU compute capability: 8.6\n",
      "<UciProtocol (pid=15572)>: stderr >> L2 cache capacity: 4194304\n"
     ]
    },
    {
     "name": "stdout",
     "output_type": "stream",
     "text": [
      "--weights=lc0_windows\\models\\maia-1700.pb.gz\n",
      "--weights=lc0_windows\\models\\maia-1800.pb.gz\n"
     ]
    },
    {
     "name": "stderr",
     "output_type": "stream",
     "text": [
      "<UciProtocol (pid=23984)>: stderr >> Loading weights file from: lc0_windows\\models\\maia-1800.pb.gz\n",
      "<UciProtocol (pid=23984)>: stderr >> Creating backend [cuda-auto]...\n",
      "<UciProtocol (pid=23984)>: stderr >> Switching to [cuda-fp16]...\n",
      "<UciProtocol (pid=23984)>: stderr >> CUDA Runtime version: 11.1.0\n",
      "<UciProtocol (pid=23984)>: stderr >> Latest version of CUDA supported by the driver: 12.6.0\n",
      "<UciProtocol (pid=23984)>: stderr >> GPU: NVIDIA GeForce RTX 3070\n",
      "<UciProtocol (pid=23984)>: stderr >> GPU memory: 7.99951 Gb\n",
      "<UciProtocol (pid=23984)>: stderr >> GPU clock frequency: 1815 MHz\n",
      "<UciProtocol (pid=23984)>: stderr >> GPU compute capability: 8.6\n",
      "<UciProtocol (pid=23984)>: stderr >> L2 cache capacity: 4194304\n",
      "<UciProtocol (pid=24148)>: stderr >>        _\n",
      "<UciProtocol (pid=24148)>: stderr >> |   _ | |\n",
      "<UciProtocol (pid=24148)>: stderr >> |_ |_ |_| v0.31.1 built Aug 11 2024\n",
      "<UciProtocol (pid=24148)>: stderr >> Found configuration file: c:\\pc_coding\\Finding-Elo\\maia.chess\\lc0_windows/lc0.config\n",
      "<UciProtocol (pid=6876)>: stderr >>        _\n"
     ]
    },
    {
     "name": "stdout",
     "output_type": "stream",
     "text": [
      "--weights=lc0_windows\\models\\maia-1800.pb.gz\n",
      "--weights=lc0_windows\\models\\maia-1600.pb.gz\n"
     ]
    },
    {
     "name": "stderr",
     "output_type": "stream",
     "text": [
      "<UciProtocol (pid=6876)>: stderr >> |   _ | |\n",
      "<UciProtocol (pid=6876)>: stderr >> |_ |_ |_| v0.31.1 built Aug 11 2024\n",
      "<UciProtocol (pid=6876)>: stderr >> Found configuration file: c:\\pc_coding\\Finding-Elo\\maia.chess\\lc0_windows/lc0.config\n",
      "<UciProtocol (pid=5076)>: stderr >>        _\n",
      "<UciProtocol (pid=5076)>: stderr >> |   _ | |\n",
      "<UciProtocol (pid=5076)>: stderr >> |_ |_ |_| v0.31.1 built Aug 11 2024\n",
      "<UciProtocol (pid=5076)>: stderr >> Found configuration file: c:\\pc_coding\\Finding-Elo\\maia.chess\\lc0_windows/lc0.config\n"
     ]
    },
    {
     "name": "stdout",
     "output_type": "stream",
     "text": [
      "--weights=lc0_windows\\models\\maia-1700.pb.gz\n"
     ]
    },
    {
     "name": "stderr",
     "output_type": "stream",
     "text": [
      "<UciProtocol (pid=13704)>: stderr >>        _\n",
      "<UciProtocol (pid=13704)>: stderr >> |   _ | |\n",
      "<UciProtocol (pid=13704)>: stderr >> |_ |_ |_| v0.31.1 built Aug 11 2024\n",
      "<UciProtocol (pid=13704)>: stderr >> Found configuration file: c:\\pc_coding\\Finding-Elo\\maia.chess\\lc0_windows/lc0.config\n",
      "<UciProtocol (pid=6008)>: stderr >>        _\n",
      "<UciProtocol (pid=6008)>: stderr >> |   _ | |\n",
      "<UciProtocol (pid=6008)>: stderr >> |_ |_ |_| v0.31.1 built Aug 11 2024\n",
      "<UciProtocol (pid=6008)>: stderr >> Found configuration file: c:\\pc_coding\\Finding-Elo\\maia.chess\\lc0_windows/lc0.config\n"
     ]
    },
    {
     "name": "stdout",
     "output_type": "stream",
     "text": [
      "--weights=lc0_windows\\models\\maia-1700.pb.gz\n",
      "--weights=lc0_windows\\models\\maia-1500.pb.gz\n"
     ]
    },
    {
     "name": "stderr",
     "output_type": "stream",
     "text": [
      "<UciProtocol (pid=844)>: stderr >>        _\n",
      "<UciProtocol (pid=844)>: stderr >> |   _ | |\n",
      "<UciProtocol (pid=844)>: stderr >> |_ |_ |_| v0.31.1 built Aug 11 2024\n",
      "<UciProtocol (pid=844)>: stderr >> Found configuration file: c:\\pc_coding\\Finding-Elo\\maia.chess\\lc0_windows/lc0.config\n"
     ]
    },
    {
     "name": "stdout",
     "output_type": "stream",
     "text": [
      "--weights=lc0_windows\\models\\maia-1700.pb.gz\n"
     ]
    },
    {
     "name": "stderr",
     "output_type": "stream",
     "text": [
      "<UciProtocol (pid=21696)>: stderr >>        _\n",
      "<UciProtocol (pid=21696)>: stderr >> |   _ | |\n",
      "<UciProtocol (pid=21696)>: stderr >> |_ |_ |_| v0.31.1 built Aug 11 2024\n",
      "<UciProtocol (pid=21696)>: stderr >> Found configuration file: c:\\pc_coding\\Finding-Elo\\maia.chess\\lc0_windows/lc0.config\n",
      "<UciProtocol (pid=9504)>: stderr >>        _\n",
      "<UciProtocol (pid=9504)>: stderr >> |   _ | |\n",
      "<UciProtocol (pid=9504)>: stderr >> |_ |_ |_| v0.31.1 built Aug 11 2024\n",
      "<UciProtocol (pid=9504)>: stderr >> Found configuration file: c:\\pc_coding\\Finding-Elo\\maia.chess\\lc0_windows/lc0.config\n",
      "<UciProtocol (pid=21696)>: stderr >> Loading weights file from: lc0_windows\\models\\maia-1900.pb.gz\n",
      "<UciProtocol (pid=21696)>: stderr >> Creating backend [cuda-auto]...\n",
      "<UciProtocol (pid=21696)>: stderr >> Switching to [cuda-fp16]...\n",
      "<UciProtocol (pid=21696)>: stderr >> CUDA Runtime version: 11.1.0\n",
      "<UciProtocol (pid=21696)>: stderr >> Latest version of CUDA supported by the driver: 12.6.0\n",
      "<UciProtocol (pid=21696)>: stderr >> GPU: NVIDIA GeForce RTX 3070\n",
      "<UciProtocol (pid=21696)>: stderr >> GPU memory: 7.99951 Gb\n",
      "<UciProtocol (pid=21696)>: stderr >> GPU clock frequency: 1815 MHz\n",
      "<UciProtocol (pid=21696)>: stderr >> GPU compute capability: 8.6\n",
      "<UciProtocol (pid=21696)>: stderr >> L2 cache capacity: 4194304\n"
     ]
    },
    {
     "name": "stdout",
     "output_type": "stream",
     "text": [
      "--weights=lc0_windows\\models\\maia-1900.pb.gz\n",
      "--weights=lc0_windows\\models\\maia-1900.pb.gz\n"
     ]
    },
    {
     "name": "stderr",
     "output_type": "stream",
     "text": [
      "<UciProtocol (pid=9504)>: stderr >> Loading weights file from: lc0_windows\\models\\maia-1900.pb.gz\n",
      "<UciProtocol (pid=9504)>: stderr >> Creating backend [cuda-auto]...\n",
      "<UciProtocol (pid=9504)>: stderr >> Switching to [cuda-fp16]...\n",
      "<UciProtocol (pid=9504)>: stderr >> CUDA Runtime version: 11.1.0\n",
      "<UciProtocol (pid=9504)>: stderr >> Latest version of CUDA supported by the driver: 12.6.0\n",
      "<UciProtocol (pid=9504)>: stderr >> GPU: NVIDIA GeForce RTX 3070\n",
      "<UciProtocol (pid=9504)>: stderr >> GPU memory: 7.99951 Gb\n",
      "<UciProtocol (pid=9504)>: stderr >> GPU clock frequency: 1815 MHz\n",
      "<UciProtocol (pid=9504)>: stderr >> GPU compute capability: 8.6\n",
      "<UciProtocol (pid=9504)>: stderr >> L2 cache capacity: 4194304\n",
      "<UciProtocol (pid=9504)>: Unexpected engine output: 'error CUBLAS error: CUBLAS_STATUS_NOT_INITIALIZED (c:\\\\projects\\\\lc0\\\\src\\\\neural\\\\cuda\\\\network_cuda.cc:259) '\n",
      "<UciProtocol (pid=9504)>: stderr >> Loading weights file from: lc0_windows\\models\\maia-1900.pb.gz\n",
      "<UciProtocol (pid=9504)>: stderr >> Creating backend [cuda-auto]...\n",
      "<UciProtocol (pid=9504)>: stderr >> Switching to [cuda-fp16]...\n",
      "<UciProtocol (pid=9504)>: stderr >> CUDA Runtime version: 11.1.0\n",
      "<UciProtocol (pid=9504)>: stderr >> Latest version of CUDA supported by the driver: 12.6.0\n",
      "<UciProtocol (pid=9504)>: stderr >> GPU: NVIDIA GeForce RTX 3070\n",
      "<UciProtocol (pid=9504)>: stderr >> GPU memory: 7.99951 Gb\n",
      "<UciProtocol (pid=9504)>: stderr >> GPU clock frequency: 1815 MHz\n",
      "<UciProtocol (pid=9504)>: stderr >> GPU compute capability: 8.6\n",
      "<UciProtocol (pid=9504)>: stderr >> L2 cache capacity: 4194304\n",
      "<UciProtocol (pid=9504)>: stderr >> fatal   : Memory allocation failure\n",
      "<UciProtocol (pid=9504)>: Unexpected engine output: 'error CUBLAS error: CUBLAS_STATUS_NOT_INITIALIZED (c:\\\\projects\\\\lc0\\\\src\\\\neural\\\\cuda\\\\network_cuda.cc:259) '\n"
     ]
    }
   ],
   "source": [
    "chunk_size = 1000  # Process 1000 games at a time\n",
    "num_chunks = len(games) // chunk_size + (1 if len(games) % chunk_size > 0 else 0)\n",
    "for i in range(5, num_chunks):\n",
    "    result = []\n",
    "\n",
    "    start_index = i * chunk_size\n",
    "    end_index = min(start_index + chunk_size, len(games))\n",
    "    games_chunk = games[start_index:end_index]\n",
    "\n",
    "    for game in games_chunk:\n",
    "        features = extract_features(game)\n",
    "        result.append(features)\n",
    "\n",
    "    ndjson_file_path = f'../data/raw/fide_maia/fide_{start_index}.ndjson'\n",
    "    print(f\"saved to {ndjson_file_path}\")\n",
    "    print(\"--------------------------------------------------------\")\n",
    "    with open(ndjson_file_path, 'w') as f:\n",
    "        for item in result:\n",
    "            json.dump(item, f)\n",
    "            f.write('\\n') \n",
    "      "
   ]
  },
  {
   "cell_type": "code",
   "execution_count": null,
   "metadata": {},
   "outputs": [],
   "source": []
  }
 ],
 "metadata": {
  "kernelspec": {
   "display_name": "py310",
   "language": "python",
   "name": "python3"
  },
  "language_info": {
   "codemirror_mode": {
    "name": "ipython",
    "version": 3
   },
   "file_extension": ".py",
   "mimetype": "text/x-python",
   "name": "python",
   "nbconvert_exporter": "python",
   "pygments_lexer": "ipython3",
   "version": "3.10.11"
  }
 },
 "nbformat": 4,
 "nbformat_minor": 2
}
