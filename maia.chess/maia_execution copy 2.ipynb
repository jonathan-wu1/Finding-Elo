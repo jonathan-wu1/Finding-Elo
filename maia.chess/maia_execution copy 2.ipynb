{
 "cells": [
  {
   "cell_type": "code",
   "execution_count": 1,
   "metadata": {},
   "outputs": [],
   "source": [
    "import chess.engine\n",
    "import chess \n",
    "import matplotlib.pyplot as plt\n",
    "import matplotlib.colors as mcolors\n",
    "import chess.pgn \n",
    "from stockfish import Stockfish\n",
    "import pandas as pd\n",
    "import time\n",
    "import numpy as np\n",
    "import chess\n",
    "import chess.pgn\n",
    "import time\n",
    "import multiprocessing as mp\n",
    "import sys\n",
    "from stockfish import Stockfish\n",
    "import numpy as np\n",
    "import json"
   ]
  },
  {
   "cell_type": "code",
   "execution_count": 2,
   "metadata": {},
   "outputs": [],
   "source": [
    "from maia_functions import *"
   ]
  },
  {
   "cell_type": "code",
   "execution_count": 4,
   "metadata": {},
   "outputs": [],
   "source": [
    "def extract_features(game):\n",
    "    # Read the next game\n",
    "    features = defaultdict(int)\n",
    "    stockfish=Stockfish(\"../stockfish/stockfish-windows-x86-64-avx2.exe\")\n",
    "    stockfish.set_depth(15)#How deep the AI looks\n",
    "    features = defaultdict(int)\n",
    "    features[\"white\"] = game.headers.get('White', '')\n",
    "    features[\"black\"] = game.headers.get('Black', '')\n",
    "    features[\"moves\"] = [str(move) for move in game.mainline_moves()]\n",
    "    features[\"WhiteElo\"] = game.headers.get('WhiteElo', '')\n",
    "    features[\"BlackElo\"] = game.headers.get('BlackElo', '')\n",
    "    \n",
    "    try:\n",
    "        mm = maia_cpl(features, stockfish)\n",
    "        features[\"maia_cpl_w\"] = mm[0]\n",
    "        features[\"maia_cpl_b\"] = mm[1]\n",
    "    except Exception as e:\n",
    "        print(e)\n",
    "        return features\n",
    "    return features"
   ]
  },
  {
   "cell_type": "code",
   "execution_count": 5,
   "metadata": {},
   "outputs": [],
   "source": [
    "pgn_file_path = \"../data/landing/fics_openings.pgn\"\n",
    "\n",
    "games = []\n",
    "pgn_file = open(pgn_file_path)\n",
    "game = chess.pgn.read_game(pgn_file)\n",
    "\n",
    "start = 0\n",
    "limit =40000\n",
    "count = 0\n",
    "while game is not None:\n",
    "    #features = extract_features(game)\n",
    "    games.append(game)\n",
    "    \n",
    "    count += 1\n",
    "    if count == limit:\n",
    "        break\n",
    "    game = chess.pgn.read_game(pgn_file)\n",
    "\n",
    "pgn_file.close()"
   ]
  },
  {
   "cell_type": "code",
   "execution_count": null,
   "metadata": {},
   "outputs": [],
   "source": [
    "n = [2, ]"
   ]
  },
  {
   "cell_type": "code",
   "execution_count": null,
   "metadata": {},
   "outputs": [],
   "source": [
    "chunk_size = 1000  # Process 1000 games at a time\n",
    "num_chunks = len(games) // chunk_size + (1 if len(games) % chunk_size > 0 else 0)\n",
    "for i in range(13, 40):\n",
    "\n",
    "    start_index = i * chunk_size\n",
    "    end_index = min(start_index + chunk_size, len(games))\n",
    "    games_chunk = games[start_index:end_index]\n",
    "\n",
    "    try:\n",
    "        result = []\n",
    "        for game in games_chunk:\n",
    "            features = extract_features(game)\n",
    "            result.append(features)\n",
    "\n",
    "        ndjson_file_path = f'../data/raw/maia/fics_{start_index}.ndjson'\n",
    "        print(f\"saved to {ndjson_file_path}\")\n",
    "        print(\"--------------------------------------------------------\")\n",
    "        with open(ndjson_file_path, 'w') as f:\n",
    "            for item in result:\n",
    "                json.dump(item, f)\n",
    "                f.write('\\n') \n",
    "            f.close()\n",
    "    except Exception as e:\n",
    "       # By this way we can know about the type of error occurring\n",
    "        print(\"The error is: \",e)\n",
    "    \n",
    "      "
   ]
  },
  {
   "cell_type": "code",
   "execution_count": null,
   "metadata": {},
   "outputs": [],
   "source": []
  }
 ],
 "metadata": {
  "kernelspec": {
   "display_name": "py310",
   "language": "python",
   "name": "python3"
  },
  "language_info": {
   "codemirror_mode": {
    "name": "ipython",
    "version": 3
   },
   "file_extension": ".py",
   "mimetype": "text/x-python",
   "name": "python",
   "nbconvert_exporter": "python",
   "pygments_lexer": "ipython3",
   "version": "3.10.11"
  }
 },
 "nbformat": 4,
 "nbformat_minor": 2
}
