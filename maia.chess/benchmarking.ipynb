{
 "cells": [
  {
   "cell_type": "code",
   "execution_count": 2,
   "metadata": {},
   "outputs": [],
   "source": [
    "import chess.engine\n",
    "import chess \n",
    "import matplotlib.pyplot as plt\n",
    "import matplotlib.colors as mcolors\n",
    "import chess.pgn \n",
    "from stockfish import Stockfish\n",
    "import pandas as pd\n",
    "import time\n",
    "import numpy as np\n",
    "import json\n",
    "import regex as re"
   ]
  },
  {
   "cell_type": "code",
   "execution_count": 13,
   "metadata": {},
   "outputs": [],
   "source": []
  },
  {
   "cell_type": "code",
   "execution_count": 3,
   "metadata": {},
   "outputs": [],
   "source": [
    "path = \"..\\data\\Landing\\lichess_2024.ndjson\"\n",
    "df = pd.read_json(path, lines=True)\n",
    "df = df.head(50)"
   ]
  },
  {
   "cell_type": "code",
   "execution_count": 4,
   "metadata": {},
   "outputs": [
    {
     "data": {
      "text/html": [
       "<div>\n",
       "<style scoped>\n",
       "    .dataframe tbody tr th:only-of-type {\n",
       "        vertical-align: middle;\n",
       "    }\n",
       "\n",
       "    .dataframe tbody tr th {\n",
       "        vertical-align: top;\n",
       "    }\n",
       "\n",
       "    .dataframe thead th {\n",
       "        text-align: right;\n",
       "    }\n",
       "</style>\n",
       "<table border=\"1\" class=\"dataframe\">\n",
       "  <thead>\n",
       "    <tr style=\"text-align: right;\">\n",
       "      <th></th>\n",
       "      <th>Event</th>\n",
       "      <th>Site</th>\n",
       "      <th>Date</th>\n",
       "      <th>Round</th>\n",
       "      <th>White</th>\n",
       "      <th>Black</th>\n",
       "      <th>Result</th>\n",
       "      <th>Moves</th>\n",
       "      <th>WhiteElo</th>\n",
       "      <th>BlackElo</th>\n",
       "    </tr>\n",
       "  </thead>\n",
       "  <tbody>\n",
       "    <tr>\n",
       "      <th>0</th>\n",
       "      <td>Rated Rapid game</td>\n",
       "      <td>https://lichess.org/baWRg5co</td>\n",
       "      <td>2024-05-01</td>\n",
       "      <td>-</td>\n",
       "      <td>julio_arias2</td>\n",
       "      <td>Nanaldopark</td>\n",
       "      <td>0-1</td>\n",
       "      <td>[e2e4, e7e5, g1f3, d8f6, f1c4, f8c5, e1g1, d7d...</td>\n",
       "      <td>1309</td>\n",
       "      <td>1364</td>\n",
       "    </tr>\n",
       "    <tr>\n",
       "      <th>1</th>\n",
       "      <td>Blitz swiss https://lichess.org/swiss/15y3UNO4</td>\n",
       "      <td>https://lichess.org/YRVwgatE</td>\n",
       "      <td>2024-05-01</td>\n",
       "      <td>-</td>\n",
       "      <td>tbecalli</td>\n",
       "      <td>Adriano_BSB</td>\n",
       "      <td>0-1</td>\n",
       "      <td>[e2e4, c7c5, g1f3, g7g6, f1c4, f8g7, b1c3, e7e...</td>\n",
       "      <td>1568</td>\n",
       "      <td>1904</td>\n",
       "    </tr>\n",
       "    <tr>\n",
       "      <th>2</th>\n",
       "      <td>Blitz swiss https://lichess.org/swiss/15y3UNO4</td>\n",
       "      <td>https://lichess.org/BdeuuqT0</td>\n",
       "      <td>2024-05-01</td>\n",
       "      <td>-</td>\n",
       "      <td>OLIVEIRA13</td>\n",
       "      <td>jckawagoe</td>\n",
       "      <td>0-1</td>\n",
       "      <td>[e2e4, e7e5, g1f3, b8c6, f1c4, g8f6, d2d3, f8c...</td>\n",
       "      <td>1903</td>\n",
       "      <td>2147</td>\n",
       "    </tr>\n",
       "    <tr>\n",
       "      <th>3</th>\n",
       "      <td>Classical swiss https://lichess.org/swiss/Gx0a...</td>\n",
       "      <td>https://lichess.org/3XzZoc9U</td>\n",
       "      <td>2024-05-01</td>\n",
       "      <td>-</td>\n",
       "      <td>enrique191060</td>\n",
       "      <td>electronicmoon</td>\n",
       "      <td>0-1</td>\n",
       "      <td>[e2e4, c7c6, c2c3, d7d5, e4e5, c8f5, d2d4, e7e...</td>\n",
       "      <td>1842</td>\n",
       "      <td>1589</td>\n",
       "    </tr>\n",
       "    <tr>\n",
       "      <th>4</th>\n",
       "      <td>Classical swiss https://lichess.org/swiss/Gx0a...</td>\n",
       "      <td>https://lichess.org/Hqw2BCcD</td>\n",
       "      <td>2024-05-01</td>\n",
       "      <td>-</td>\n",
       "      <td>MarkusAndreaEP</td>\n",
       "      <td>muhammad3631</td>\n",
       "      <td>0-1</td>\n",
       "      <td>[e2e4, c7c5, g1f3, d7d6, d2d4, c5d4, f3d4, g8f...</td>\n",
       "      <td>1643</td>\n",
       "      <td>1956</td>\n",
       "    </tr>\n",
       "  </tbody>\n",
       "</table>\n",
       "</div>"
      ],
      "text/plain": [
       "                                               Event  \\\n",
       "0                                   Rated Rapid game   \n",
       "1     Blitz swiss https://lichess.org/swiss/15y3UNO4   \n",
       "2     Blitz swiss https://lichess.org/swiss/15y3UNO4   \n",
       "3  Classical swiss https://lichess.org/swiss/Gx0a...   \n",
       "4  Classical swiss https://lichess.org/swiss/Gx0a...   \n",
       "\n",
       "                           Site       Date Round           White  \\\n",
       "0  https://lichess.org/baWRg5co 2024-05-01     -    julio_arias2   \n",
       "1  https://lichess.org/YRVwgatE 2024-05-01     -        tbecalli   \n",
       "2  https://lichess.org/BdeuuqT0 2024-05-01     -      OLIVEIRA13   \n",
       "3  https://lichess.org/3XzZoc9U 2024-05-01     -   enrique191060   \n",
       "4  https://lichess.org/Hqw2BCcD 2024-05-01     -  MarkusAndreaEP   \n",
       "\n",
       "            Black Result                                              Moves  \\\n",
       "0     Nanaldopark    0-1  [e2e4, e7e5, g1f3, d8f6, f1c4, f8c5, e1g1, d7d...   \n",
       "1     Adriano_BSB    0-1  [e2e4, c7c5, g1f3, g7g6, f1c4, f8g7, b1c3, e7e...   \n",
       "2       jckawagoe    0-1  [e2e4, e7e5, g1f3, b8c6, f1c4, g8f6, d2d3, f8c...   \n",
       "3  electronicmoon    0-1  [e2e4, c7c6, c2c3, d7d5, e4e5, c8f5, d2d4, e7e...   \n",
       "4    muhammad3631    0-1  [e2e4, c7c5, g1f3, d7d6, d2d4, c5d4, f3d4, g8f...   \n",
       "\n",
       "   WhiteElo  BlackElo  \n",
       "0      1309      1364  \n",
       "1      1568      1904  \n",
       "2      1903      2147  \n",
       "3      1842      1589  \n",
       "4      1643      1956  "
      ]
     },
     "execution_count": 4,
     "metadata": {},
     "output_type": "execute_result"
    }
   ],
   "source": [
    "df.head()"
   ]
  },
  {
   "cell_type": "code",
   "execution_count": null,
   "metadata": {},
   "outputs": [],
   "source": [
    "import maia_functions as mf\n",
    "i = 0 \n",
    "stockfish=Stockfish(\"../stockfish/stockfish-windows-x86-64-avx2.exe\")\n",
    "stockfish.set_depth(12)#How deep the AI looks\n",
    "\n",
    "\n",
    "starttime = time.time()\n",
    "for index, row in df.iterrows():\n",
    "    i += 1\n",
    "    print(i)\n",
    "    if i > 50:\n",
    "        break\n",
    "    \n",
    "    cpls = mf.maia_cpl(row, stockfish)\n",
    "    df.at[index, \"maia_cpl_w\"] = cpls[0]\n",
    "    df.at[index, \"maia_cpl_b\"] = cpls[1]\n",
    "endtime = time.time()\n",
    "print(f\"time taken: {endtime - starttime}\")"
   ]
  },
  {
   "cell_type": "markdown",
   "metadata": {},
   "source": [
    "Here we are benchmarking the time taken to analyse 50 games of chess. The overall time taken was 177.33 Seconds approximately 3 minutes. Around 3.6 seconds per game. Much faster than expected.\n",
    "\n",
    "These are the steps taken in the analysis. \n",
    "1. Initiate a Maia engine for both white and black (The closest Maia enigne to each of their ratings), the Maia engines range from 1100, 1200, ... , 1800, 1900.\n",
    "2. Then while ignoring the first 6 moves, we then find the Maia engines recommended move for black and white.\n",
    "3. Then we compare the difference of the stockfish evaluation between the Maia Engine move, and then move that was actually played to find the Maia Centipawn loss.\n",
    "4. Then we aggregate this difference over the entire game. \n",
    "5. Repeat.\n",
    "\n",
    "Notes:\n",
    "- White Maia CPL: Evaluation of Maia move - evaluation of actual move. Black Maia CPL: Mvaluation of actual move - evaluation fo Maia move.\n",
    "- Unlike the cpl for stockfish where you can never play a better move than the engine, here a player can outperform the Maia Engine"
   ]
  },
  {
   "cell_type": "code",
   "execution_count": 16,
   "metadata": {},
   "outputs": [
    {
     "data": {
      "image/png": "[encoded data removed]",
      "text/plain": [
       "<Figure size 800x600 with 1 Axes>"
      ]
     },
     "metadata": {},
     "output_type": "display_data"
    }
   ],
   "source": [
    "df = df.head(50)\n",
    "# Plot box plot\n",
    "plt.figure(figsize=(8, 6))\n",
    "plt.boxplot([df['maia_cpl_b'], df['maia_cpl_w']], labels = [\"Black\", \"White\"])\n",
    "plt.title('Mean difference in Stockfish Eval')\n",
    "plt.ylabel('Average CPL')\n",
    "\n",
    "plt.show()"
   ]
  },
  {
   "cell_type": "code",
   "execution_count": 23,
   "metadata": {},
   "outputs": [],
   "source": [
    "def time_to_seconds(time):\n",
    "    hours, minutes, seconds = map(float, time)\n",
    "    return hours * 3600 + minutes * 60 + seconds"
   ]
  },
  {
   "cell_type": "code",
   "execution_count": 26,
   "metadata": {},
   "outputs": [
    {
     "name": "stdout",
     "output_type": "stream",
     "text": [
      "Gabuzyan, Hovhannes\n",
      "Palencia, Julio\n",
      "[182.0, 178.8, 180.6, 179.1, 181.3, 178.6, 182.4, 179.2, 183.3, 179.9, 184.0, 180.2, 184.9, 180.9, 185.4, 172.7, 185.4, 172.3, 184.4, 172.4, 184.4, 169.6, 184.7, 159.9, 184.6, 150.0, 183.9, 143.0, 183.4, 142.8, 184.2, 133.5, 184.6, 133.6, 185.5, 130.6, 185.8, 120.3, 183.2, 116.8, 183.8, 103.4, 183.1, 92.1, 183.4, 82.9, 183.5, 82.0, 183.7, 59.9, 184.0, 60.4, 178.9, 54.1, 177.5, 48.1, 177.9, 47.4, 178.5, 47.6, 177.6, 38.8, 177.4, 35.1, 177.2, 31.4, 177.5, 30.3, 178.0, 29.5, 178.6, 26.5, 177.6, 19.9, 177.3, 17.9, 177.5, 16.5, 176.8, 15.6, 176.9]\n",
      "[0, 0, 1.4, -0.3, -0.7, 0.5, -1.1, -0.6, -0.9, -0.7, -0.7, -0.3, -0.9, -0.7, -0.5, 8.2, 0.0, 0.4, 1.0, -0.1, 0.0, 2.8, -0.3, 9.7, 0.1, 9.9, 0.7, 7.0, 0.5, 0.2, -0.8, 9.3, -0.4, -0.1, -0.9, 3.0, -0.3, 10.3, 2.6, 3.5, -0.6, 13.4, 0.7, 11.3, -0.3, 9.2, -0.1, 0.9, -0.2, 22.1, -0.3, -0.5, 5.1, 6.3, 1.4, 6.0, -0.4, 0.7, -0.6, -0.2, 0.9, 8.8, 0.2, 3.7, 0.2, 3.7, -0.3, 1.1, -0.5, 0.8, -0.6, 3.0, 1.0, 6.6, 0.3, 2.0, -0.2, 1.4, 0.7, 0, 0]\n",
      "0.005000114440917969\n"
     ]
    }
   ],
   "source": [
    "paths = [\"../data/tornelo/FIDE/wuocc-blitz-div-d.pgn\"] # , \"../data/tornelo/FIDE/wuocc-blitz-div-b.pgn\"\n",
    "games = []\n",
    "for pgn in paths:\n",
    "    pgn_file = open(pgn)\n",
    "    game = chess.pgn.read_game(pgn_file)\n",
    "    while game is not None:\n",
    "        data = {\n",
    "                    'Event': game.headers.get('Event', ''), \n",
    "                    'Site': game.headers.get('Site', ''), \n",
    "                    'Date': game.headers.get('Date', ''), \n",
    "                    'Round': game.headers.get('Round', ''), \n",
    "                    'White': game.headers.get('White', ''), \n",
    "                    'Black': game.headers.get('Black', ''), \n",
    "                    'Result': game.headers.get('Result', ''), \n",
    "                    'Moves': [str(move) for move in game.mainline_moves()], \n",
    "                    'WhiteElo': game.headers.get('WhiteElo', ''), \n",
    "                    'BlackElo': game.headers.get('BlackElo', '')}\n",
    "    \n",
    "        # Read the next game\n",
    "        game = chess.pgn.read_game(pgn_file)\n",
    "        games.append(data)\n",
    "    pgn_file.close()\n",
    "    "
   ]
  },
  {
   "cell_type": "code",
   "execution_count": 4,
   "metadata": {},
   "outputs": [
    {
     "name": "stdout",
     "output_type": "stream",
     "text": [
      "1114\n",
      "437\n"
     ]
    }
   ],
   "source": [
    "print(len(games))\n",
    "games = [game for game in games if game[\"WhiteElo\"] != \"\" and game[\"BlackElo\"] != \"\"]\n",
    "print(len(games))"
   ]
  },
  {
   "cell_type": "code",
   "execution_count": 43,
   "metadata": {},
   "outputs": [],
   "source": [
    "path = \"..\\data\\Raw\\wuocc-blitz-div-d_raw.ndjson\"\n",
    "\n",
    "# Save to a newline-delimited JSON file\n",
    "with open(path, 'w') as f:\n",
    "    for entry in games:\n",
    "        json_line = json.dumps(entry)\n",
    "        f.write(json_line + '\\n')"
   ]
  },
  {
   "cell_type": "code",
   "execution_count": 44,
   "metadata": {},
   "outputs": [],
   "source": [
    "df = pd.read_json(path, lines=True)"
   ]
  },
  {
   "cell_type": "code",
   "execution_count": null,
   "metadata": {},
   "outputs": [],
   "source": [
    "import maia_functions as mf\n",
    "stockfish=Stockfish(\"../stockfish/stockfish-windows-x86-64-avx2.exe\")\n",
    "stockfish.set_depth(13)#How deep the AI looks\n",
    "\n",
    "err_count = 0\n",
    "starttime = time.time()\n",
    "for index, row in df.iterrows():\n",
    "    try:\n",
    "        cpls = mf.maia_cpl(row, stockfish)\n",
    "        df.at[index, \"maia_cpl_w\"] = cpls[0]\n",
    "        df.at[index, \"maia_cpl_b\"] = cpls[1]\n",
    "    except:\n",
    "        err_count += 1\n",
    "        print(cpls)\n",
    "        print(\"---------------------------------------------------------------\")\n",
    "\n",
    "endtime = time.time()\n",
    "print(f\"time taken: {endtime - starttime}\")"
   ]
  },
  {
   "cell_type": "code",
   "execution_count": 49,
   "metadata": {},
   "outputs": [],
   "source": [
    "df.to_csv(\"../data/Curated/maia_cpl_wuocc_blitz_div-d.csv\", index = False)"
   ]
  },
  {
   "cell_type": "code",
   "execution_count": null,
   "metadata": {},
   "outputs": [],
   "source": []
  }
 ],
 "metadata": {
  "kernelspec": {
   "display_name": "Python 3",
   "language": "python",
   "name": "python3"
  },
  "language_info": {
   "codemirror_mode": {
    "name": "ipython",
    "version": 3
   },
   "file_extension": ".py",
   "mimetype": "text/x-python",
   "name": "python",
   "nbconvert_exporter": "python",
   "pygments_lexer": "ipython3",
   "version": "3.10.11"
  }
 },
 "nbformat": 4,
 "nbformat_minor": 2
}
