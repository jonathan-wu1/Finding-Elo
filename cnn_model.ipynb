{
 "cells": [
  {
   "cell_type": "code",
   "execution_count": 325,
   "metadata": {},
   "outputs": [],
   "source": [
    "from fastai.vision.all import *\n",
    "from fastai.text.all import *\n",
    "from fastai.collab import *\n",
    "from fastai.tabular.all import *\n",
    "import pandas as pd\n",
    "\n",
    "\n",
    "def r_mse(pred,y): return round(math.sqrt(((pred-y)**2).mean()), 6)\n",
    "def m_rmse(m, xs, y): return r_mse(m.predict(xs), y)"
   ]
  },
  {
   "cell_type": "code",
   "execution_count": 326,
   "metadata": {},
   "outputs": [],
   "source": [
    "df = pd.read_json('data/feature_extracted.ndjson', lines=True)\n"
   ]
  },
  {
   "cell_type": "code",
   "execution_count": 327,
   "metadata": {},
   "outputs": [
    {
     "name": "stdout",
     "output_type": "stream",
     "text": [
      "2400\n",
      "2395\n"
     ]
    }
   ],
   "source": [
    "df = df.fillna(0)\n",
    "print(len(df))\n",
    "df = df[df['white_cpl'].apply(lambda x: len(x) > 0)]\n",
    "df = df[df['black_cpl'].apply(lambda x: len(x) > 0)]\n",
    "print(len(df))\n",
    "\n"
   ]
  },
  {
   "cell_type": "code",
   "execution_count": 328,
   "metadata": {},
   "outputs": [],
   "source": [
    "df[\"ECO\"] = df[\"ECO\"].astype('category')\n",
    "df[\"Opening\"] = df[\"Opening\"].astype('category')\n",
    "df[\"result\"] = df[\"result\"].astype('category')\n",
    "\n",
    "df[\"mean_elos\"] = df[['white_elo', 'black_elo']].mean(axis=1)\n",
    "df[\"diff_elos\"] = df['white_elo'] - df['black_elo']\n",
    "\n",
    "df['white_mean'] = df['white_cpl'].apply(np.mean)\n",
    "df['white_std'] = df['white_cpl'].apply(np.std)\n",
    "df['white_min'] = df['white_cpl'].apply(np.min)\n",
    "df['white_max'] = df['white_cpl'].apply(np.max)\n",
    "\n",
    "df['black_mean'] = df['black_cpl'].apply(np.mean)\n",
    "df['black_std'] = df['black_cpl'].apply(np.std)\n",
    "df['black_min'] = df['black_cpl'].apply(np.min)\n",
    "df['black_max'] = df['black_cpl'].apply(np.max)"
   ]
  },
  {
   "cell_type": "code",
   "execution_count": 279,
   "metadata": {},
   "outputs": [],
   "source": []
  },
  {
   "cell_type": "code",
   "execution_count": 329,
   "metadata": {},
   "outputs": [],
   "source": [
    "cols = df.columns.tolist()\n",
    "\n",
    "to_remove = [\"moves\", \"white_elo\", \"black_elo\", \"Opening\", \"white_cpl\", \"black_cpl\", \"diff_elos\"]\n",
    "\n",
    "dependent_var = [\"mean_elos\"]\n",
    "cat_vars = [\"result\", \"ECO\"]\n",
    "cont_vars = [col for col in cols if col not in (cat_vars + dependent_var + to_remove)]\n",
    "\n",
    "dep_var = \"mean_elos\""
   ]
  },
  {
   "cell_type": "code",
   "execution_count": 330,
   "metadata": {},
   "outputs": [],
   "source": [
    "df = df.drop(columns=to_remove)"
   ]
  },
  {
   "cell_type": "code",
   "execution_count": 308,
   "metadata": {},
   "outputs": [],
   "source": [
    "df[\"mean_elos\"] = np.log(df[\"mean_elos\"])\n"
   ]
  },
  {
   "cell_type": "code",
   "execution_count": 331,
   "metadata": {},
   "outputs": [],
   "source": [
    "cont_nn,cat_nn = cont_cat_split(df, dep_var=dep_var)"
   ]
  },
  {
   "cell_type": "code",
   "execution_count": 332,
   "metadata": {},
   "outputs": [
    {
     "data": {
      "text/plain": [
       "['total_moves',\n",
       " 'end_r',\n",
       " 'end_n',\n",
       " 'end_b',\n",
       " 'end_q',\n",
       " 'end_p',\n",
       " 'end_P',\n",
       " 'end_B',\n",
       " 'end_N',\n",
       " 'end_R',\n",
       " 'end_Q',\n",
       " 'queen_moved_at',\n",
       " 'total_checks',\n",
       " 'first_check_at',\n",
       " 'queen_changed_at',\n",
       " 'promotion',\n",
       " 'can_claim_draw',\n",
       " 'white_mean',\n",
       " 'white_std',\n",
       " 'white_min',\n",
       " 'white_max',\n",
       " 'black_mean',\n",
       " 'black_std',\n",
       " 'black_min',\n",
       " 'black_max']"
      ]
     },
     "execution_count": 332,
     "metadata": {},
     "output_type": "execute_result"
    }
   ],
   "source": [
    "cont_nn"
   ]
  },
  {
   "cell_type": "code",
   "execution_count": 333,
   "metadata": {},
   "outputs": [
    {
     "data": {
      "text/plain": [
       "['result', 'ECO', 'end_k', 'end_K']"
      ]
     },
     "execution_count": 333,
     "metadata": {},
     "output_type": "execute_result"
    }
   ],
   "source": [
    "cat_nn"
   ]
  },
  {
   "cell_type": "code",
   "execution_count": 334,
   "metadata": {},
   "outputs": [
    {
     "data": {
      "text/plain": [
       "result      3\n",
       "ECO       361\n",
       "end_k       1\n",
       "end_K       1\n",
       "dtype: int64"
      ]
     },
     "execution_count": 334,
     "metadata": {},
     "output_type": "execute_result"
    }
   ],
   "source": [
    "df[cat_nn].nunique()"
   ]
  },
  {
   "cell_type": "code",
   "execution_count": 335,
   "metadata": {},
   "outputs": [],
   "source": [
    "splits = RandomSplitter(valid_pct=0.2)(range_of(df))"
   ]
  },
  {
   "cell_type": "code",
   "execution_count": 336,
   "metadata": {},
   "outputs": [],
   "source": [
    "to = TabularPandas(df, procs=[Categorify, FillMissing, Normalize],\n",
    "                   cont_names = cont_vars,\n",
    "                   cat_names = cat_vars,\n",
    "                   y_names='mean_elos',\n",
    "                   splits=splits)\n"
   ]
  },
  {
   "cell_type": "code",
   "execution_count": 337,
   "metadata": {},
   "outputs": [],
   "source": [
    "dls = to.dataloaders(1024)"
   ]
  },
  {
   "cell_type": "markdown",
   "metadata": {},
   "source": [
    "This is the min and max of the mean elo ratings"
   ]
  },
  {
   "cell_type": "code",
   "execution_count": 338,
   "metadata": {},
   "outputs": [
    {
     "data": {
      "text/plain": [
       "(1385.5, 2788.5)"
      ]
     },
     "execution_count": 338,
     "metadata": {},
     "output_type": "execute_result"
    }
   ],
   "source": [
    "y = to.train.y\n",
    "y.min(),y.max()"
   ]
  },
  {
   "cell_type": "code",
   "execution_count": 339,
   "metadata": {},
   "outputs": [
    {
     "data": {
      "text/plain": [
       "\"By default, for tabular data fastai creates a neural network with two hidden layers, with 200 and 100 activations, respectively. \\nThis works quite well for small datasets, but here we've got quite a large dataset, so we increase the layer sizes to 500 and 250:\""
      ]
     },
     "execution_count": 339,
     "metadata": {},
     "output_type": "execute_result"
    }
   ],
   "source": [
    "learn = tabular_learner(dls, y_range=(8,12), layers=[200,100],\n",
    "                        n_out=1, loss_func=F.mse_loss)\n",
    "\n",
    "\n",
    "\"\"\"By default, for tabular data fastai creates a neural network with two hidden layers, with 200 and 100 activations, respectively. \n",
    "This works quite well for small datasets, but here we've got quite a large dataset, so we increase the layer sizes to 500 and 250:\"\"\""
   ]
  },
  {
   "cell_type": "code",
   "execution_count": 340,
   "metadata": {},
   "outputs": [
    {
     "data": {
      "text/html": [
       "\n",
       "<style>\n",
       "    /* Turns off some styling */\n",
       "    progress {\n",
       "        /* gets rid of default border in Firefox and Opera. */\n",
       "        border: none;\n",
       "        /* Needs to be in here for Safari polyfill so background images work as expected. */\n",
       "        background-size: auto;\n",
       "    }\n",
       "    progress:not([value]), progress:not([value])::-webkit-progress-bar {\n",
       "        background: repeating-linear-gradient(45deg, #7e7e7e, #7e7e7e 10px, #5c5c5c 10px, #5c5c5c 20px);\n",
       "    }\n",
       "    .progress-bar-interrupted, .progress-bar-interrupted::-webkit-progress-bar {\n",
       "        background: #F44336;\n",
       "    }\n",
       "</style>\n"
      ],
      "text/plain": [
       "<IPython.core.display.HTML object>"
      ]
     },
     "metadata": {},
     "output_type": "display_data"
    },
    {
     "data": {
      "text/html": [
       "\n",
       "    <div>\n",
       "      <progress value='0' class='' max='101' style='width:300px; height:20px; vertical-align: middle;'></progress>\n",
       "      \n",
       "    </div>\n",
       "    \n"
      ],
      "text/plain": [
       "<IPython.core.display.HTML object>"
      ]
     },
     "metadata": {},
     "output_type": "display_data"
    },
    {
     "name": "stderr",
     "output_type": "stream",
     "text": [
      "c:\\Users\\natal\\anaconda3\\envs\\dsp\\Lib\\site-packages\\fastai\\learner.py:53: FutureWarning: You are using `torch.load` with `weights_only=False` (the current default value), which uses the default pickle module implicitly. It is possible to construct malicious pickle data which will execute arbitrary code during unpickling (See https://github.com/pytorch/pytorch/blob/main/SECURITY.md#untrusted-models for more details). In a future release, the default value for `weights_only` will be flipped to `True`. This limits the functions that could be executed during unpickling. Arbitrary objects will no longer be allowed to be loaded via this mode unless they are explicitly allowlisted by the user via `torch.serialization.add_safe_globals`. We recommend you start setting `weights_only=True` for any use case where you don't have full control of the loaded file. Please open an issue on GitHub for any issues related to this experimental feature.\n",
      "  state = torch.load(file, map_location=device, **torch_load_kwargs)\n"
     ]
    },
    {
     "data": {
      "text/plain": [
       "SuggestedLRs(valley=0.0691830962896347)"
      ]
     },
     "execution_count": 340,
     "metadata": {},
     "output_type": "execute_result"
    },
    {
     "data": {
      "image/png": "[encoded data removed]",
      "text/plain": [
       "<Figure size 640x480 with 1 Axes>"
      ]
     },
     "metadata": {},
     "output_type": "display_data"
    }
   ],
   "source": [
    "learn.lr_find()"
   ]
  },
  {
   "cell_type": "code",
   "execution_count": 342,
   "metadata": {},
   "outputs": [
    {
     "data": {
      "text/html": [
       "\n",
       "<style>\n",
       "    /* Turns off some styling */\n",
       "    progress {\n",
       "        /* gets rid of default border in Firefox and Opera. */\n",
       "        border: none;\n",
       "        /* Needs to be in here for Safari polyfill so background images work as expected. */\n",
       "        background-size: auto;\n",
       "    }\n",
       "    progress:not([value]), progress:not([value])::-webkit-progress-bar {\n",
       "        background: repeating-linear-gradient(45deg, #7e7e7e, #7e7e7e 10px, #5c5c5c 10px, #5c5c5c 20px);\n",
       "    }\n",
       "    .progress-bar-interrupted, .progress-bar-interrupted::-webkit-progress-bar {\n",
       "        background: #F44336;\n",
       "    }\n",
       "</style>\n"
      ],
      "text/plain": [
       "<IPython.core.display.HTML object>"
      ]
     },
     "metadata": {},
     "output_type": "display_data"
    },
    {
     "data": {
      "text/html": [
       "<table border=\"1\" class=\"dataframe\">\n",
       "  <thead>\n",
       "    <tr style=\"text-align: left;\">\n",
       "      <th>epoch</th>\n",
       "      <th>train_loss</th>\n",
       "      <th>valid_loss</th>\n",
       "      <th>time</th>\n",
       "    </tr>\n",
       "  </thead>\n",
       "  <tbody>\n",
       "    <tr>\n",
       "      <td>0</td>\n",
       "      <td>5064428.000000</td>\n",
       "      <td>5089730.000000</td>\n",
       "      <td>00:00</td>\n",
       "    </tr>\n",
       "    <tr>\n",
       "      <td>1</td>\n",
       "      <td>5032447.500000</td>\n",
       "      <td>5089631.000000</td>\n",
       "      <td>00:00</td>\n",
       "    </tr>\n",
       "    <tr>\n",
       "      <td>2</td>\n",
       "      <td>5017890.500000</td>\n",
       "      <td>5089487.500000</td>\n",
       "      <td>00:00</td>\n",
       "    </tr>\n",
       "    <tr>\n",
       "      <td>3</td>\n",
       "      <td>5016276.500000</td>\n",
       "      <td>5089415.000000</td>\n",
       "      <td>00:00</td>\n",
       "    </tr>\n",
       "    <tr>\n",
       "      <td>4</td>\n",
       "      <td>5017615.500000</td>\n",
       "      <td>5089347.500000</td>\n",
       "      <td>00:00</td>\n",
       "    </tr>\n",
       "  </tbody>\n",
       "</table>"
      ],
      "text/plain": [
       "<IPython.core.display.HTML object>"
      ]
     },
     "metadata": {},
     "output_type": "display_data"
    }
   ],
   "source": [
    "learn.fit_one_cycle(5)\n"
   ]
  },
  {
   "cell_type": "code",
   "execution_count": 343,
   "metadata": {},
   "outputs": [
    {
     "data": {
      "text/html": [
       "\n",
       "<style>\n",
       "    /* Turns off some styling */\n",
       "    progress {\n",
       "        /* gets rid of default border in Firefox and Opera. */\n",
       "        border: none;\n",
       "        /* Needs to be in here for Safari polyfill so background images work as expected. */\n",
       "        background-size: auto;\n",
       "    }\n",
       "    progress:not([value]), progress:not([value])::-webkit-progress-bar {\n",
       "        background: repeating-linear-gradient(45deg, #7e7e7e, #7e7e7e 10px, #5c5c5c 10px, #5c5c5c 20px);\n",
       "    }\n",
       "    .progress-bar-interrupted, .progress-bar-interrupted::-webkit-progress-bar {\n",
       "        background: #F44336;\n",
       "    }\n",
       "</style>\n"
      ],
      "text/plain": [
       "<IPython.core.display.HTML object>"
      ]
     },
     "metadata": {},
     "output_type": "display_data"
    },
    {
     "data": {
      "text/html": [],
      "text/plain": [
       "<IPython.core.display.HTML object>"
      ]
     },
     "metadata": {},
     "output_type": "display_data"
    },
    {
     "data": {
      "text/plain": [
       "2255.958444"
      ]
     },
     "execution_count": 343,
     "metadata": {},
     "output_type": "execute_result"
    }
   ],
   "source": [
    "preds,targs = learn.get_preds()\n",
    "r_mse(preds,targs)"
   ]
  },
  {
   "cell_type": "code",
   "execution_count": 345,
   "metadata": {},
   "outputs": [
    {
     "data": {
      "text/plain": [
       "tensor([[ 8.6463],\n",
       "        [10.0059],\n",
       "        [10.4925],\n",
       "        [10.5952],\n",
       "        [ 9.3066],\n",
       "        [10.8086],\n",
       "        [10.6808],\n",
       "        [10.7729],\n",
       "        [ 8.9629],\n",
       "        [ 8.8189],\n",
       "        [ 8.1167],\n",
       "        [ 9.8870],\n",
       "        [ 9.9737],\n",
       "        [10.5594],\n",
       "        [10.5142],\n",
       "        [10.8644],\n",
       "        [10.2927],\n",
       "        [ 8.7716],\n",
       "        [ 9.0807],\n",
       "        [10.7229],\n",
       "        [ 9.9601],\n",
       "        [10.6313],\n",
       "        [ 9.1988],\n",
       "        [10.0287],\n",
       "        [10.5468],\n",
       "        [ 9.1842],\n",
       "        [10.4776],\n",
       "        [ 8.9986],\n",
       "        [10.5635],\n",
       "        [10.5782],\n",
       "        [ 9.9974],\n",
       "        [10.1865],\n",
       "        [10.7313],\n",
       "        [10.7438],\n",
       "        [10.1690],\n",
       "        [ 9.7707],\n",
       "        [10.5839],\n",
       "        [10.8548],\n",
       "        [ 9.9893],\n",
       "        [10.5242],\n",
       "        [10.7347],\n",
       "        [ 9.3021],\n",
       "        [10.6158],\n",
       "        [10.5644],\n",
       "        [10.6795],\n",
       "        [10.8876],\n",
       "        [10.6762],\n",
       "        [10.3188],\n",
       "        [ 9.6629],\n",
       "        [10.1441],\n",
       "        [10.7510],\n",
       "        [ 9.1998],\n",
       "        [10.6733],\n",
       "        [ 8.8796],\n",
       "        [ 9.1752],\n",
       "        [ 9.4044],\n",
       "        [ 9.4296],\n",
       "        [ 9.1630],\n",
       "        [ 9.9874],\n",
       "        [10.4494],\n",
       "        [ 9.3474],\n",
       "        [10.5772],\n",
       "        [ 8.0420],\n",
       "        [ 9.8800],\n",
       "        [ 8.0284],\n",
       "        [10.5518],\n",
       "        [ 8.6915],\n",
       "        [ 9.6567],\n",
       "        [ 9.8683],\n",
       "        [10.5489],\n",
       "        [10.6069],\n",
       "        [10.8088],\n",
       "        [10.5116],\n",
       "        [10.1394],\n",
       "        [10.8307],\n",
       "        [10.4439],\n",
       "        [10.4525],\n",
       "        [10.7497],\n",
       "        [10.6727],\n",
       "        [ 9.3405],\n",
       "        [10.6490],\n",
       "        [ 9.1361],\n",
       "        [ 9.3647],\n",
       "        [10.0442],\n",
       "        [ 9.6525],\n",
       "        [10.6758],\n",
       "        [10.7484],\n",
       "        [10.2342],\n",
       "        [10.0751],\n",
       "        [10.5748],\n",
       "        [10.7833],\n",
       "        [10.2730],\n",
       "        [10.6565],\n",
       "        [ 8.1991],\n",
       "        [10.6204],\n",
       "        [ 9.2071],\n",
       "        [10.4351],\n",
       "        [10.5052],\n",
       "        [ 8.7381],\n",
       "        [10.7249],\n",
       "        [ 9.5959],\n",
       "        [ 8.0867],\n",
       "        [10.0746],\n",
       "        [10.5200],\n",
       "        [ 8.9195],\n",
       "        [10.7573],\n",
       "        [10.3310],\n",
       "        [10.3643],\n",
       "        [ 8.3137],\n",
       "        [10.8156],\n",
       "        [ 8.0117],\n",
       "        [ 9.5337],\n",
       "        [ 8.1264],\n",
       "        [10.2553],\n",
       "        [10.8357],\n",
       "        [10.6613],\n",
       "        [10.5332],\n",
       "        [10.1015],\n",
       "        [10.8006],\n",
       "        [10.6754],\n",
       "        [10.5147],\n",
       "        [10.4393],\n",
       "        [10.5564],\n",
       "        [10.1135],\n",
       "        [10.5744],\n",
       "        [10.6562],\n",
       "        [10.8588],\n",
       "        [10.6283],\n",
       "        [10.5591],\n",
       "        [ 9.7434],\n",
       "        [ 9.7529],\n",
       "        [ 8.1350],\n",
       "        [ 8.6987],\n",
       "        [ 9.7572],\n",
       "        [10.8915],\n",
       "        [10.7771],\n",
       "        [10.5241],\n",
       "        [ 8.4621],\n",
       "        [10.4444],\n",
       "        [ 9.3526],\n",
       "        [ 9.3567],\n",
       "        [10.7745],\n",
       "        [10.5947],\n",
       "        [ 8.4944],\n",
       "        [ 8.7397],\n",
       "        [10.4805],\n",
       "        [10.7447],\n",
       "        [10.5783],\n",
       "        [10.5904],\n",
       "        [ 9.4702],\n",
       "        [10.7389],\n",
       "        [ 8.0410],\n",
       "        [10.6914],\n",
       "        [10.0512],\n",
       "        [ 9.1009],\n",
       "        [10.6612],\n",
       "        [10.6161],\n",
       "        [10.3647],\n",
       "        [10.6591],\n",
       "        [10.6057],\n",
       "        [10.5500],\n",
       "        [10.5501],\n",
       "        [ 9.0169],\n",
       "        [ 8.7637],\n",
       "        [ 9.9280],\n",
       "        [ 8.6348],\n",
       "        [ 8.3614],\n",
       "        [ 9.1881],\n",
       "        [ 9.6039],\n",
       "        [10.4974],\n",
       "        [10.4038],\n",
       "        [ 8.9925],\n",
       "        [10.6440],\n",
       "        [ 8.0753],\n",
       "        [10.6593],\n",
       "        [10.5385],\n",
       "        [ 9.9335],\n",
       "        [10.5696],\n",
       "        [ 8.8684],\n",
       "        [10.6353],\n",
       "        [10.1284],\n",
       "        [10.0198],\n",
       "        [ 9.3122],\n",
       "        [10.4836],\n",
       "        [10.6177],\n",
       "        [10.6703],\n",
       "        [10.4548],\n",
       "        [ 8.0678],\n",
       "        [10.4943],\n",
       "        [10.8843],\n",
       "        [10.8618],\n",
       "        [ 9.7295],\n",
       "        [10.5671],\n",
       "        [10.8299],\n",
       "        [10.7433],\n",
       "        [10.2457],\n",
       "        [10.5793],\n",
       "        [10.9086],\n",
       "        [10.6332],\n",
       "        [10.5951],\n",
       "        [10.0484],\n",
       "        [10.6064],\n",
       "        [10.1777],\n",
       "        [10.2934],\n",
       "        [10.5168],\n",
       "        [ 9.4106],\n",
       "        [ 8.8372],\n",
       "        [10.5821],\n",
       "        [10.1944],\n",
       "        [ 8.1802],\n",
       "        [10.4248],\n",
       "        [ 8.0537],\n",
       "        [ 9.4463],\n",
       "        [ 8.7536],\n",
       "        [ 9.1941],\n",
       "        [10.4317],\n",
       "        [ 8.5157],\n",
       "        [ 9.7604],\n",
       "        [10.7802],\n",
       "        [10.2166],\n",
       "        [10.7320],\n",
       "        [ 9.3848],\n",
       "        [10.3191],\n",
       "        [10.6248],\n",
       "        [10.1710],\n",
       "        [10.6702],\n",
       "        [10.8500],\n",
       "        [10.4694],\n",
       "        [10.7161],\n",
       "        [10.4919],\n",
       "        [10.7031],\n",
       "        [10.4201],\n",
       "        [10.7397],\n",
       "        [ 8.0000],\n",
       "        [ 8.9609],\n",
       "        [ 8.7685],\n",
       "        [ 8.4343],\n",
       "        [10.8116],\n",
       "        [ 9.9569],\n",
       "        [ 8.9291],\n",
       "        [10.5307],\n",
       "        [ 9.2920],\n",
       "        [ 8.0186],\n",
       "        [10.2999],\n",
       "        [ 8.7495],\n",
       "        [10.4677],\n",
       "        [10.5972],\n",
       "        [ 9.0091],\n",
       "        [10.8165],\n",
       "        [10.7977],\n",
       "        [ 9.1859],\n",
       "        [10.3927],\n",
       "        [10.5923],\n",
       "        [10.8587],\n",
       "        [10.6949],\n",
       "        [ 8.3591],\n",
       "        [10.5337],\n",
       "        [10.3126],\n",
       "        [10.5894],\n",
       "        [10.8351],\n",
       "        [10.4578],\n",
       "        [10.5527],\n",
       "        [10.5741],\n",
       "        [10.4501],\n",
       "        [ 9.5241],\n",
       "        [ 8.1641],\n",
       "        [10.6295],\n",
       "        [ 9.1945],\n",
       "        [10.8758],\n",
       "        [10.5270],\n",
       "        [10.4622],\n",
       "        [10.8593],\n",
       "        [ 9.4934],\n",
       "        [10.5554],\n",
       "        [10.7646],\n",
       "        [10.6312],\n",
       "        [10.4951],\n",
       "        [10.4371],\n",
       "        [10.6384],\n",
       "        [10.3391],\n",
       "        [10.4887],\n",
       "        [ 9.7524],\n",
       "        [10.4918],\n",
       "        [10.4280],\n",
       "        [10.6993],\n",
       "        [ 9.5348],\n",
       "        [10.3905],\n",
       "        [10.1413],\n",
       "        [ 8.4682],\n",
       "        [10.8767],\n",
       "        [ 8.0999],\n",
       "        [ 9.0046],\n",
       "        [10.2747],\n",
       "        [10.7403],\n",
       "        [10.2575],\n",
       "        [ 8.4360],\n",
       "        [10.7645],\n",
       "        [10.7378],\n",
       "        [10.6015],\n",
       "        [10.6871],\n",
       "        [10.8304],\n",
       "        [ 8.0771],\n",
       "        [10.5857],\n",
       "        [10.4429],\n",
       "        [10.7919],\n",
       "        [10.5012],\n",
       "        [10.5768],\n",
       "        [10.7992],\n",
       "        [10.7596],\n",
       "        [ 9.1206],\n",
       "        [10.6485],\n",
       "        [10.5173],\n",
       "        [10.7001],\n",
       "        [10.4940],\n",
       "        [10.4536],\n",
       "        [10.7222],\n",
       "        [10.6780],\n",
       "        [10.5572],\n",
       "        [10.5581],\n",
       "        [ 9.6018],\n",
       "        [ 8.9893],\n",
       "        [10.8825],\n",
       "        [10.2869],\n",
       "        [ 9.8205],\n",
       "        [10.6807],\n",
       "        [10.4915],\n",
       "        [ 8.3792],\n",
       "        [10.8271],\n",
       "        [10.2826],\n",
       "        [10.4256],\n",
       "        [10.5674],\n",
       "        [ 9.2060],\n",
       "        [ 9.1512],\n",
       "        [10.6654],\n",
       "        [10.0976],\n",
       "        [ 9.8281],\n",
       "        [10.7587],\n",
       "        [ 8.0727],\n",
       "        [10.4322],\n",
       "        [ 9.8113],\n",
       "        [10.4987],\n",
       "        [10.7434],\n",
       "        [10.6993],\n",
       "        [ 9.2424],\n",
       "        [ 9.9995],\n",
       "        [10.5944],\n",
       "        [ 9.3426],\n",
       "        [ 9.7060],\n",
       "        [10.7964],\n",
       "        [10.3320],\n",
       "        [10.5667],\n",
       "        [10.8025],\n",
       "        [10.7091],\n",
       "        [10.8298],\n",
       "        [10.4175],\n",
       "        [10.3642],\n",
       "        [10.5887],\n",
       "        [10.5714],\n",
       "        [10.4161],\n",
       "        [ 9.1805],\n",
       "        [10.7551],\n",
       "        [10.7379],\n",
       "        [10.5085],\n",
       "        [10.5844],\n",
       "        [10.8706],\n",
       "        [10.6722],\n",
       "        [10.6147],\n",
       "        [ 8.0038],\n",
       "        [ 9.5082],\n",
       "        [10.7303],\n",
       "        [10.5986],\n",
       "        [ 9.8506],\n",
       "        [10.5990],\n",
       "        [10.6365],\n",
       "        [10.4959],\n",
       "        [10.1983],\n",
       "        [ 8.3051],\n",
       "        [ 8.0001],\n",
       "        [ 9.8151],\n",
       "        [10.3430],\n",
       "        [ 9.5813],\n",
       "        [10.6125],\n",
       "        [ 8.8101],\n",
       "        [10.7125],\n",
       "        [ 8.2437],\n",
       "        [ 8.4777],\n",
       "        [10.5866],\n",
       "        [ 8.8581],\n",
       "        [10.6801],\n",
       "        [ 9.5705],\n",
       "        [ 9.3067],\n",
       "        [10.7129],\n",
       "        [10.0587],\n",
       "        [10.4429],\n",
       "        [ 9.9179],\n",
       "        [10.0781],\n",
       "        [10.4429],\n",
       "        [10.3005],\n",
       "        [ 8.4460],\n",
       "        [10.6172],\n",
       "        [ 8.2783],\n",
       "        [10.6910],\n",
       "        [ 9.3813],\n",
       "        [ 9.9127],\n",
       "        [10.5408],\n",
       "        [ 8.1599],\n",
       "        [10.6148],\n",
       "        [ 8.5020],\n",
       "        [10.1116],\n",
       "        [10.7832],\n",
       "        [10.4544],\n",
       "        [ 8.0504],\n",
       "        [10.7681],\n",
       "        [ 9.5719],\n",
       "        [ 9.3639],\n",
       "        [10.5852],\n",
       "        [10.6653],\n",
       "        [ 8.6643],\n",
       "        [10.7298],\n",
       "        [10.6915],\n",
       "        [ 9.3531],\n",
       "        [10.7710],\n",
       "        [10.6491],\n",
       "        [10.6633],\n",
       "        [10.3511],\n",
       "        [10.5432],\n",
       "        [10.3346],\n",
       "        [10.6862],\n",
       "        [10.2702],\n",
       "        [10.4653],\n",
       "        [10.6723],\n",
       "        [10.7739],\n",
       "        [10.6338],\n",
       "        [ 9.1836],\n",
       "        [10.6966],\n",
       "        [ 8.7619],\n",
       "        [10.6711],\n",
       "        [10.6335],\n",
       "        [10.3382],\n",
       "        [10.7670],\n",
       "        [ 9.8260],\n",
       "        [10.4813],\n",
       "        [10.8343],\n",
       "        [ 8.2283],\n",
       "        [10.0263],\n",
       "        [10.6974],\n",
       "        [ 8.3395],\n",
       "        [ 9.7102],\n",
       "        [ 9.4440],\n",
       "        [10.6025],\n",
       "        [10.7884],\n",
       "        [10.6862],\n",
       "        [ 9.6903],\n",
       "        [ 8.2618],\n",
       "        [ 8.5347],\n",
       "        [ 8.5352],\n",
       "        [10.1950],\n",
       "        [ 8.2756],\n",
       "        [10.0251],\n",
       "        [10.2134],\n",
       "        [10.5272],\n",
       "        [10.6842],\n",
       "        [10.3065],\n",
       "        [10.6658],\n",
       "        [10.5578],\n",
       "        [ 9.1030],\n",
       "        [10.7937],\n",
       "        [10.5022],\n",
       "        [10.4483],\n",
       "        [10.2453],\n",
       "        [10.6750],\n",
       "        [10.5908],\n",
       "        [10.7799],\n",
       "        [10.4169],\n",
       "        [ 9.7608],\n",
       "        [ 8.8921],\n",
       "        [10.6143],\n",
       "        [10.6818],\n",
       "        [10.7257]])"
      ]
     },
     "execution_count": 345,
     "metadata": {},
     "output_type": "execute_result"
    }
   ],
   "source": [
    "(preds)"
   ]
  },
  {
   "cell_type": "code",
   "execution_count": null,
   "metadata": {},
   "outputs": [],
   "source": []
  },
  {
   "cell_type": "code",
   "execution_count": null,
   "metadata": {},
   "outputs": [],
   "source": []
  },
  {
   "cell_type": "code",
   "execution_count": null,
   "metadata": {},
   "outputs": [],
   "source": []
  },
  {
   "cell_type": "code",
   "execution_count": 270,
   "metadata": {},
   "outputs": [
    {
     "data": {
      "text/plain": [
       "(800, 200)"
      ]
     },
     "execution_count": 270,
     "metadata": {},
     "output_type": "execute_result"
    }
   ],
   "source": [
    "len(to.train),len(to.valid)"
   ]
  },
  {
   "cell_type": "code",
   "execution_count": null,
   "metadata": {},
   "outputs": [],
   "source": [
    "dls = to.dataloaders(bs=64)"
   ]
  },
  {
   "cell_type": "code",
   "execution_count": 267,
   "metadata": {},
   "outputs": [
    {
     "data": {
      "text/html": [
       "\n",
       "<style>\n",
       "    /* Turns off some styling */\n",
       "    progress {\n",
       "        /* gets rid of default border in Firefox and Opera. */\n",
       "        border: none;\n",
       "        /* Needs to be in here for Safari polyfill so background images work as expected. */\n",
       "        background-size: auto;\n",
       "    }\n",
       "    progress:not([value]), progress:not([value])::-webkit-progress-bar {\n",
       "        background: repeating-linear-gradient(45deg, #7e7e7e, #7e7e7e 10px, #5c5c5c 10px, #5c5c5c 20px);\n",
       "    }\n",
       "    .progress-bar-interrupted, .progress-bar-interrupted::-webkit-progress-bar {\n",
       "        background: #F44336;\n",
       "    }\n",
       "</style>\n"
      ],
      "text/plain": [
       "<IPython.core.display.HTML object>"
      ]
     },
     "metadata": {},
     "output_type": "display_data"
    },
    {
     "data": {
      "text/html": [
       "<table border=\"1\" class=\"dataframe\">\n",
       "  <thead>\n",
       "    <tr style=\"text-align: left;\">\n",
       "      <th>epoch</th>\n",
       "      <th>train_loss</th>\n",
       "      <th>valid_loss</th>\n",
       "      <th>mse</th>\n",
       "      <th>time</th>\n",
       "    </tr>\n",
       "  </thead>\n",
       "  <tbody>\n",
       "    <tr>\n",
       "      <td>0</td>\n",
       "      <td>5075730.500000</td>\n",
       "      <td>5075101.000000</td>\n",
       "      <td>5075101.000000</td>\n",
       "      <td>00:00</td>\n",
       "    </tr>\n",
       "    <tr>\n",
       "      <td>1</td>\n",
       "      <td>5049903.500000</td>\n",
       "      <td>5073363.000000</td>\n",
       "      <td>5073363.000000</td>\n",
       "      <td>00:00</td>\n",
       "    </tr>\n",
       "    <tr>\n",
       "      <td>2</td>\n",
       "      <td>5090073.000000</td>\n",
       "      <td>5073541.000000</td>\n",
       "      <td>5073541.000000</td>\n",
       "      <td>00:00</td>\n",
       "    </tr>\n",
       "  </tbody>\n",
       "</table>"
      ],
      "text/plain": [
       "<IPython.core.display.HTML object>"
      ]
     },
     "metadata": {},
     "output_type": "display_data"
    }
   ],
   "source": [
    "# Create a Tabular Learner\n",
    "learn = tabular_learner(dls, metrics=mse)\n",
    "\n",
    "learn.fit_one_cycle(3)"
   ]
  },
  {
   "cell_type": "code",
   "execution_count": 265,
   "metadata": {},
   "outputs": [
    {
     "data": {
      "text/html": [
       "\n",
       "<style>\n",
       "    /* Turns off some styling */\n",
       "    progress {\n",
       "        /* gets rid of default border in Firefox and Opera. */\n",
       "        border: none;\n",
       "        /* Needs to be in here for Safari polyfill so background images work as expected. */\n",
       "        background-size: auto;\n",
       "    }\n",
       "    progress:not([value]), progress:not([value])::-webkit-progress-bar {\n",
       "        background: repeating-linear-gradient(45deg, #7e7e7e, #7e7e7e 10px, #5c5c5c 10px, #5c5c5c 20px);\n",
       "    }\n",
       "    .progress-bar-interrupted, .progress-bar-interrupted::-webkit-progress-bar {\n",
       "        background: #F44336;\n",
       "    }\n",
       "</style>\n"
      ],
      "text/plain": [
       "<IPython.core.display.HTML object>"
      ]
     },
     "metadata": {},
     "output_type": "display_data"
    },
    {
     "data": {
      "text/html": [
       "<table border=\"1\" class=\"dataframe\">\n",
       "  <thead>\n",
       "    <tr style=\"text-align: left;\">\n",
       "      <th>epoch</th>\n",
       "      <th>train_loss</th>\n",
       "      <th>valid_loss</th>\n",
       "      <th>mse</th>\n",
       "      <th>time</th>\n",
       "    </tr>\n",
       "  </thead>\n",
       "  <tbody>\n",
       "    <tr>\n",
       "      <td>0</td>\n",
       "      <td>5117917.500000</td>\n",
       "      <td>5074729.000000</td>\n",
       "      <td>5074729.000000</td>\n",
       "      <td>00:00</td>\n",
       "    </tr>\n",
       "    <tr>\n",
       "      <td>1</td>\n",
       "      <td>5108344.000000</td>\n",
       "      <td>5072931.500000</td>\n",
       "      <td>5072931.500000</td>\n",
       "      <td>00:00</td>\n",
       "    </tr>\n",
       "    <tr>\n",
       "      <td>2</td>\n",
       "      <td>5106670.500000</td>\n",
       "      <td>5070791.500000</td>\n",
       "      <td>5070791.500000</td>\n",
       "      <td>00:00</td>\n",
       "    </tr>\n",
       "    <tr>\n",
       "      <td>3</td>\n",
       "      <td>5097919.000000</td>\n",
       "      <td>5068640.000000</td>\n",
       "      <td>5068640.000000</td>\n",
       "      <td>00:00</td>\n",
       "    </tr>\n",
       "    <tr>\n",
       "      <td>4</td>\n",
       "      <td>5100142.000000</td>\n",
       "      <td>5066560.500000</td>\n",
       "      <td>5066560.500000</td>\n",
       "      <td>00:00</td>\n",
       "    </tr>\n",
       "    <tr>\n",
       "      <td>5</td>\n",
       "      <td>5082546.500000</td>\n",
       "      <td>5064120.500000</td>\n",
       "      <td>5064120.500000</td>\n",
       "      <td>00:00</td>\n",
       "    </tr>\n",
       "    <tr>\n",
       "      <td>6</td>\n",
       "      <td>5081728.500000</td>\n",
       "      <td>5057863.000000</td>\n",
       "      <td>5057863.000000</td>\n",
       "      <td>00:00</td>\n",
       "    </tr>\n",
       "    <tr>\n",
       "      <td>7</td>\n",
       "      <td>5103932.000000</td>\n",
       "      <td>5060843.500000</td>\n",
       "      <td>5060843.500000</td>\n",
       "      <td>00:00</td>\n",
       "    </tr>\n",
       "    <tr>\n",
       "      <td>8</td>\n",
       "      <td>5107096.500000</td>\n",
       "      <td>5054261.000000</td>\n",
       "      <td>5054261.000000</td>\n",
       "      <td>00:00</td>\n",
       "    </tr>\n",
       "    <tr>\n",
       "      <td>9</td>\n",
       "      <td>5099569.500000</td>\n",
       "      <td>5048762.000000</td>\n",
       "      <td>5048762.000000</td>\n",
       "      <td>00:00</td>\n",
       "    </tr>\n",
       "  </tbody>\n",
       "</table>"
      ],
      "text/plain": [
       "<IPython.core.display.HTML object>"
      ]
     },
     "metadata": {},
     "output_type": "display_data"
    }
   ],
   "source": [
    "# Create a Tabular Learner\n",
    "learn = tabular_learner(dls, metrics=mse)\n",
    "# Train the model\n",
    "learn.fit(n_epoch=10)"
   ]
  },
  {
   "cell_type": "code",
   "execution_count": 249,
   "metadata": {},
   "outputs": [
    {
     "data": {
      "text/html": [
       "\n",
       "<style>\n",
       "    /* Turns off some styling */\n",
       "    progress {\n",
       "        /* gets rid of default border in Firefox and Opera. */\n",
       "        border: none;\n",
       "        /* Needs to be in here for Safari polyfill so background images work as expected. */\n",
       "        background-size: auto;\n",
       "    }\n",
       "    progress:not([value]), progress:not([value])::-webkit-progress-bar {\n",
       "        background: repeating-linear-gradient(45deg, #7e7e7e, #7e7e7e 10px, #5c5c5c 10px, #5c5c5c 20px);\n",
       "    }\n",
       "    .progress-bar-interrupted, .progress-bar-interrupted::-webkit-progress-bar {\n",
       "        background: #F44336;\n",
       "    }\n",
       "</style>\n"
      ],
      "text/plain": [
       "<IPython.core.display.HTML object>"
      ]
     },
     "metadata": {},
     "output_type": "display_data"
    },
    {
     "data": {
      "text/html": [],
      "text/plain": [
       "<IPython.core.display.HTML object>"
      ]
     },
     "metadata": {},
     "output_type": "display_data"
    }
   ],
   "source": [
    "# Transform test data for prediction\n",
    "dl = learn.dls.test_dl(df_test)\n",
    "preds = learn.get_preds(dl=dl)\n",
    "\n",
    "# Reformat predictions\n",
    "preds = [x.item() for x in preds[0]]"
   ]
  },
  {
   "cell_type": "code",
   "execution_count": 236,
   "metadata": {},
   "outputs": [
    {
     "data": {
      "text/html": [
       "\n",
       "<style>\n",
       "    /* Turns off some styling */\n",
       "    progress {\n",
       "        /* gets rid of default border in Firefox and Opera. */\n",
       "        border: none;\n",
       "        /* Needs to be in here for Safari polyfill so background images work as expected. */\n",
       "        background-size: auto;\n",
       "    }\n",
       "    progress:not([value]), progress:not([value])::-webkit-progress-bar {\n",
       "        background: repeating-linear-gradient(45deg, #7e7e7e, #7e7e7e 10px, #5c5c5c 10px, #5c5c5c 20px);\n",
       "    }\n",
       "    .progress-bar-interrupted, .progress-bar-interrupted::-webkit-progress-bar {\n",
       "        background: #F44336;\n",
       "    }\n",
       "</style>\n"
      ],
      "text/plain": [
       "<IPython.core.display.HTML object>"
      ]
     },
     "metadata": {},
     "output_type": "display_data"
    },
    {
     "data": {
      "text/html": [
       "<table border=\"1\" class=\"dataframe\">\n",
       "  <thead>\n",
       "    <tr style=\"text-align: left;\">\n",
       "      <th>epoch</th>\n",
       "      <th>train_loss</th>\n",
       "      <th>valid_loss</th>\n",
       "      <th>mae</th>\n",
       "      <th>time</th>\n",
       "    </tr>\n",
       "  </thead>\n",
       "  <tbody>\n",
       "    <tr>\n",
       "      <td>0</td>\n",
       "      <td>5139587.000000</td>\n",
       "      <td>5076604.500000</td>\n",
       "      <td>2241.161865</td>\n",
       "      <td>00:00</td>\n",
       "    </tr>\n",
       "    <tr>\n",
       "      <td>1</td>\n",
       "      <td>5101363.500000</td>\n",
       "      <td>5076374.000000</td>\n",
       "      <td>2241.156494</td>\n",
       "      <td>00:00</td>\n",
       "    </tr>\n",
       "    <tr>\n",
       "      <td>2</td>\n",
       "      <td>5105875.500000</td>\n",
       "      <td>5075810.000000</td>\n",
       "      <td>2241.100586</td>\n",
       "      <td>00:00</td>\n",
       "    </tr>\n",
       "    <tr>\n",
       "      <td>3</td>\n",
       "      <td>5101450.500000</td>\n",
       "      <td>5075550.500000</td>\n",
       "      <td>2241.081543</td>\n",
       "      <td>00:00</td>\n",
       "    </tr>\n",
       "    <tr>\n",
       "      <td>4</td>\n",
       "      <td>5110882.000000</td>\n",
       "      <td>5074889.500000</td>\n",
       "      <td>2240.952393</td>\n",
       "      <td>00:00</td>\n",
       "    </tr>\n",
       "  </tbody>\n",
       "</table>"
      ],
      "text/plain": [
       "<IPython.core.display.HTML object>"
      ]
     },
     "metadata": {},
     "output_type": "display_data"
    }
   ],
   "source": [
    "learn.fit_one_cycle(5)"
   ]
  },
  {
   "cell_type": "code",
   "execution_count": 237,
   "metadata": {},
   "outputs": [
    {
     "data": {
      "text/html": [
       "\n",
       "<style>\n",
       "    /* Turns off some styling */\n",
       "    progress {\n",
       "        /* gets rid of default border in Firefox and Opera. */\n",
       "        border: none;\n",
       "        /* Needs to be in here for Safari polyfill so background images work as expected. */\n",
       "        background-size: auto;\n",
       "    }\n",
       "    progress:not([value]), progress:not([value])::-webkit-progress-bar {\n",
       "        background: repeating-linear-gradient(45deg, #7e7e7e, #7e7e7e 10px, #5c5c5c 10px, #5c5c5c 20px);\n",
       "    }\n",
       "    .progress-bar-interrupted, .progress-bar-interrupted::-webkit-progress-bar {\n",
       "        background: #F44336;\n",
       "    }\n",
       "</style>\n"
      ],
      "text/plain": [
       "<IPython.core.display.HTML object>"
      ]
     },
     "metadata": {},
     "output_type": "display_data"
    },
    {
     "data": {
      "text/html": [],
      "text/plain": [
       "<IPython.core.display.HTML object>"
      ]
     },
     "metadata": {},
     "output_type": "display_data"
    },
    {
     "data": {
      "text/html": [
       "<table border=\"1\" class=\"dataframe\">\n",
       "  <thead>\n",
       "    <tr style=\"text-align: right;\">\n",
       "      <th></th>\n",
       "      <th>result</th>\n",
       "      <th>ECO</th>\n",
       "      <th>total_moves</th>\n",
       "      <th>end_r</th>\n",
       "      <th>end_n</th>\n",
       "      <th>end_b</th>\n",
       "      <th>end_q</th>\n",
       "      <th>end_k</th>\n",
       "      <th>end_p</th>\n",
       "      <th>end_P</th>\n",
       "      <th>end_B</th>\n",
       "      <th>end_N</th>\n",
       "      <th>end_R</th>\n",
       "      <th>end_Q</th>\n",
       "      <th>end_K</th>\n",
       "      <th>queen_moved_at</th>\n",
       "      <th>total_checks</th>\n",
       "      <th>first_check_at</th>\n",
       "      <th>queen_changed_at</th>\n",
       "      <th>promotion</th>\n",
       "      <th>can_claim_draw</th>\n",
       "      <th>white_mean</th>\n",
       "      <th>white_std</th>\n",
       "      <th>white_min</th>\n",
       "      <th>white_max</th>\n",
       "      <th>black_mean</th>\n",
       "      <th>black_std</th>\n",
       "      <th>black_min</th>\n",
       "      <th>black_max</th>\n",
       "      <th>mean_elos</th>\n",
       "      <th>mean_elos_pred</th>\n",
       "    </tr>\n",
       "  </thead>\n",
       "  <tbody>\n",
       "    <tr>\n",
       "      <th>0</th>\n",
       "      <td>2.0</td>\n",
       "      <td>233.0</td>\n",
       "      <td>0.136571</td>\n",
       "      <td>-0.112881</td>\n",
       "      <td>-0.789868</td>\n",
       "      <td>0.499744</td>\n",
       "      <td>-0.977746</td>\n",
       "      <td>0.0</td>\n",
       "      <td>-0.635999</td>\n",
       "      <td>-0.101658</td>\n",
       "      <td>-0.939052</td>\n",
       "      <td>-0.841997</td>\n",
       "      <td>-1.480573</td>\n",
       "      <td>1.033047</td>\n",
       "      <td>0.0</td>\n",
       "      <td>-0.797802</td>\n",
       "      <td>0.708405</td>\n",
       "      <td>-0.312581</td>\n",
       "      <td>0.437735</td>\n",
       "      <td>-0.195639</td>\n",
       "      <td>-0.175862</td>\n",
       "      <td>-1.175328</td>\n",
       "      <td>-0.922107</td>\n",
       "      <td>0.291636</td>\n",
       "      <td>-0.850207</td>\n",
       "      <td>-1.069246</td>\n",
       "      <td>-0.872700</td>\n",
       "      <td>0.062760</td>\n",
       "      <td>-0.935904</td>\n",
       "      <td>2526.0</td>\n",
       "      <td>9.622443</td>\n",
       "    </tr>\n",
       "    <tr>\n",
       "      <th>1</th>\n",
       "      <td>2.0</td>\n",
       "      <td>72.0</td>\n",
       "      <td>1.197927</td>\n",
       "      <td>-1.421653</td>\n",
       "      <td>0.686520</td>\n",
       "      <td>-0.980980</td>\n",
       "      <td>-0.977746</td>\n",
       "      <td>0.0</td>\n",
       "      <td>-2.225997</td>\n",
       "      <td>-1.665626</td>\n",
       "      <td>-0.939052</td>\n",
       "      <td>-0.841997</td>\n",
       "      <td>-1.480573</td>\n",
       "      <td>1.033047</td>\n",
       "      <td>0.0</td>\n",
       "      <td>-1.031419</td>\n",
       "      <td>0.480714</td>\n",
       "      <td>0.770264</td>\n",
       "      <td>0.628503</td>\n",
       "      <td>3.621709</td>\n",
       "      <td>-0.175862</td>\n",
       "      <td>0.530556</td>\n",
       "      <td>0.370384</td>\n",
       "      <td>-0.675238</td>\n",
       "      <td>0.681189</td>\n",
       "      <td>-0.129114</td>\n",
       "      <td>0.296271</td>\n",
       "      <td>-0.913284</td>\n",
       "      <td>0.280507</td>\n",
       "      <td>2105.5</td>\n",
       "      <td>-0.501533</td>\n",
       "    </tr>\n",
       "    <tr>\n",
       "      <th>2</th>\n",
       "      <td>3.0</td>\n",
       "      <td>121.0</td>\n",
       "      <td>2.134417</td>\n",
       "      <td>-1.421653</td>\n",
       "      <td>-0.789868</td>\n",
       "      <td>-0.980980</td>\n",
       "      <td>-0.977746</td>\n",
       "      <td>0.0</td>\n",
       "      <td>-1.695998</td>\n",
       "      <td>-2.186949</td>\n",
       "      <td>-0.939052</td>\n",
       "      <td>0.675115</td>\n",
       "      <td>-1.480573</td>\n",
       "      <td>-0.968013</td>\n",
       "      <td>0.0</td>\n",
       "      <td>-1.031419</td>\n",
       "      <td>0.025331</td>\n",
       "      <td>-1.106668</td>\n",
       "      <td>3.490033</td>\n",
       "      <td>3.621709</td>\n",
       "      <td>-0.175862</td>\n",
       "      <td>-0.281247</td>\n",
       "      <td>-0.029983</td>\n",
       "      <td>0.224180</td>\n",
       "      <td>0.446313</td>\n",
       "      <td>-0.308282</td>\n",
       "      <td>-0.501175</td>\n",
       "      <td>0.121322</td>\n",
       "      <td>-0.420927</td>\n",
       "      <td>2422.5</td>\n",
       "      <td>-1.003433</td>\n",
       "    </tr>\n",
       "    <tr>\n",
       "      <th>3</th>\n",
       "      <td>3.0</td>\n",
       "      <td>64.0</td>\n",
       "      <td>1.759821</td>\n",
       "      <td>-1.421653</td>\n",
       "      <td>-0.789868</td>\n",
       "      <td>0.499744</td>\n",
       "      <td>-0.977746</td>\n",
       "      <td>0.0</td>\n",
       "      <td>-0.635999</td>\n",
       "      <td>-0.622981</td>\n",
       "      <td>0.514027</td>\n",
       "      <td>-0.841997</td>\n",
       "      <td>-1.480573</td>\n",
       "      <td>-0.968013</td>\n",
       "      <td>0.0</td>\n",
       "      <td>2.940071</td>\n",
       "      <td>-0.202361</td>\n",
       "      <td>1.997489</td>\n",
       "      <td>1.582347</td>\n",
       "      <td>-0.195639</td>\n",
       "      <td>-0.175862</td>\n",
       "      <td>-0.248109</td>\n",
       "      <td>-0.343944</td>\n",
       "      <td>0.471520</td>\n",
       "      <td>-0.032836</td>\n",
       "      <td>-0.162229</td>\n",
       "      <td>-0.324907</td>\n",
       "      <td>0.511740</td>\n",
       "      <td>-0.056892</td>\n",
       "      <td>1789.0</td>\n",
       "      <td>-0.142673</td>\n",
       "    </tr>\n",
       "    <tr>\n",
       "      <th>4</th>\n",
       "      <td>2.0</td>\n",
       "      <td>103.0</td>\n",
       "      <td>0.823331</td>\n",
       "      <td>-1.421653</td>\n",
       "      <td>-0.789868</td>\n",
       "      <td>0.499744</td>\n",
       "      <td>-0.977746</td>\n",
       "      <td>0.0</td>\n",
       "      <td>-1.695998</td>\n",
       "      <td>-0.622981</td>\n",
       "      <td>0.514027</td>\n",
       "      <td>-0.841997</td>\n",
       "      <td>-1.480573</td>\n",
       "      <td>-0.968013</td>\n",
       "      <td>0.0</td>\n",
       "      <td>-0.096951</td>\n",
       "      <td>-0.657744</td>\n",
       "      <td>1.925299</td>\n",
       "      <td>1.900294</td>\n",
       "      <td>-0.195639</td>\n",
       "      <td>-0.175862</td>\n",
       "      <td>0.942150</td>\n",
       "      <td>0.308351</td>\n",
       "      <td>0.404063</td>\n",
       "      <td>0.136275</td>\n",
       "      <td>0.967025</td>\n",
       "      <td>0.784973</td>\n",
       "      <td>-0.444783</td>\n",
       "      <td>1.097367</td>\n",
       "      <td>2069.0</td>\n",
       "      <td>-5.442462</td>\n",
       "    </tr>\n",
       "    <tr>\n",
       "      <th>5</th>\n",
       "      <td>3.0</td>\n",
       "      <td>360.0</td>\n",
       "      <td>0.448735</td>\n",
       "      <td>-0.112881</td>\n",
       "      <td>-0.789868</td>\n",
       "      <td>0.499744</td>\n",
       "      <td>-0.977746</td>\n",
       "      <td>0.0</td>\n",
       "      <td>-0.635999</td>\n",
       "      <td>0.419665</td>\n",
       "      <td>0.514027</td>\n",
       "      <td>-0.841997</td>\n",
       "      <td>-0.137650</td>\n",
       "      <td>-0.968013</td>\n",
       "      <td>0.0</td>\n",
       "      <td>2.472836</td>\n",
       "      <td>-0.202361</td>\n",
       "      <td>0.264936</td>\n",
       "      <td>1.518757</td>\n",
       "      <td>-0.195639</td>\n",
       "      <td>-0.175862</td>\n",
       "      <td>-0.477838</td>\n",
       "      <td>-0.608994</td>\n",
       "      <td>0.449034</td>\n",
       "      <td>-0.465009</td>\n",
       "      <td>-0.577019</td>\n",
       "      <td>-0.383407</td>\n",
       "      <td>0.199406</td>\n",
       "      <td>-0.154560</td>\n",
       "      <td>2466.0</td>\n",
       "      <td>1.283484</td>\n",
       "    </tr>\n",
       "    <tr>\n",
       "      <th>6</th>\n",
       "      <td>1.0</td>\n",
       "      <td>42.0</td>\n",
       "      <td>0.636033</td>\n",
       "      <td>-1.421653</td>\n",
       "      <td>0.686520</td>\n",
       "      <td>-0.980980</td>\n",
       "      <td>1.022757</td>\n",
       "      <td>0.0</td>\n",
       "      <td>0.424000</td>\n",
       "      <td>-0.622981</td>\n",
       "      <td>0.514027</td>\n",
       "      <td>-0.841997</td>\n",
       "      <td>-1.480573</td>\n",
       "      <td>1.033047</td>\n",
       "      <td>0.0</td>\n",
       "      <td>0.603900</td>\n",
       "      <td>0.936097</td>\n",
       "      <td>0.842454</td>\n",
       "      <td>-0.961236</td>\n",
       "      <td>-0.195639</td>\n",
       "      <td>-0.175862</td>\n",
       "      <td>0.143678</td>\n",
       "      <td>-0.008873</td>\n",
       "      <td>0.696374</td>\n",
       "      <td>-0.004651</td>\n",
       "      <td>-0.948698</td>\n",
       "      <td>-1.121014</td>\n",
       "      <td>0.316531</td>\n",
       "      <td>-0.971419</td>\n",
       "      <td>1912.5</td>\n",
       "      <td>5.771621</td>\n",
       "    </tr>\n",
       "    <tr>\n",
       "      <th>7</th>\n",
       "      <td>1.0</td>\n",
       "      <td>42.0</td>\n",
       "      <td>0.074139</td>\n",
       "      <td>1.195890</td>\n",
       "      <td>0.686520</td>\n",
       "      <td>0.499744</td>\n",
       "      <td>-0.977746</td>\n",
       "      <td>0.0</td>\n",
       "      <td>-0.635999</td>\n",
       "      <td>0.419665</td>\n",
       "      <td>-0.939052</td>\n",
       "      <td>-0.841997</td>\n",
       "      <td>1.205274</td>\n",
       "      <td>-0.968013</td>\n",
       "      <td>0.0</td>\n",
       "      <td>0.370283</td>\n",
       "      <td>-0.202361</td>\n",
       "      <td>-0.240392</td>\n",
       "      <td>0.564914</td>\n",
       "      <td>-0.195639</td>\n",
       "      <td>-0.175862</td>\n",
       "      <td>0.515831</td>\n",
       "      <td>0.906750</td>\n",
       "      <td>0.134238</td>\n",
       "      <td>1.827388</td>\n",
       "      <td>-0.599604</td>\n",
       "      <td>-0.294213</td>\n",
       "      <td>-1.576994</td>\n",
       "      <td>-0.740568</td>\n",
       "      <td>2587.5</td>\n",
       "      <td>-0.731685</td>\n",
       "    </tr>\n",
       "    <tr>\n",
       "      <th>8</th>\n",
       "      <td>2.0</td>\n",
       "      <td>113.0</td>\n",
       "      <td>0.823331</td>\n",
       "      <td>-0.112881</td>\n",
       "      <td>-0.789868</td>\n",
       "      <td>0.499744</td>\n",
       "      <td>-0.977746</td>\n",
       "      <td>0.0</td>\n",
       "      <td>-0.106000</td>\n",
       "      <td>0.419665</td>\n",
       "      <td>0.514027</td>\n",
       "      <td>-0.841997</td>\n",
       "      <td>-0.137650</td>\n",
       "      <td>-0.968013</td>\n",
       "      <td>0.0</td>\n",
       "      <td>-1.031419</td>\n",
       "      <td>-0.202361</td>\n",
       "      <td>0.842454</td>\n",
       "      <td>0.437735</td>\n",
       "      <td>-0.195639</td>\n",
       "      <td>-0.175862</td>\n",
       "      <td>-0.627691</td>\n",
       "      <td>-0.589558</td>\n",
       "      <td>-0.180558</td>\n",
       "      <td>-0.521379</td>\n",
       "      <td>-0.378013</td>\n",
       "      <td>-0.423613</td>\n",
       "      <td>0.160364</td>\n",
       "      <td>-0.509716</td>\n",
       "      <td>2272.5</td>\n",
       "      <td>4.144791</td>\n",
       "    </tr>\n",
       "  </tbody>\n",
       "</table>"
      ],
      "text/plain": [
       "<IPython.core.display.HTML object>"
      ]
     },
     "metadata": {},
     "output_type": "display_data"
    }
   ],
   "source": [
    "learn.show_results()"
   ]
  },
  {
   "cell_type": "code",
   "execution_count": 240,
   "metadata": {},
   "outputs": [
    {
     "data": {
      "text/html": [
       "\n",
       "<style>\n",
       "    /* Turns off some styling */\n",
       "    progress {\n",
       "        /* gets rid of default border in Firefox and Opera. */\n",
       "        border: none;\n",
       "        /* Needs to be in here for Safari polyfill so background images work as expected. */\n",
       "        background-size: auto;\n",
       "    }\n",
       "    progress:not([value]), progress:not([value])::-webkit-progress-bar {\n",
       "        background: repeating-linear-gradient(45deg, #7e7e7e, #7e7e7e 10px, #5c5c5c 10px, #5c5c5c 20px);\n",
       "    }\n",
       "    .progress-bar-interrupted, .progress-bar-interrupted::-webkit-progress-bar {\n",
       "        background: #F44336;\n",
       "    }\n",
       "</style>\n"
      ],
      "text/plain": [
       "<IPython.core.display.HTML object>"
      ]
     },
     "metadata": {},
     "output_type": "display_data"
    },
    {
     "data": {
      "text/html": [],
      "text/plain": [
       "<IPython.core.display.HTML object>"
      ]
     },
     "metadata": {},
     "output_type": "display_data"
    }
   ],
   "source": [
    "test_dl = learn.dls.test_dl(df_test)\n",
    "preds, _ = learn.get_preds(dl=test_dl)"
   ]
  },
  {
   "cell_type": "code",
   "execution_count": 242,
   "metadata": {},
   "outputs": [
    {
     "data": {
      "text/plain": [
       "tensor([[ 3.2833],\n",
       "        [-5.9331],\n",
       "        [ 1.3630],\n",
       "        ...,\n",
       "        [-5.3649],\n",
       "        [-3.6942],\n",
       "        [ 4.9687]])"
      ]
     },
     "execution_count": 242,
     "metadata": {},
     "output_type": "execute_result"
    }
   ],
   "source": [
    "preds"
   ]
  },
  {
   "cell_type": "code",
   "execution_count": 243,
   "metadata": {},
   "outputs": [
    {
     "data": {
      "text/plain": [
       "0       2491.5\n",
       "1       1957.0\n",
       "2       2318.5\n",
       "3       2121.5\n",
       "4       2345.5\n",
       "         ...  \n",
       "2395    2260.5\n",
       "2396    2178.5\n",
       "2397    2236.0\n",
       "2398    2546.5\n",
       "2399    2348.0\n",
       "Name: mean_elos, Length: 2395, dtype: float64"
      ]
     },
     "execution_count": 243,
     "metadata": {},
     "output_type": "execute_result"
    }
   ],
   "source": []
  }
 ],
 "metadata": {
  "kernelspec": {
   "display_name": "dsp_w",
   "language": "python",
   "name": "python3"
  },
  "language_info": {
   "codemirror_mode": {
    "name": "ipython",
    "version": 3
   },
   "file_extension": ".py",
   "mimetype": "text/x-python",
   "name": "python",
   "nbconvert_exporter": "python",
   "pygments_lexer": "ipython3",
   "version": "3.12.4"
  }
 },
 "nbformat": 4,
 "nbformat_minor": 2
}
